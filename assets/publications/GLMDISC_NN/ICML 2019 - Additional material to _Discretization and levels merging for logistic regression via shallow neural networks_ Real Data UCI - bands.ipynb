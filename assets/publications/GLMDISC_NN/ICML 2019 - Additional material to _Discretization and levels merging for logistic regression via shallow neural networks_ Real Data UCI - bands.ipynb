{
 "cells": [
  {
   "cell_type": "markdown",
   "metadata": {
    "colab_type": "text",
    "id": "YG2rOyfcuS51"
   },
   "source": [
    "# Loading real data"
   ]
  },
  {
   "cell_type": "code",
   "execution_count": 1,
   "metadata": {
    "colab": {},
    "colab_type": "code",
    "id": "bKQFa3L9uS52"
   },
   "outputs": [],
   "source": [
    "import random\n",
    "import numpy as np\n",
    "import pandas as pd\n",
    "import sklearn as sk\n",
    "import sklearn.metrics\n",
    "import scipy as sp"
   ]
  },
  {
   "cell_type": "code",
   "execution_count": 3,
   "metadata": {},
   "outputs": [],
   "source": [
    "\"\"\"\n",
    "Created on Tue Nov  6 10:06:52 2018\n",
    "\n",
    "@author: yandexdataschool\n",
    "\n",
    "Original Code found in:\n",
    "https://github.com/yandexdataschool/roc_comparison\n",
    "\n",
    "updated: Raul Sanchez-Vazquez\n",
    "\"\"\"\n",
    "\n",
    "import scipy.stats\n",
    "from scipy import stats\n",
    "\n",
    "# AUC comparison adapted from\n",
    "# https://github.com/Netflix/vmaf/\n",
    "def compute_midrank(x):\n",
    "    \"\"\"Computes midranks.\n",
    "    Args:\n",
    "       x - a 1D numpy array\n",
    "    Returns:\n",
    "       array of midranks\n",
    "    \"\"\"\n",
    "    J = np.argsort(x)\n",
    "    Z = x[J]\n",
    "    N = len(x)\n",
    "    T = np.zeros(N, dtype=np.float)\n",
    "    i = 0\n",
    "    while i < N:\n",
    "        j = i\n",
    "        while j < N and Z[j] == Z[i]:\n",
    "            j += 1\n",
    "        T[i:j] = 0.5*(i + j - 1)\n",
    "        i = j\n",
    "    T2 = np.empty(N, dtype=np.float)\n",
    "    # Note(kazeevn) +1 is due to Python using 0-based indexing\n",
    "    # instead of 1-based in the AUC formula in the paper\n",
    "    T2[J] = T + 1\n",
    "    return T2\n",
    "\n",
    "\n",
    "def compute_midrank_weight(x, sample_weight):\n",
    "    \"\"\"Computes midranks.\n",
    "    Args:\n",
    "       x - a 1D numpy array\n",
    "    Returns:\n",
    "       array of midranks\n",
    "    \"\"\"\n",
    "    J = np.argsort(x)\n",
    "    Z = x[J]\n",
    "    cumulative_weight = np.cumsum(sample_weight[J])\n",
    "    N = len(x)\n",
    "    T = np.zeros(N, dtype=np.float)\n",
    "    i = 0\n",
    "    while i < N:\n",
    "        j = i\n",
    "        while j < N and Z[j] == Z[i]:\n",
    "            j += 1\n",
    "        T[i:j] = cumulative_weight[i:j].mean()\n",
    "        i = j\n",
    "    T2 = np.empty(N, dtype=np.float)\n",
    "    T2[J] = T\n",
    "    return T2\n",
    "\n",
    "\n",
    "def fastDeLong(predictions_sorted_transposed, label_1_count, sample_weight):\n",
    "    if sample_weight is None:\n",
    "        return fastDeLong_no_weights(predictions_sorted_transposed, label_1_count)\n",
    "    else:\n",
    "        return fastDeLong_weights(predictions_sorted_transposed, label_1_count, sample_weight)\n",
    "\n",
    "\n",
    "def fastDeLong_weights(predictions_sorted_transposed, label_1_count, sample_weight):\n",
    "    \"\"\"\n",
    "    The fast version of DeLong's method for computing the covariance of\n",
    "    unadjusted AUC.\n",
    "    Args:\n",
    "       predictions_sorted_transposed: a 2D numpy.array[n_classifiers, n_examples]\n",
    "          sorted such as the examples with label \"1\" are first\n",
    "    Returns:\n",
    "       (AUC value, DeLong covariance)\n",
    "    Reference:\n",
    "     @article{sun2014fast,\n",
    "       title={Fast Implementation of DeLong's Algorithm for\n",
    "              Comparing the Areas Under Correlated Receiver Oerating Characteristic Curves},\n",
    "       author={Xu Sun and Weichao Xu},\n",
    "       journal={IEEE Signal Processing Letters},\n",
    "       volume={21},\n",
    "       number={11},\n",
    "       pages={1389--1393},\n",
    "       year={2014},\n",
    "       publisher={IEEE}\n",
    "     }\n",
    "    \"\"\"\n",
    "    # Short variables are named as they are in the paper\n",
    "    m = label_1_count\n",
    "    n = predictions_sorted_transposed.shape[1] - m\n",
    "    positive_examples = predictions_sorted_transposed[:, :m]\n",
    "    negative_examples = predictions_sorted_transposed[:, m:]\n",
    "    k = predictions_sorted_transposed.shape[0]\n",
    "\n",
    "    tx = np.empty([k, m], dtype=np.float)\n",
    "    ty = np.empty([k, n], dtype=np.float)\n",
    "    tz = np.empty([k, m + n], dtype=np.float)\n",
    "    for r in range(k):\n",
    "        tx[r, :] = compute_midrank_weight(positive_examples[r, :], sample_weight[:m])\n",
    "        ty[r, :] = compute_midrank_weight(negative_examples[r, :], sample_weight[m:])\n",
    "        tz[r, :] = compute_midrank_weight(predictions_sorted_transposed[r, :], sample_weight)\n",
    "    total_positive_weights = sample_weight[:m].sum()\n",
    "    total_negative_weights = sample_weight[m:].sum()\n",
    "    pair_weights = np.dot(sample_weight[:m, np.newaxis], sample_weight[np.newaxis, m:])\n",
    "    total_pair_weights = pair_weights.sum()\n",
    "    aucs = (sample_weight[:m]*(tz[:, :m] - tx)).sum(axis=1) / total_pair_weights\n",
    "    v01 = (tz[:, :m] - tx[:, :]) / total_negative_weights\n",
    "    v10 = 1. - (tz[:, m:] - ty[:, :]) / total_positive_weights\n",
    "    sx = np.cov(v01)\n",
    "    sy = np.cov(v10)\n",
    "    delongcov = sx / m + sy / n\n",
    "    return aucs, delongcov\n",
    "\n",
    "\n",
    "def fastDeLong_no_weights(predictions_sorted_transposed, label_1_count):\n",
    "    \"\"\"\n",
    "    The fast version of DeLong's method for computing the covariance of\n",
    "    unadjusted AUC.\n",
    "    Args:\n",
    "       predictions_sorted_transposed: a 2D numpy.array[n_classifiers, n_examples]\n",
    "          sorted such as the examples with label \"1\" are first\n",
    "    Returns:\n",
    "       (AUC value, DeLong covariance)\n",
    "    Reference:\n",
    "     @article{sun2014fast,\n",
    "       title={Fast Implementation of DeLong's Algorithm for\n",
    "              Comparing the Areas Under Correlated Receiver Oerating\n",
    "              Characteristic Curves},\n",
    "       author={Xu Sun and Weichao Xu},\n",
    "       journal={IEEE Signal Processing Letters},\n",
    "       volume={21},\n",
    "       number={11},\n",
    "       pages={1389--1393},\n",
    "       year={2014},\n",
    "       publisher={IEEE}\n",
    "     }\n",
    "    \"\"\"\n",
    "    # Short variables are named as they are in the paper\n",
    "    m = label_1_count\n",
    "    n = predictions_sorted_transposed.shape[1] - m\n",
    "    positive_examples = predictions_sorted_transposed[:, :m]\n",
    "    negative_examples = predictions_sorted_transposed[:, m:]\n",
    "    k = predictions_sorted_transposed.shape[0]\n",
    "\n",
    "    tx = np.empty([k, m], dtype=np.float)\n",
    "    ty = np.empty([k, n], dtype=np.float)\n",
    "    tz = np.empty([k, m + n], dtype=np.float)\n",
    "    for r in range(k):\n",
    "        tx[r, :] = compute_midrank(positive_examples[r, :])\n",
    "        ty[r, :] = compute_midrank(negative_examples[r, :])\n",
    "        tz[r, :] = compute_midrank(predictions_sorted_transposed[r, :])\n",
    "    aucs = tz[:, :m].sum(axis=1) / m / n - float(m + 1.0) / 2.0 / n\n",
    "    v01 = (tz[:, :m] - tx[:, :]) / n\n",
    "    v10 = 1.0 - (tz[:, m:] - ty[:, :]) / m\n",
    "    sx = np.cov(v01)\n",
    "    sy = np.cov(v10)\n",
    "    delongcov = sx / m + sy / n\n",
    "    return aucs, delongcov\n",
    "\n",
    "\n",
    "def calc_pvalue(aucs, sigma):\n",
    "    \"\"\"Computes log(10) of p-values.\n",
    "    Args:\n",
    "       aucs: 1D array of AUCs\n",
    "       sigma: AUC DeLong covariances\n",
    "    Returns:\n",
    "       log10(pvalue)\n",
    "    \"\"\"\n",
    "    l = np.array([[1, -1]])\n",
    "    z = np.abs(np.diff(aucs)) / np.sqrt(np.dot(np.dot(l, sigma), l.T))\n",
    "    return np.log10(2) + scipy.stats.norm.logsf(z, loc=0, scale=1) / np.log(10)\n",
    "\n",
    "\n",
    "def compute_ground_truth_statistics(ground_truth, sample_weight):\n",
    "    assert np.array_equal(np.unique(ground_truth), [0, 1])\n",
    "    order = (-ground_truth).argsort()\n",
    "    label_1_count = int(ground_truth.sum())\n",
    "    if sample_weight is None:\n",
    "        ordered_sample_weight = None\n",
    "    else:\n",
    "        ordered_sample_weight = sample_weight[order]\n",
    "\n",
    "    return order, label_1_count, ordered_sample_weight\n",
    "\n",
    "\n",
    "def delong_roc_variance(ground_truth, predictions, sample_weight=None):\n",
    "    \"\"\"\n",
    "    Computes ROC AUC variance for a single set of predictions\n",
    "    Args:\n",
    "       ground_truth: np.array of 0 and 1\n",
    "       predictions: np.array of floats of the probability of being class 1\n",
    "    \"\"\"\n",
    "    order, label_1_count, ordered_sample_weight = compute_ground_truth_statistics(\n",
    "        ground_truth, sample_weight)\n",
    "    predictions_sorted_transposed = predictions[np.newaxis, order]\n",
    "    aucs, delongcov = fastDeLong(predictions_sorted_transposed, label_1_count, ordered_sample_weight)\n",
    "    assert len(aucs) == 1, \"There is a bug in the code, please forward this to the developers\"\n",
    "    return aucs[0], delongcov"
   ]
  },
  {
   "cell_type": "code",
   "execution_count": 4,
   "metadata": {
    "colab": {},
    "colab_type": "code",
    "id": "VxF5gphPuS55"
   },
   "outputs": [],
   "source": [
    "column_names = [\n",
    "    'timestamp', 'cylinder', 'customer', 'job', 'grain', 'ink', 'proof',\n",
    "    'blade', 'cylinder1', 'paper', 'ink2', 'direct', 'solvent', 'type_cyl',\n",
    "    'press', 'press2', 'unit', 'cylinder2', 'paper2', 'plating', 'proof2',\n",
    "    'viscosity', 'caliper', 'ink3', 'humifity', 'roughness', 'blade2',\n",
    "    'varnish', 'press3', 'ink4', 'solvent2', 'ESA', 'ESA2', 'wax', 'hardener',\n",
    "    'roller', 'current', 'anode', 'chrome', 'band'\n",
    "]\n",
    "\n",
    "bands = pd.read_csv(\n",
    "    \"~/Google Drive/Discrétisation ICLR19/opendata/bands.data\",\n",
    "    sep=\",\",\n",
    "    names=column_names,\n",
    "    na_values=[\n",
    "        '#N/A', '#N/A', 'N/A', '#NA', '-1.#IND', '-1.#QNAN', '-NaN', '-nan',\n",
    "        '1.#IND', '1.#QNAN', 'N/A', 'NA', 'NULL', 'NaN', 'n/a', 'nan', 'null',\n",
    "        '.', '?'\n",
    "    ])"
   ]
  },
  {
   "cell_type": "code",
   "execution_count": 5,
   "metadata": {},
   "outputs": [],
   "source": [
    "bands.drop([\"timestamp\"],axis=1,inplace=True)"
   ]
  },
  {
   "cell_type": "code",
   "execution_count": 6,
   "metadata": {},
   "outputs": [],
   "source": [
    "for col in [    'cylinder',\n",
    "                'customer',\n",
    "                'grain',\n",
    "                'ink',\n",
    "                'proof',\n",
    "                'blade',\n",
    "                'cylinder1',\n",
    "                'paper',\n",
    "                'ink2',\n",
    "                'direct',\n",
    "                'solvent',\n",
    "                'type_cyl',\n",
    "                'press',\n",
    "               'cylinder2',\n",
    "               'paper2',\n",
    "               'caliper',\n",
    "               'band']:\n",
    "    \n",
    "    \n",
    "    bands[col] = bands[col].str.upper()\n"
   ]
  },
  {
   "cell_type": "code",
   "execution_count": 7,
   "metadata": {
    "colab": {},
    "colab_type": "code",
    "id": "F8XxgIViFNpL"
   },
   "outputs": [],
   "source": [
    "bands[[\n",
    "    'cylinder', 'customer', 'grain', 'ink', 'proof', 'blade', 'cylinder1',\n",
    "    'paper', 'ink2', 'direct', 'solvent', 'type_cyl', 'press', 'cylinder2',\n",
    "    'paper2', 'caliper'\n",
    "]] = bands[[\n",
    "    'cylinder', 'customer', 'grain', 'ink', 'proof', 'blade', 'cylinder1',\n",
    "    'paper', 'ink2', 'direct', 'solvent', 'type_cyl', 'press', 'cylinder2',\n",
    "    'paper2', 'caliper'\n",
    "]].fillna(value=\"missing\")"
   ]
  },
  {
   "cell_type": "code",
   "execution_count": 8,
   "metadata": {},
   "outputs": [],
   "source": [
    "bands.dropna(inplace=True)"
   ]
  },
  {
   "cell_type": "code",
   "execution_count": 9,
   "metadata": {},
   "outputs": [],
   "source": [
    "bands.band = sklearn.preprocessing.LabelEncoder().fit_transform(bands.band)"
   ]
  },
  {
   "cell_type": "code",
   "execution_count": 10,
   "metadata": {},
   "outputs": [],
   "source": [
    "bands[[\n",
    "    'press2', 'plating', 'proof2', 'viscosity', 'caliper', 'ink3', 'humifity',\n",
    "    'roughness', 'blade2', 'varnish', 'press3', 'ink4', 'solvent2', 'ESA',\n",
    "    'ESA2', 'wax', 'hardener', 'roller', 'current', 'anode', 'chrome'\n",
    "]] = bands[[    'press2', 'plating', 'proof2', 'viscosity', 'caliper', 'ink3', 'humifity',\n",
    "    'roughness', 'blade2', 'varnish', 'press3', 'ink4', 'solvent2', 'ESA',\n",
    "    'ESA2', 'wax', 'hardener', 'roller', 'current', 'anode', 'chrome'\n",
    "]].fillna(value=0.0)"
   ]
  },
  {
   "cell_type": "code",
   "execution_count": 11,
   "metadata": {
    "colab": {},
    "colab_type": "code",
    "id": "Ey_WW8EkFNpx"
   },
   "outputs": [],
   "source": [
    "bands.reset_index(inplace=True, drop=True)"
   ]
  },
  {
   "cell_type": "markdown",
   "metadata": {
    "colab_type": "text",
    "id": "8unEBe--uS59"
   },
   "source": [
    "# Establishing 1st benchmark: naïve logistic regression"
   ]
  },
  {
   "cell_type": "markdown",
   "metadata": {
    "colab_type": "text",
    "id": "8ZZidiG7uS6N"
   },
   "source": [
    "## Logistic Regression"
   ]
  },
  {
   "cell_type": "markdown",
   "metadata": {
    "colab_type": "text",
    "id": "5CST_74HuS6b"
   },
   "source": [
    "### Label Encoding"
   ]
  },
  {
   "cell_type": "code",
   "execution_count": 12,
   "metadata": {
    "colab": {},
    "colab_type": "code",
    "id": "urgkKgbK3-xk"
   },
   "outputs": [],
   "source": [
    "auto_label_encoders = []\n",
    "\n",
    "bands_encoded = bands.copy()\n",
    "\n",
    "for j in [\n",
    "            'cylinder', 'customer', 'grain', 'ink', 'proof', 'blade', 'cylinder1',\n",
    "    'paper', 'ink2', 'direct', 'solvent', 'type_cyl', 'press', 'cylinder2',\n",
    "    'paper2', 'caliper'\n",
    "\n",
    "]:\n",
    "    temp = sk.preprocessing.LabelEncoder()\n",
    "    temp.fit(bands[j].astype(str))\n",
    "    auto_label_encoders.append(temp)\n",
    "    bands_encoded[j] = temp.transform(bands[j].astype(str))"
   ]
  },
  {
   "cell_type": "markdown",
   "metadata": {
    "colab_type": "text",
    "id": "WLK8k1FukVRy"
   },
   "source": [
    "### One-hot encoding"
   ]
  },
  {
   "cell_type": "code",
   "execution_count": 13,
   "metadata": {
    "colab": {},
    "colab_type": "code",
    "id": "kp6MivXdk7ZK"
   },
   "outputs": [],
   "source": [
    "bands_one_hot_encoder = sk.preprocessing.OneHotEncoder(categories='auto',sparse=False,handle_unknown=\"ignore\")\n",
    "bands_one_hot_encoder.fit(bands_encoded[[\n",
    "        'cylinder', 'customer', 'grain', 'ink', 'proof', 'blade', 'cylinder1',\n",
    "    'paper', 'ink2', 'direct', 'solvent', 'type_cyl', 'press', 'cylinder2',\n",
    "    'paper2', 'caliper'\n",
    "\n",
    "]])\n",
    "bands_one_hot_encoded = bands_encoded.copy()\n",
    "bands_one_hot_encoded.drop(\n",
    "    [    'cylinder', 'customer', 'grain', 'ink', 'proof', 'blade', 'cylinder1',\n",
    "    'paper', 'ink2', 'direct', 'solvent', 'type_cyl', 'press', 'cylinder2',\n",
    "    'paper2', 'caliper'\n",
    "],\n",
    "    axis=1,\n",
    "    inplace=True)\n",
    "bands_one_hot_encoded = pd.concat(\n",
    "    [\n",
    "        bands_one_hot_encoded,\n",
    "        pd.DataFrame(\n",
    "            bands_one_hot_encoder.transform(bands_encoded[[\n",
    "                    'cylinder', 'customer', 'grain', 'ink', 'proof', 'blade', 'cylinder1',\n",
    "    'paper', 'ink2', 'direct', 'solvent', 'type_cyl', 'press', 'cylinder2',\n",
    "    'paper2', 'caliper'\n",
    "\n",
    "            ]]),\n",
    "            index=bands_one_hot_encoded.index)\n",
    "    ],\n",
    "    axis=1)"
   ]
  },
  {
   "cell_type": "markdown",
   "metadata": {
    "colab_type": "text",
    "id": "RbtYe1QcuS6O"
   },
   "source": [
    "### Data split"
   ]
  },
  {
   "cell_type": "code",
   "execution_count": 14,
   "metadata": {
    "colab": {},
    "colab_type": "code",
    "id": "IpyvBQ5yyguG"
   },
   "outputs": [],
   "source": [
    "import sklearn.model_selection"
   ]
  },
  {
   "cell_type": "code",
   "execution_count": 15,
   "metadata": {
    "colab": {},
    "colab_type": "code",
    "id": "dZG3E0cduS6P"
   },
   "outputs": [],
   "source": [
    "bands_features_train, bands_features_test, bands_perf_train, bands_perf_test = sk.model_selection.train_test_split(\n",
    "    bands_one_hot_encoded.drop('band', axis=1),\n",
    "    bands_one_hot_encoded.band,\n",
    "    test_size=0.33,\n",
    "    random_state=1)"
   ]
  },
  {
   "cell_type": "code",
   "execution_count": 16,
   "metadata": {
    "colab": {},
    "colab_type": "code",
    "id": "bmQ_Qyc7FNtt"
   },
   "outputs": [],
   "source": [
    "bands_nn_features_train = bands_encoded.iloc[\n",
    "    bands_features_train.index, :].drop(\n",
    "        'band', axis=1)\n",
    "bands_nn_features_test = bands_encoded.iloc[bands_features_test.index, :].drop(\n",
    "    'band', axis=1)\n",
    "bands_nn_perf_train = bands_encoded.iloc[\n",
    "    bands_features_train.index, :].band\n",
    "bands_nn_perf_test = bands_encoded.iloc[bands_features_test.index, :].band"
   ]
  },
  {
   "cell_type": "markdown",
   "metadata": {
    "colab_type": "text",
    "id": "V25o2mnLuS6m"
   },
   "source": [
    "### LR on train data"
   ]
  },
  {
   "cell_type": "code",
   "execution_count": 17,
   "metadata": {
    "colab": {},
    "colab_type": "code",
    "id": "gSInu6RZu1In"
   },
   "outputs": [],
   "source": [
    "import sklearn.linear_model"
   ]
  },
  {
   "cell_type": "code",
   "execution_count": 18,
   "metadata": {
    "colab": {
     "base_uri": "https://localhost:8080/",
     "height": 84
    },
    "colab_type": "code",
    "executionInfo": {
     "elapsed": 4033,
     "status": "ok",
     "timestamp": 1538123633392,
     "user": {
      "displayName": "Adrien Ehrhardt",
      "photoUrl": "",
      "userId": "06833975693225147439"
     },
     "user_tz": -120
    },
    "id": "Qx139VZfuS6n",
    "outputId": "35cec94c-273d-4a43-e214-3e4cd6527703"
   },
   "outputs": [
    {
     "name": "stderr",
     "output_type": "stream",
     "text": [
      "/anaconda3/lib/python3.6/site-packages/sklearn/utils/optimize.py:203: ConvergenceWarning: newton-cg failed to converge. Increase the number of iterations.\n",
      "  \"number of iterations.\", ConvergenceWarning)\n"
     ]
    },
    {
     "data": {
      "text/plain": [
       "LogisticRegression(C=1e+20, class_weight=None, dual=False, fit_intercept=True,\n",
       "          intercept_scaling=1, max_iter=100, multi_class='warn',\n",
       "          n_jobs=None, penalty='l2', random_state=None, solver='newton-cg',\n",
       "          tol=1e-08, verbose=0, warm_start=False)"
      ]
     },
     "execution_count": 18,
     "metadata": {},
     "output_type": "execute_result"
    }
   ],
   "source": [
    "bands_naive_LR = sk.linear_model.LogisticRegression(C=1e20, tol=1e-8, solver=\"newton-cg\")\n",
    "bands_naive_LR.fit(\n",
    "    bands_features_train[bands_features_train.isna().sum(axis=1) == 0],\n",
    "    bands_perf_train[bands_features_train.isna().sum(axis=1) == 0])"
   ]
  },
  {
   "cell_type": "markdown",
   "metadata": {
    "colab_type": "text",
    "id": "pMPUPbOiWwBC"
   },
   "source": [
    "### Application of learnt LR on test data"
   ]
  },
  {
   "cell_type": "code",
   "execution_count": 19,
   "metadata": {
    "colab": {
     "base_uri": "https://localhost:8080/",
     "height": 34
    },
    "colab_type": "code",
    "executionInfo": {
     "elapsed": 1548,
     "status": "ok",
     "timestamp": 1538123643056,
     "user": {
      "displayName": "Adrien Ehrhardt",
      "photoUrl": "",
      "userId": "06833975693225147439"
     },
     "user_tz": -120
    },
    "id": "UxknKgYpWu8f",
    "outputId": "3423083f-beec-4e25-8e41-2ff381345833"
   },
   "outputs": [
    {
     "data": {
      "text/plain": [
       "0.4833333333333334"
      ]
     },
     "execution_count": 19,
     "metadata": {},
     "output_type": "execute_result"
    }
   ],
   "source": [
    "2 * sk.metrics.roc_auc_score(\n",
    "    bands_perf_test,\n",
    "    bands_naive_LR.predict_proba(bands_features_test)[:, 1]) - 1"
   ]
  },
  {
   "cell_type": "code",
   "execution_count": 20,
   "metadata": {},
   "outputs": [
    {
     "name": "stdout",
     "output_type": "stream",
     "text": [
      "Gini: 0.48333333333333317\n",
      "AUC COV: 0.0020661063989521437\n",
      "95% Gini CI: [0.30515519 0.66151148]\n"
     ]
    }
   ],
   "source": [
    "alpha = .95\n",
    "y_pred = bands_naive_LR.predict_proba(bands_features_test)[:, 1]\n",
    "y_true = bands_perf_test\n",
    "\n",
    "auc, auc_cov = delong_roc_variance(\n",
    "    y_true,\n",
    "    y_pred)\n",
    "\n",
    "auc_std = np.sqrt(auc_cov)\n",
    "lower_upper_q = np.abs(np.array([0, 1]) - (1 - alpha) / 2)\n",
    "\n",
    "ci = stats.norm.ppf(\n",
    "    lower_upper_q,\n",
    "    loc=auc,\n",
    "    scale=auc_std)\n",
    "\n",
    "ci[ci > 1] = 1\n",
    "\n",
    "print('Gini:', 2*auc-1)\n",
    "print('AUC COV:', auc_cov)\n",
    "print('95% Gini CI:', 2*ci-1)"
   ]
  },
  {
   "cell_type": "markdown",
   "metadata": {
    "colab_type": "text",
    "id": "Lltm03RFFNux"
   },
   "source": [
    "# Establishing 2nd benchmark: MDLP disc + Chi2 grouping"
   ]
  },
  {
   "cell_type": "markdown",
   "metadata": {
    "colab_type": "text",
    "id": "KakuZgryFNuy"
   },
   "source": [
    "## MDLP disc"
   ]
  },
  {
   "cell_type": "code",
   "execution_count": 21,
   "metadata": {
    "colab": {},
    "colab_type": "code",
    "id": "KHT84QcIFNuz"
   },
   "outputs": [],
   "source": [
    "from mdlp.discretization import MDLP\n",
    "transformer_cont_bands = MDLP()"
   ]
  },
  {
   "cell_type": "code",
   "execution_count": 22,
   "metadata": {
    "colab": {},
    "colab_type": "code",
    "id": "1BLWiHfKFNu-"
   },
   "outputs": [
    {
     "data": {
      "text/plain": [
       "MDLP(continuous_features=None, min_depth=0, random_state=None, shuffle=True)"
      ]
     },
     "execution_count": 22,
     "metadata": {},
     "output_type": "execute_result"
    }
   ],
   "source": [
    "transformer_cont_bands.fit(\n",
    "    bands_nn_features_train[[\n",
    "'press2', 'plating', 'proof2', 'viscosity', 'caliper', 'ink3', 'humifity',\n",
    "    'roughness', 'blade2', 'varnish', 'press3', 'ink4', 'solvent2', 'ESA',\n",
    "    'ESA2', 'wax', 'hardener', 'roller', 'current', 'anode', 'chrome'    ]], bands_nn_perf_train)"
   ]
  },
  {
   "cell_type": "code",
   "execution_count": 23,
   "metadata": {},
   "outputs": [
    {
     "data": {
      "text/plain": [
       "OneHotEncoder(categorical_features=None, categories='auto',\n",
       "       dtype=<class 'numpy.float64'>, handle_unknown='ignore',\n",
       "       n_values=None, sparse=False)"
      ]
     },
     "execution_count": 23,
     "metadata": {},
     "output_type": "execute_result"
    }
   ],
   "source": [
    "score_bands_MDLP_one_hot_encoder = sk.preprocessing.OneHotEncoder(categories='auto',sparse=False,handle_unknown=\"ignore\")\n",
    "score_bands_MDLP_one_hot_encoder.fit(\n",
    "    transformer_cont_bands.transform(bands_nn_features_train[[\n",
    "'press2', 'plating', 'proof2', 'viscosity', 'caliper', 'ink3', 'humifity',\n",
    "    'roughness', 'blade2', 'varnish', 'press3', 'ink4', 'solvent2', 'ESA',\n",
    "    'ESA2', 'wax', 'hardener', 'roller', 'current', 'anode', 'chrome'    ]]))"
   ]
  },
  {
   "cell_type": "markdown",
   "metadata": {
    "colab_type": "text",
    "id": "fpiqEx5iFNvg"
   },
   "source": [
    "## Grouping"
   ]
  },
  {
   "cell_type": "code",
   "execution_count": 24,
   "metadata": {},
   "outputs": [],
   "source": [
    "def chi2_test(liste):\n",
    "    try:\n",
    "        return sp.stats.chi2_contingency(liste)[1]\n",
    "    except Exception:\n",
    "        return 1"
   ]
  },
  {
   "cell_type": "code",
   "execution_count": 26,
   "metadata": {},
   "outputs": [
    {
     "name": "stderr",
     "output_type": "stream",
     "text": [
      "/anaconda3/lib/python3.6/site-packages/pandas/core/indexing.py:189: SettingWithCopyWarning: \n",
      "A value is trying to be set on a copy of a slice from a DataFrame\n",
      "\n",
      "See the caveats in the documentation: http://pandas.pydata.org/pandas-docs/stable/indexing.html#indexing-view-versus-copy\n",
      "  self._setitem_with_indexer(indexer, value)\n"
     ]
    },
    {
     "name": "stdout",
     "output_type": "stream",
     "text": [
      "Feature cylinder - levels merged : ['AA11', 'AA17']\n",
      "Feature cylinder - levels merged : ['AA11 - AA17', 'E26']\n",
      "Feature cylinder - levels merged : ['AA11 - AA17 - E26', 'E303']\n",
      "Feature cylinder - levels merged : ['AA11 - AA17 - E26 - E303', 'E310']\n",
      "Feature cylinder - levels merged : ['AA11 - AA17 - E26 - E303 - E310', 'E69']\n",
      "Feature cylinder - levels merged : ['AA11 - AA17 - E26 - E303 - E310 - E69', 'E72']\n",
      "Feature cylinder - levels merged : ['AA11 - AA17 - E26 - E303 - E310 - E69 - E72', 'E74']\n",
      "Feature cylinder - levels merged : ['AA11 - AA17 - E26 - E303 - E310 - E69 - E72 - E74', 'E77']\n",
      "Feature cylinder - levels merged : ['AA11 - AA17 - E26 - E303 - E310 - E69 - E72 - E74 - E77', 'E86']\n",
      "Feature cylinder - levels merged : ['AA11 - AA17 - E26 - E303 - E310 - E69 - E72 - E74 - E77 - E86', 'E90']\n",
      "Feature cylinder - levels merged : ['AA11 - AA17 - E26 - E303 - E310 - E69 - E72 - E74 - E77 - E86 - E90', 'F067']\n",
      "Feature cylinder - levels merged : ['AA11 - AA17 - E26 - E303 - E310 - E69 - E72 - E74 - E77 - E86 - E90 - F067', 'F121']\n",
      "Feature cylinder - levels merged : ['AA11 - AA17 - E26 - E303 - E310 - E69 - E72 - E74 - E77 - E86 - E90 - F067 - F121', 'F131']\n",
      "Feature cylinder - levels merged : ['AA11 - AA17 - E26 - E303 - E310 - E69 - E72 - E74 - E77 - E86 - E90 - F067 - F121 - F131', 'F146']\n",
      "Feature cylinder - levels merged : ['AA11 - AA17 - E26 - E303 - E310 - E69 - E72 - E74 - E77 - E86 - E90 - F067 - F121 - F131 - F146', 'F159']\n",
      "Feature cylinder - levels merged : ['AA11 - AA17 - E26 - E303 - E310 - E69 - E72 - E74 - E77 - E86 - E90 - F067 - F121 - F131 - F146 - F159', 'F169']\n",
      "Feature cylinder - levels merged : ['AA11 - AA17 - E26 - E303 - E310 - E69 - E72 - E74 - E77 - E86 - E90 - F067 - F121 - F131 - F146 - F159 - F169', 'F25']\n",
      "Feature cylinder - levels merged : ['AA11 - AA17 - E26 - E303 - E310 - E69 - E72 - E74 - E77 - E86 - E90 - F067 - F121 - F131 - F146 - F159 - F169 - F25', 'F264']\n",
      "Feature cylinder - levels merged : ['AA11 - AA17 - E26 - E303 - E310 - E69 - E72 - E74 - E77 - E86 - E90 - F067 - F121 - F131 - F146 - F159 - F169 - F25 - F264', 'F331']\n",
      "Feature cylinder - levels merged : ['AA11 - AA17 - E26 - E303 - E310 - E69 - E72 - E74 - E77 - E86 - E90 - F067 - F121 - F131 - F146 - F159 - F169 - F25 - F264 - F331', 'F372']\n",
      "Feature cylinder - levels merged : ['AA11 - AA17 - E26 - E303 - E310 - E69 - E72 - E74 - E77 - E86 - E90 - F067 - F121 - F131 - F146 - F159 - F169 - F25 - F264 - F331 - F372', 'F383']\n",
      "Feature cylinder - levels merged : ['AA11 - AA17 - E26 - E303 - E310 - E69 - E72 - E74 - E77 - E86 - E90 - F067 - F121 - F131 - F146 - F159 - F169 - F25 - F264 - F331 - F372 - F383', 'F571']\n",
      "Feature cylinder - levels merged : ['AA11 - AA17 - E26 - E303 - E310 - E69 - E72 - E74 - E77 - E86 - E90 - F067 - F121 - F131 - F146 - F159 - F169 - F25 - F264 - F331 - F372 - F383 - F571', 'F601']\n",
      "Feature cylinder - levels merged : ['AA11 - AA17 - E26 - E303 - E310 - E69 - E72 - E74 - E77 - E86 - E90 - F067 - F121 - F131 - F146 - F159 - F169 - F25 - F264 - F331 - F372 - F383 - F571 - F601', 'F374']\n",
      "Feature cylinder - levels merged : ['AA11 - AA17 - E26 - E303 - E310 - E69 - E72 - E74 - E77 - E86 - E90 - F067 - F121 - F131 - F146 - F159 - F169 - F25 - F264 - F331 - F372 - F383 - F571 - F601 - F374', 'F672']\n",
      "Feature cylinder - levels merged : ['AA11 - AA17 - E26 - E303 - E310 - E69 - E72 - E74 - E77 - E86 - E90 - F067 - F121 - F131 - F146 - F159 - F169 - F25 - F264 - F331 - F372 - F383 - F571 - F601 - F374 - F672', 'F685']\n",
      "Feature cylinder - levels merged : ['AA11 - AA17 - E26 - E303 - E310 - E69 - E72 - E74 - E77 - E86 - E90 - F067 - F121 - F131 - F146 - F159 - F169 - F25 - F264 - F331 - F372 - F383 - F571 - F601 - F374 - F672 - F685', 'F72']\n",
      "Feature cylinder - levels merged : ['AA11 - AA17 - E26 - E303 - E310 - E69 - E72 - E74 - E77 - E86 - E90 - F067 - F121 - F131 - F146 - F159 - F169 - F25 - F264 - F331 - F372 - F383 - F571 - F601 - F374 - F672 - F685 - F72', 'F76']\n",
      "Feature cylinder - levels merged : ['AA11 - AA17 - E26 - E303 - E310 - E69 - E72 - E74 - E77 - E86 - E90 - F067 - F121 - F131 - F146 - F159 - F169 - F25 - F264 - F331 - F372 - F383 - F571 - F601 - F374 - F672 - F685 - F72 - F76', 'F98']\n",
      "Feature cylinder - levels merged : ['AA11 - AA17 - E26 - E303 - E310 - E69 - E72 - E74 - E77 - E86 - E90 - F067 - F121 - F131 - F146 - F159 - F169 - F25 - F264 - F331 - F372 - F383 - F571 - F601 - F374 - F672 - F685 - F72 - F76 - F98', 'G150']\n",
      "Feature cylinder - levels merged : ['AA11 - AA17 - E26 - E303 - E310 - E69 - E72 - E74 - E77 - E86 - E90 - F067 - F121 - F131 - F146 - F159 - F169 - F25 - F264 - F331 - F372 - F383 - F571 - F601 - F374 - F672 - F685 - F72 - F76 - F98 - G150', 'G3']\n",
      "Feature cylinder - levels merged : ['AA11 - AA17 - E26 - E303 - E310 - E69 - E72 - E74 - E77 - E86 - E90 - F067 - F121 - F131 - F146 - F159 - F169 - F25 - F264 - F331 - F372 - F383 - F571 - F601 - F374 - F672 - F685 - F72 - F76 - F98 - G150 - G3', 'G416']\n",
      "Feature cylinder - levels merged : ['AA11 - AA17 - E26 - E303 - E310 - E69 - E72 - E74 - E77 - E86 - E90 - F067 - F121 - F131 - F146 - F159 - F169 - F25 - F264 - F331 - F372 - F383 - F571 - F601 - F374 - F672 - F685 - F72 - F76 - F98 - G150 - G3 - G416', 'G462']\n",
      "Feature cylinder - levels merged : ['AA11 - AA17 - E26 - E303 - E310 - E69 - E72 - E74 - E77 - E86 - E90 - F067 - F121 - F131 - F146 - F159 - F169 - F25 - F264 - F331 - F372 - F383 - F571 - F601 - F374 - F672 - F685 - F72 - F76 - F98 - G150 - G3 - G416 - G462', 'G467']\n",
      "Feature cylinder - levels merged : ['AA11 - AA17 - E26 - E303 - E310 - E69 - E72 - E74 - E77 - E86 - E90 - F067 - F121 - F131 - F146 - F159 - F169 - F25 - F264 - F331 - F372 - F383 - F571 - F601 - F374 - F672 - F685 - F72 - F76 - F98 - G150 - G3 - G416 - G462 - G467', 'G48']\n",
      "Feature cylinder - levels merged : ['AA11 - AA17 - E26 - E303 - E310 - E69 - E72 - E74 - E77 - E86 - E90 - F067 - F121 - F131 - F146 - F159 - F169 - F25 - F264 - F331 - F372 - F383 - F571 - F601 - F374 - F672 - F685 - F72 - F76 - F98 - G150 - G3 - G416 - G462 - G467 - G48', 'G496']\n",
      "Feature cylinder - levels merged : ['AA11 - AA17 - E26 - E303 - E310 - E69 - E72 - E74 - E77 - E86 - E90 - F067 - F121 - F131 - F146 - F159 - F169 - F25 - F264 - F331 - F372 - F383 - F571 - F601 - F374 - F672 - F685 - F72 - F76 - F98 - G150 - G3 - G416 - G462 - G467 - G48 - G496', 'G5']\n",
      "Feature cylinder - levels merged : ['AA11 - AA17 - E26 - E303 - E310 - E69 - E72 - E74 - E77 - E86 - E90 - F067 - F121 - F131 - F146 - F159 - F169 - F25 - F264 - F331 - F372 - F383 - F571 - F601 - F374 - F672 - F685 - F72 - F76 - F98 - G150 - G3 - G416 - G462 - G467 - G48 - G496 - G5', 'G55']\n",
      "Feature cylinder - levels merged : ['AA11 - AA17 - E26 - E303 - E310 - E69 - E72 - E74 - E77 - E86 - E90 - F067 - F121 - F131 - F146 - F159 - F169 - F25 - F264 - F331 - F372 - F383 - F571 - F601 - F374 - F672 - F685 - F72 - F76 - F98 - G150 - G3 - G416 - G462 - G467 - G48 - G496 - G5 - G55', 'G60']\n",
      "Feature cylinder - levels merged : ['AA11 - AA17 - E26 - E303 - E310 - E69 - E72 - E74 - E77 - E86 - E90 - F067 - F121 - F131 - F146 - F159 - F169 - F25 - F264 - F331 - F372 - F383 - F571 - F601 - F374 - F672 - F685 - F72 - F76 - F98 - G150 - G3 - G416 - G462 - G467 - G48 - G496 - G5 - G55 - G60', 'G604']\n",
      "Feature cylinder - levels merged : ['AA11 - AA17 - E26 - E303 - E310 - E69 - E72 - E74 - E77 - E86 - E90 - F067 - F121 - F131 - F146 - F159 - F169 - F25 - F264 - F331 - F372 - F383 - F571 - F601 - F374 - F672 - F685 - F72 - F76 - F98 - G150 - G3 - G416 - G462 - G467 - G48 - G496 - G5 - G55 - G60 - G604', 'G608']\n",
      "Feature cylinder - levels merged : ['AA11 - AA17 - E26 - E303 - E310 - E69 - E72 - E74 - E77 - E86 - E90 - F067 - F121 - F131 - F146 - F159 - F169 - F25 - F264 - F331 - F372 - F383 - F571 - F601 - F374 - F672 - F685 - F72 - F76 - F98 - G150 - G3 - G416 - G462 - G467 - G48 - G496 - G5 - G55 - G60 - G604 - G608', 'G634']\n",
      "Feature cylinder - levels merged : ['AA11 - AA17 - E26 - E303 - E310 - E69 - E72 - E74 - E77 - E86 - E90 - F067 - F121 - F131 - F146 - F159 - F169 - F25 - F264 - F331 - F372 - F383 - F571 - F601 - F374 - F672 - F685 - F72 - F76 - F98 - G150 - G3 - G416 - G462 - G467 - G48 - G496 - G5 - G55 - G60 - G604 - G608 - G634', 'G640']\n",
      "Feature cylinder - levels merged : ['AA11 - AA17 - E26 - E303 - E310 - E69 - E72 - E74 - E77 - E86 - E90 - F067 - F121 - F131 - F146 - F159 - F169 - F25 - F264 - F331 - F372 - F383 - F571 - F601 - F374 - F672 - F685 - F72 - F76 - F98 - G150 - G3 - G416 - G462 - G467 - G48 - G496 - G5 - G55 - G60 - G604 - G608 - G634 - G640', 'G69']\n"
     ]
    },
    {
     "name": "stdout",
     "output_type": "stream",
     "text": [
      "Feature cylinder - levels merged : ['AA11 - AA17 - E26 - E303 - E310 - E69 - E72 - E74 - E77 - E86 - E90 - F067 - F121 - F131 - F146 - F159 - F169 - F25 - F264 - F331 - F372 - F383 - F571 - F601 - F374 - F672 - F685 - F72 - F76 - F98 - G150 - G3 - G416 - G462 - G467 - G48 - G496 - G5 - G55 - G60 - G604 - G608 - G634 - G640 - G69', 'G71']\n",
      "Feature cylinder - levels merged : ['AA11 - AA17 - E26 - E303 - E310 - E69 - E72 - E74 - E77 - E86 - E90 - F067 - F121 - F131 - F146 - F159 - F169 - F25 - F264 - F331 - F372 - F383 - F571 - F601 - F374 - F672 - F685 - F72 - F76 - F98 - G150 - G3 - G416 - G462 - G467 - G48 - G496 - G5 - G55 - G60 - G604 - G608 - G634 - G640 - G69 - G71', 'G84']\n",
      "Feature cylinder - levels merged : ['AA11 - AA17 - E26 - E303 - E310 - E69 - E72 - E74 - E77 - E86 - E90 - F067 - F121 - F131 - F146 - F159 - F169 - F25 - F264 - F331 - F372 - F383 - F571 - F601 - F374 - F672 - F685 - F72 - F76 - F98 - G150 - G3 - G416 - G462 - G467 - G48 - G496 - G5 - G55 - G60 - G604 - G608 - G634 - G640 - G69 - G71 - G84', 'G95']\n",
      "Feature cylinder - levels merged : ['AA11 - AA17 - E26 - E303 - E310 - E69 - E72 - E74 - E77 - E86 - E90 - F067 - F121 - F131 - F146 - F159 - F169 - F25 - F264 - F331 - F372 - F383 - F571 - F601 - F374 - F672 - F685 - F72 - F76 - F98 - G150 - G3 - G416 - G462 - G467 - G48 - G496 - G5 - G55 - G60 - G604 - G608 - G634 - G640 - G69 - G71 - G84 - G95', 'G98']\n",
      "Feature cylinder - levels merged : ['AA11 - AA17 - E26 - E303 - E310 - E69 - E72 - E74 - E77 - E86 - E90 - F067 - F121 - F131 - F146 - F159 - F169 - F25 - F264 - F331 - F372 - F383 - F571 - F601 - F374 - F672 - F685 - F72 - F76 - F98 - G150 - G3 - G416 - G462 - G467 - G48 - G496 - G5 - G55 - G60 - G604 - G608 - G634 - G640 - G69 - G71 - G84 - G95 - G98', 'I301']\n",
      "Feature cylinder - levels merged : ['AA11 - AA17 - E26 - E303 - E310 - E69 - E72 - E74 - E77 - E86 - E90 - F067 - F121 - F131 - F146 - F159 - F169 - F25 - F264 - F331 - F372 - F383 - F571 - F601 - F374 - F672 - F685 - F72 - F76 - F98 - G150 - G3 - G416 - G462 - G467 - G48 - G496 - G5 - G55 - G60 - G604 - G608 - G634 - G640 - G69 - G71 - G84 - G95 - G98 - I301', 'I303']\n",
      "Feature cylinder - levels merged : ['AA11 - AA17 - E26 - E303 - E310 - E69 - E72 - E74 - E77 - E86 - E90 - F067 - F121 - F131 - F146 - F159 - F169 - F25 - F264 - F331 - F372 - F383 - F571 - F601 - F374 - F672 - F685 - F72 - F76 - F98 - G150 - G3 - G416 - G462 - G467 - G48 - G496 - G5 - G55 - G60 - G604 - G608 - G634 - G640 - G69 - G71 - G84 - G95 - G98 - I301 - I303', 'I309']\n",
      "Feature cylinder - levels merged : ['AA11 - AA17 - E26 - E303 - E310 - E69 - E72 - E74 - E77 - E86 - E90 - F067 - F121 - F131 - F146 - F159 - F169 - F25 - F264 - F331 - F372 - F383 - F571 - F601 - F374 - F672 - F685 - F72 - F76 - F98 - G150 - G3 - G416 - G462 - G467 - G48 - G496 - G5 - G55 - G60 - G604 - G608 - G634 - G640 - G69 - G71 - G84 - G95 - G98 - I301 - I303 - I309', 'I317']\n",
      "Feature cylinder - levels merged : ['AA11 - AA17 - E26 - E303 - E310 - E69 - E72 - E74 - E77 - E86 - E90 - F067 - F121 - F131 - F146 - F159 - F169 - F25 - F264 - F331 - F372 - F383 - F571 - F601 - F374 - F672 - F685 - F72 - F76 - F98 - G150 - G3 - G416 - G462 - G467 - G48 - G496 - G5 - G55 - G60 - G604 - G608 - G634 - G640 - G69 - G71 - G84 - G95 - G98 - I301 - I303 - I309 - I317', 'F679']\n",
      "Feature cylinder - levels merged : ['AA11 - AA17 - E26 - E303 - E310 - E69 - E72 - E74 - E77 - E86 - E90 - F067 - F121 - F131 - F146 - F159 - F169 - F25 - F264 - F331 - F372 - F383 - F571 - F601 - F374 - F672 - F685 - F72 - F76 - F98 - G150 - G3 - G416 - G462 - G467 - G48 - G496 - G5 - G55 - G60 - G604 - G608 - G634 - G640 - G69 - G71 - G84 - G95 - G98 - I301 - I303 - I309 - I317 - F679', 'G407']\n",
      "Feature cylinder - levels merged : ['AA11 - AA17 - E26 - E303 - E310 - E69 - E72 - E74 - E77 - E86 - E90 - F067 - F121 - F131 - F146 - F159 - F169 - F25 - F264 - F331 - F372 - F383 - F571 - F601 - F374 - F672 - F685 - F72 - F76 - F98 - G150 - G3 - G416 - G462 - G467 - G48 - G496 - G5 - G55 - G60 - G604 - G608 - G634 - G640 - G69 - G71 - G84 - G95 - G98 - I301 - I303 - I309 - I317 - F679 - G407', 'G518']\n",
      "Feature cylinder - levels merged : ['AA11 - AA17 - E26 - E303 - E310 - E69 - E72 - E74 - E77 - E86 - E90 - F067 - F121 - F131 - F146 - F159 - F169 - F25 - F264 - F331 - F372 - F383 - F571 - F601 - F374 - F672 - F685 - F72 - F76 - F98 - G150 - G3 - G416 - G462 - G467 - G48 - G496 - G5 - G55 - G60 - G604 - G608 - G634 - G640 - G69 - G71 - G84 - G95 - G98 - I301 - I303 - I309 - I317 - F679 - G407 - G518', 'I320']\n",
      "Feature cylinder - levels merged : ['AA11 - AA17 - E26 - E303 - E310 - E69 - E72 - E74 - E77 - E86 - E90 - F067 - F121 - F131 - F146 - F159 - F169 - F25 - F264 - F331 - F372 - F383 - F571 - F601 - F374 - F672 - F685 - F72 - F76 - F98 - G150 - G3 - G416 - G462 - G467 - G48 - G496 - G5 - G55 - G60 - G604 - G608 - G634 - G640 - G69 - G71 - G84 - G95 - G98 - I301 - I303 - I309 - I317 - F679 - G407 - G518 - I320', 'I337']\n",
      "Feature cylinder - levels merged : ['AA11 - AA17 - E26 - E303 - E310 - E69 - E72 - E74 - E77 - E86 - E90 - F067 - F121 - F131 - F146 - F159 - F169 - F25 - F264 - F331 - F372 - F383 - F571 - F601 - F374 - F672 - F685 - F72 - F76 - F98 - G150 - G3 - G416 - G462 - G467 - G48 - G496 - G5 - G55 - G60 - G604 - G608 - G634 - G640 - G69 - G71 - G84 - G95 - G98 - I301 - I303 - I309 - I317 - F679 - G407 - G518 - I320 - I337', 'I343']\n",
      "Feature cylinder - levels merged : ['AA11 - AA17 - E26 - E303 - E310 - E69 - E72 - E74 - E77 - E86 - E90 - F067 - F121 - F131 - F146 - F159 - F169 - F25 - F264 - F331 - F372 - F383 - F571 - F601 - F374 - F672 - F685 - F72 - F76 - F98 - G150 - G3 - G416 - G462 - G467 - G48 - G496 - G5 - G55 - G60 - G604 - G608 - G634 - G640 - G69 - G71 - G84 - G95 - G98 - I301 - I303 - I309 - I317 - F679 - G407 - G518 - I320 - I337 - I343', 'I349']\n",
      "Feature cylinder - levels merged : ['AA11 - AA17 - E26 - E303 - E310 - E69 - E72 - E74 - E77 - E86 - E90 - F067 - F121 - F131 - F146 - F159 - F169 - F25 - F264 - F331 - F372 - F383 - F571 - F601 - F374 - F672 - F685 - F72 - F76 - F98 - G150 - G3 - G416 - G462 - G467 - G48 - G496 - G5 - G55 - G60 - G604 - G608 - G634 - G640 - G69 - G71 - G84 - G95 - G98 - I301 - I303 - I309 - I317 - F679 - G407 - G518 - I320 - I337 - I343 - I349', 'I353']\n",
      "Feature cylinder - levels merged : ['AA11 - AA17 - E26 - E303 - E310 - E69 - E72 - E74 - E77 - E86 - E90 - F067 - F121 - F131 - F146 - F159 - F169 - F25 - F264 - F331 - F372 - F383 - F571 - F601 - F374 - F672 - F685 - F72 - F76 - F98 - G150 - G3 - G416 - G462 - G467 - G48 - G496 - G5 - G55 - G60 - G604 - G608 - G634 - G640 - G69 - G71 - G84 - G95 - G98 - I301 - I303 - I309 - I317 - F679 - G407 - G518 - I320 - I337 - I343 - I349 - I353', 'I354']\n",
      "Feature cylinder - levels merged : ['AA11 - AA17 - E26 - E303 - E310 - E69 - E72 - E74 - E77 - E86 - E90 - F067 - F121 - F131 - F146 - F159 - F169 - F25 - F264 - F331 - F372 - F383 - F571 - F601 - F374 - F672 - F685 - F72 - F76 - F98 - G150 - G3 - G416 - G462 - G467 - G48 - G496 - G5 - G55 - G60 - G604 - G608 - G634 - G640 - G69 - G71 - G84 - G95 - G98 - I301 - I303 - I309 - I317 - F679 - G407 - G518 - I320 - I337 - I343 - I349 - I353 - I354', 'I358']\n",
      "Feature cylinder - levels merged : ['AA11 - AA17 - E26 - E303 - E310 - E69 - E72 - E74 - E77 - E86 - E90 - F067 - F121 - F131 - F146 - F159 - F169 - F25 - F264 - F331 - F372 - F383 - F571 - F601 - F374 - F672 - F685 - F72 - F76 - F98 - G150 - G3 - G416 - G462 - G467 - G48 - G496 - G5 - G55 - G60 - G604 - G608 - G634 - G640 - G69 - G71 - G84 - G95 - G98 - I301 - I303 - I309 - I317 - F679 - G407 - G518 - I320 - I337 - I343 - I349 - I353 - I354 - I358', 'J34']\n",
      "Feature cylinder - levels merged : ['AA11 - AA17 - E26 - E303 - E310 - E69 - E72 - E74 - E77 - E86 - E90 - F067 - F121 - F131 - F146 - F159 - F169 - F25 - F264 - F331 - F372 - F383 - F571 - F601 - F374 - F672 - F685 - F72 - F76 - F98 - G150 - G3 - G416 - G462 - G467 - G48 - G496 - G5 - G55 - G60 - G604 - G608 - G634 - G640 - G69 - G71 - G84 - G95 - G98 - I301 - I303 - I309 - I317 - F679 - G407 - G518 - I320 - I337 - I343 - I349 - I353 - I354 - I358 - J34', 'J42']\n",
      "Feature cylinder - levels merged : ['AA11 - AA17 - E26 - E303 - E310 - E69 - E72 - E74 - E77 - E86 - E90 - F067 - F121 - F131 - F146 - F159 - F169 - F25 - F264 - F331 - F372 - F383 - F571 - F601 - F374 - F672 - F685 - F72 - F76 - F98 - G150 - G3 - G416 - G462 - G467 - G48 - G496 - G5 - G55 - G60 - G604 - G608 - G634 - G640 - G69 - G71 - G84 - G95 - G98 - I301 - I303 - I309 - I317 - F679 - G407 - G518 - I320 - I337 - I343 - I349 - I353 - I354 - I358 - J34 - J42', 'J43']\n"
     ]
    },
    {
     "name": "stdout",
     "output_type": "stream",
     "text": [
      "Feature cylinder - levels merged : ['AA11 - AA17 - E26 - E303 - E310 - E69 - E72 - E74 - E77 - E86 - E90 - F067 - F121 - F131 - F146 - F159 - F169 - F25 - F264 - F331 - F372 - F383 - F571 - F601 - F374 - F672 - F685 - F72 - F76 - F98 - G150 - G3 - G416 - G462 - G467 - G48 - G496 - G5 - G55 - G60 - G604 - G608 - G634 - G640 - G69 - G71 - G84 - G95 - G98 - I301 - I303 - I309 - I317 - F679 - G407 - G518 - I320 - I337 - I343 - I349 - I353 - I354 - I358 - J34 - J42 - J43', 'J582']\n",
      "Feature cylinder - levels merged : ['AA11 - AA17 - E26 - E303 - E310 - E69 - E72 - E74 - E77 - E86 - E90 - F067 - F121 - F131 - F146 - F159 - F169 - F25 - F264 - F331 - F372 - F383 - F571 - F601 - F374 - F672 - F685 - F72 - F76 - F98 - G150 - G3 - G416 - G462 - G467 - G48 - G496 - G5 - G55 - G60 - G604 - G608 - G634 - G640 - G69 - G71 - G84 - G95 - G98 - I301 - I303 - I309 - I317 - F679 - G407 - G518 - I320 - I337 - I343 - I349 - I353 - I354 - I358 - J34 - J42 - J43 - J582', 'J6']\n",
      "Feature cylinder - levels merged : ['AA11 - AA17 - E26 - E303 - E310 - E69 - E72 - E74 - E77 - E86 - E90 - F067 - F121 - F131 - F146 - F159 - F169 - F25 - F264 - F331 - F372 - F383 - F571 - F601 - F374 - F672 - F685 - F72 - F76 - F98 - G150 - G3 - G416 - G462 - G467 - G48 - G496 - G5 - G55 - G60 - G604 - G608 - G634 - G640 - G69 - G71 - G84 - G95 - G98 - I301 - I303 - I309 - I317 - F679 - G407 - G518 - I320 - I337 - I343 - I349 - I353 - I354 - I358 - J34 - J42 - J43 - J582 - J6', 'J60']\n",
      "Feature cylinder - levels merged : ['AA11 - AA17 - E26 - E303 - E310 - E69 - E72 - E74 - E77 - E86 - E90 - F067 - F121 - F131 - F146 - F159 - F169 - F25 - F264 - F331 - F372 - F383 - F571 - F601 - F374 - F672 - F685 - F72 - F76 - F98 - G150 - G3 - G416 - G462 - G467 - G48 - G496 - G5 - G55 - G60 - G604 - G608 - G634 - G640 - G69 - G71 - G84 - G95 - G98 - I301 - I303 - I309 - I317 - F679 - G407 - G518 - I320 - I337 - I343 - I349 - I353 - I354 - I358 - J34 - J42 - J43 - J582 - J6 - J60', 'J68']\n",
      "Feature cylinder - levels merged : ['AA11 - AA17 - E26 - E303 - E310 - E69 - E72 - E74 - E77 - E86 - E90 - F067 - F121 - F131 - F146 - F159 - F169 - F25 - F264 - F331 - F372 - F383 - F571 - F601 - F374 - F672 - F685 - F72 - F76 - F98 - G150 - G3 - G416 - G462 - G467 - G48 - G496 - G5 - G55 - G60 - G604 - G608 - G634 - G640 - G69 - G71 - G84 - G95 - G98 - I301 - I303 - I309 - I317 - F679 - G407 - G518 - I320 - I337 - I343 - I349 - I353 - I354 - I358 - J34 - J42 - J43 - J582 - J6 - J60 - J68', 'M200']\n",
      "Feature cylinder - levels merged : ['AA11 - AA17 - E26 - E303 - E310 - E69 - E72 - E74 - E77 - E86 - E90 - F067 - F121 - F131 - F146 - F159 - F169 - F25 - F264 - F331 - F372 - F383 - F571 - F601 - F374 - F672 - F685 - F72 - F76 - F98 - G150 - G3 - G416 - G462 - G467 - G48 - G496 - G5 - G55 - G60 - G604 - G608 - G634 - G640 - G69 - G71 - G84 - G95 - G98 - I301 - I303 - I309 - I317 - F679 - G407 - G518 - I320 - I337 - I343 - I349 - I353 - I354 - I358 - J34 - J42 - J43 - J582 - J6 - J60 - J68 - M200', 'M374']\n",
      "Feature cylinder - levels merged : ['AA11 - AA17 - E26 - E303 - E310 - E69 - E72 - E74 - E77 - E86 - E90 - F067 - F121 - F131 - F146 - F159 - F169 - F25 - F264 - F331 - F372 - F383 - F571 - F601 - F374 - F672 - F685 - F72 - F76 - F98 - G150 - G3 - G416 - G462 - G467 - G48 - G496 - G5 - G55 - G60 - G604 - G608 - G634 - G640 - G69 - G71 - G84 - G95 - G98 - I301 - I303 - I309 - I317 - F679 - G407 - G518 - I320 - I337 - I343 - I349 - I353 - I354 - I358 - J34 - J42 - J43 - J582 - J6 - J60 - J68 - M200 - M374', 'M402']\n",
      "Feature cylinder - levels merged : ['AA11 - AA17 - E26 - E303 - E310 - E69 - E72 - E74 - E77 - E86 - E90 - F067 - F121 - F131 - F146 - F159 - F169 - F25 - F264 - F331 - F372 - F383 - F571 - F601 - F374 - F672 - F685 - F72 - F76 - F98 - G150 - G3 - G416 - G462 - G467 - G48 - G496 - G5 - G55 - G60 - G604 - G608 - G634 - G640 - G69 - G71 - G84 - G95 - G98 - I301 - I303 - I309 - I317 - F679 - G407 - G518 - I320 - I337 - I343 - I349 - I353 - I354 - I358 - J34 - J42 - J43 - J582 - J6 - J60 - J68 - M200 - M374 - M402', 'M432']\n",
      "Feature cylinder - levels merged : ['AA11 - AA17 - E26 - E303 - E310 - E69 - E72 - E74 - E77 - E86 - E90 - F067 - F121 - F131 - F146 - F159 - F169 - F25 - F264 - F331 - F372 - F383 - F571 - F601 - F374 - F672 - F685 - F72 - F76 - F98 - G150 - G3 - G416 - G462 - G467 - G48 - G496 - G5 - G55 - G60 - G604 - G608 - G634 - G640 - G69 - G71 - G84 - G95 - G98 - I301 - I303 - I309 - I317 - F679 - G407 - G518 - I320 - I337 - I343 - I349 - I353 - I354 - I358 - J34 - J42 - J43 - J582 - J6 - J60 - J68 - M200 - M374 - M402 - M432', 'M45']\n",
      "Feature cylinder - levels merged : ['AA11 - AA17 - E26 - E303 - E310 - E69 - E72 - E74 - E77 - E86 - E90 - F067 - F121 - F131 - F146 - F159 - F169 - F25 - F264 - F331 - F372 - F383 - F571 - F601 - F374 - F672 - F685 - F72 - F76 - F98 - G150 - G3 - G416 - G462 - G467 - G48 - G496 - G5 - G55 - G60 - G604 - G608 - G634 - G640 - G69 - G71 - G84 - G95 - G98 - I301 - I303 - I309 - I317 - F679 - G407 - G518 - I320 - I337 - I343 - I349 - I353 - I354 - I358 - J34 - J42 - J43 - J582 - J6 - J60 - J68 - M200 - M374 - M402 - M432 - M45', 'M65']\n",
      "Feature cylinder - levels merged : ['AA11 - AA17 - E26 - E303 - E310 - E69 - E72 - E74 - E77 - E86 - E90 - F067 - F121 - F131 - F146 - F159 - F169 - F25 - F264 - F331 - F372 - F383 - F571 - F601 - F374 - F672 - F685 - F72 - F76 - F98 - G150 - G3 - G416 - G462 - G467 - G48 - G496 - G5 - G55 - G60 - G604 - G608 - G634 - G640 - G69 - G71 - G84 - G95 - G98 - I301 - I303 - I309 - I317 - F679 - G407 - G518 - I320 - I337 - I343 - I349 - I353 - I354 - I358 - J34 - J42 - J43 - J582 - J6 - J60 - J68 - M200 - M374 - M402 - M432 - M45 - M65', 'O14']\n",
      "Feature cylinder - levels merged : ['AA11 - AA17 - E26 - E303 - E310 - E69 - E72 - E74 - E77 - E86 - E90 - F067 - F121 - F131 - F146 - F159 - F169 - F25 - F264 - F331 - F372 - F383 - F571 - F601 - F374 - F672 - F685 - F72 - F76 - F98 - G150 - G3 - G416 - G462 - G467 - G48 - G496 - G5 - G55 - G60 - G604 - G608 - G634 - G640 - G69 - G71 - G84 - G95 - G98 - I301 - I303 - I309 - I317 - F679 - G407 - G518 - I320 - I337 - I343 - I349 - I353 - I354 - I358 - J34 - J42 - J43 - J582 - J6 - J60 - J68 - M200 - M374 - M402 - M432 - M45 - M65 - O14', 'O15']\n",
      "Feature cylinder - levels merged : ['AA11 - AA17 - E26 - E303 - E310 - E69 - E72 - E74 - E77 - E86 - E90 - F067 - F121 - F131 - F146 - F159 - F169 - F25 - F264 - F331 - F372 - F383 - F571 - F601 - F374 - F672 - F685 - F72 - F76 - F98 - G150 - G3 - G416 - G462 - G467 - G48 - G496 - G5 - G55 - G60 - G604 - G608 - G634 - G640 - G69 - G71 - G84 - G95 - G98 - I301 - I303 - I309 - I317 - F679 - G407 - G518 - I320 - I337 - I343 - I349 - I353 - I354 - I358 - J34 - J42 - J43 - J582 - J6 - J60 - J68 - M200 - M374 - M402 - M432 - M45 - M65 - O14 - O15', 'O21']\n",
      "Feature cylinder - levels merged : ['AA11 - AA17 - E26 - E303 - E310 - E69 - E72 - E74 - E77 - E86 - E90 - F067 - F121 - F131 - F146 - F159 - F169 - F25 - F264 - F331 - F372 - F383 - F571 - F601 - F374 - F672 - F685 - F72 - F76 - F98 - G150 - G3 - G416 - G462 - G467 - G48 - G496 - G5 - G55 - G60 - G604 - G608 - G634 - G640 - G69 - G71 - G84 - G95 - G98 - I301 - I303 - I309 - I317 - F679 - G407 - G518 - I320 - I337 - I343 - I349 - I353 - I354 - I358 - J34 - J42 - J43 - J582 - J6 - J60 - J68 - M200 - M374 - M402 - M432 - M45 - M65 - O14 - O15 - O21', 'O4']\n",
      "Feature cylinder - levels merged : ['AA11 - AA17 - E26 - E303 - E310 - E69 - E72 - E74 - E77 - E86 - E90 - F067 - F121 - F131 - F146 - F159 - F169 - F25 - F264 - F331 - F372 - F383 - F571 - F601 - F374 - F672 - F685 - F72 - F76 - F98 - G150 - G3 - G416 - G462 - G467 - G48 - G496 - G5 - G55 - G60 - G604 - G608 - G634 - G640 - G69 - G71 - G84 - G95 - G98 - I301 - I303 - I309 - I317 - F679 - G407 - G518 - I320 - I337 - I343 - I349 - I353 - I354 - I358 - J34 - J42 - J43 - J582 - J6 - J60 - J68 - M200 - M374 - M402 - M432 - M45 - M65 - O14 - O15 - O21 - O4', 'O6']\n",
      "Feature cylinder - levels merged : ['AA11 - AA17 - E26 - E303 - E310 - E69 - E72 - E74 - E77 - E86 - E90 - F067 - F121 - F131 - F146 - F159 - F169 - F25 - F264 - F331 - F372 - F383 - F571 - F601 - F374 - F672 - F685 - F72 - F76 - F98 - G150 - G3 - G416 - G462 - G467 - G48 - G496 - G5 - G55 - G60 - G604 - G608 - G634 - G640 - G69 - G71 - G84 - G95 - G98 - I301 - I303 - I309 - I317 - F679 - G407 - G518 - I320 - I337 - I343 - I349 - I353 - I354 - I358 - J34 - J42 - J43 - J582 - J6 - J60 - J68 - M200 - M374 - M402 - M432 - M45 - M65 - O14 - O15 - O21 - O4 - O6', 'O7']\n"
     ]
    },
    {
     "name": "stdout",
     "output_type": "stream",
     "text": [
      "Feature cylinder - levels merged : ['AA11 - AA17 - E26 - E303 - E310 - E69 - E72 - E74 - E77 - E86 - E90 - F067 - F121 - F131 - F146 - F159 - F169 - F25 - F264 - F331 - F372 - F383 - F571 - F601 - F374 - F672 - F685 - F72 - F76 - F98 - G150 - G3 - G416 - G462 - G467 - G48 - G496 - G5 - G55 - G60 - G604 - G608 - G634 - G640 - G69 - G71 - G84 - G95 - G98 - I301 - I303 - I309 - I317 - F679 - G407 - G518 - I320 - I337 - I343 - I349 - I353 - I354 - I358 - J34 - J42 - J43 - J582 - J6 - J60 - J68 - M200 - M374 - M402 - M432 - M45 - M65 - O14 - O15 - O21 - O4 - O6 - O7', 'O8']\n",
      "Feature cylinder - levels merged : ['AA11 - AA17 - E26 - E303 - E310 - E69 - E72 - E74 - E77 - E86 - E90 - F067 - F121 - F131 - F146 - F159 - F169 - F25 - F264 - F331 - F372 - F383 - F571 - F601 - F374 - F672 - F685 - F72 - F76 - F98 - G150 - G3 - G416 - G462 - G467 - G48 - G496 - G5 - G55 - G60 - G604 - G608 - G634 - G640 - G69 - G71 - G84 - G95 - G98 - I301 - I303 - I309 - I317 - F679 - G407 - G518 - I320 - I337 - I343 - I349 - I353 - I354 - I358 - J34 - J42 - J43 - J582 - J6 - J60 - J68 - M200 - M374 - M402 - M432 - M45 - M65 - O14 - O15 - O21 - O4 - O6 - O7 - O8', 'R1']\n",
      "Feature cylinder - levels merged : ['AA11 - AA17 - E26 - E303 - E310 - E69 - E72 - E74 - E77 - E86 - E90 - F067 - F121 - F131 - F146 - F159 - F169 - F25 - F264 - F331 - F372 - F383 - F571 - F601 - F374 - F672 - F685 - F72 - F76 - F98 - G150 - G3 - G416 - G462 - G467 - G48 - G496 - G5 - G55 - G60 - G604 - G608 - G634 - G640 - G69 - G71 - G84 - G95 - G98 - I301 - I303 - I309 - I317 - F679 - G407 - G518 - I320 - I337 - I343 - I349 - I353 - I354 - I358 - J34 - J42 - J43 - J582 - J6 - J60 - J68 - M200 - M374 - M402 - M432 - M45 - M65 - O14 - O15 - O21 - O4 - O6 - O7 - O8 - R1', 'R15']\n",
      "Feature cylinder - levels merged : ['AA11 - AA17 - E26 - E303 - E310 - E69 - E72 - E74 - E77 - E86 - E90 - F067 - F121 - F131 - F146 - F159 - F169 - F25 - F264 - F331 - F372 - F383 - F571 - F601 - F374 - F672 - F685 - F72 - F76 - F98 - G150 - G3 - G416 - G462 - G467 - G48 - G496 - G5 - G55 - G60 - G604 - G608 - G634 - G640 - G69 - G71 - G84 - G95 - G98 - I301 - I303 - I309 - I317 - F679 - G407 - G518 - I320 - I337 - I343 - I349 - I353 - I354 - I358 - J34 - J42 - J43 - J582 - J6 - J60 - J68 - M200 - M374 - M402 - M432 - M45 - M65 - O14 - O15 - O21 - O4 - O6 - O7 - O8 - R1 - R15', 'R17']\n",
      "Feature cylinder - levels merged : ['AA11 - AA17 - E26 - E303 - E310 - E69 - E72 - E74 - E77 - E86 - E90 - F067 - F121 - F131 - F146 - F159 - F169 - F25 - F264 - F331 - F372 - F383 - F571 - F601 - F374 - F672 - F685 - F72 - F76 - F98 - G150 - G3 - G416 - G462 - G467 - G48 - G496 - G5 - G55 - G60 - G604 - G608 - G634 - G640 - G69 - G71 - G84 - G95 - G98 - I301 - I303 - I309 - I317 - F679 - G407 - G518 - I320 - I337 - I343 - I349 - I353 - I354 - I358 - J34 - J42 - J43 - J582 - J6 - J60 - J68 - M200 - M374 - M402 - M432 - M45 - M65 - O14 - O15 - O21 - O4 - O6 - O7 - O8 - R1 - R15 - R17', 'R2']\n",
      "Feature cylinder - levels merged : ['AA11 - AA17 - E26 - E303 - E310 - E69 - E72 - E74 - E77 - E86 - E90 - F067 - F121 - F131 - F146 - F159 - F169 - F25 - F264 - F331 - F372 - F383 - F571 - F601 - F374 - F672 - F685 - F72 - F76 - F98 - G150 - G3 - G416 - G462 - G467 - G48 - G496 - G5 - G55 - G60 - G604 - G608 - G634 - G640 - G69 - G71 - G84 - G95 - G98 - I301 - I303 - I309 - I317 - F679 - G407 - G518 - I320 - I337 - I343 - I349 - I353 - I354 - I358 - J34 - J42 - J43 - J582 - J6 - J60 - J68 - M200 - M374 - M402 - M432 - M45 - M65 - O14 - O15 - O21 - O4 - O6 - O7 - O8 - R1 - R15 - R17 - R2', 'R22']\n",
      "Feature cylinder - levels merged : ['AA11 - AA17 - E26 - E303 - E310 - E69 - E72 - E74 - E77 - E86 - E90 - F067 - F121 - F131 - F146 - F159 - F169 - F25 - F264 - F331 - F372 - F383 - F571 - F601 - F374 - F672 - F685 - F72 - F76 - F98 - G150 - G3 - G416 - G462 - G467 - G48 - G496 - G5 - G55 - G60 - G604 - G608 - G634 - G640 - G69 - G71 - G84 - G95 - G98 - I301 - I303 - I309 - I317 - F679 - G407 - G518 - I320 - I337 - I343 - I349 - I353 - I354 - I358 - J34 - J42 - J43 - J582 - J6 - J60 - J68 - M200 - M374 - M402 - M432 - M45 - M65 - O14 - O15 - O21 - O4 - O6 - O7 - O8 - R1 - R15 - R17 - R2 - R22', 'R23']\n",
      "Feature cylinder - levels merged : ['AA11 - AA17 - E26 - E303 - E310 - E69 - E72 - E74 - E77 - E86 - E90 - F067 - F121 - F131 - F146 - F159 - F169 - F25 - F264 - F331 - F372 - F383 - F571 - F601 - F374 - F672 - F685 - F72 - F76 - F98 - G150 - G3 - G416 - G462 - G467 - G48 - G496 - G5 - G55 - G60 - G604 - G608 - G634 - G640 - G69 - G71 - G84 - G95 - G98 - I301 - I303 - I309 - I317 - F679 - G407 - G518 - I320 - I337 - I343 - I349 - I353 - I354 - I358 - J34 - J42 - J43 - J582 - J6 - J60 - J68 - M200 - M374 - M402 - M432 - M45 - M65 - O14 - O15 - O21 - O4 - O6 - O7 - O8 - R1 - R15 - R17 - R2 - R22 - R23', 'R3']\n",
      "Feature cylinder - levels merged : ['AA11 - AA17 - E26 - E303 - E310 - E69 - E72 - E74 - E77 - E86 - E90 - F067 - F121 - F131 - F146 - F159 - F169 - F25 - F264 - F331 - F372 - F383 - F571 - F601 - F374 - F672 - F685 - F72 - F76 - F98 - G150 - G3 - G416 - G462 - G467 - G48 - G496 - G5 - G55 - G60 - G604 - G608 - G634 - G640 - G69 - G71 - G84 - G95 - G98 - I301 - I303 - I309 - I317 - F679 - G407 - G518 - I320 - I337 - I343 - I349 - I353 - I354 - I358 - J34 - J42 - J43 - J582 - J6 - J60 - J68 - M200 - M374 - M402 - M432 - M45 - M65 - O14 - O15 - O21 - O4 - O6 - O7 - O8 - R1 - R15 - R17 - R2 - R22 - R23 - R3', 'R32']\n",
      "Feature cylinder - levels merged : ['AA11 - AA17 - E26 - E303 - E310 - E69 - E72 - E74 - E77 - E86 - E90 - F067 - F121 - F131 - F146 - F159 - F169 - F25 - F264 - F331 - F372 - F383 - F571 - F601 - F374 - F672 - F685 - F72 - F76 - F98 - G150 - G3 - G416 - G462 - G467 - G48 - G496 - G5 - G55 - G60 - G604 - G608 - G634 - G640 - G69 - G71 - G84 - G95 - G98 - I301 - I303 - I309 - I317 - F679 - G407 - G518 - I320 - I337 - I343 - I349 - I353 - I354 - I358 - J34 - J42 - J43 - J582 - J6 - J60 - J68 - M200 - M374 - M402 - M432 - M45 - M65 - O14 - O15 - O21 - O4 - O6 - O7 - O8 - R1 - R15 - R17 - R2 - R22 - R23 - R3 - R32', 'R34']\n",
      "Feature cylinder - levels merged : ['AA11 - AA17 - E26 - E303 - E310 - E69 - E72 - E74 - E77 - E86 - E90 - F067 - F121 - F131 - F146 - F159 - F169 - F25 - F264 - F331 - F372 - F383 - F571 - F601 - F374 - F672 - F685 - F72 - F76 - F98 - G150 - G3 - G416 - G462 - G467 - G48 - G496 - G5 - G55 - G60 - G604 - G608 - G634 - G640 - G69 - G71 - G84 - G95 - G98 - I301 - I303 - I309 - I317 - F679 - G407 - G518 - I320 - I337 - I343 - I349 - I353 - I354 - I358 - J34 - J42 - J43 - J582 - J6 - J60 - J68 - M200 - M374 - M402 - M432 - M45 - M65 - O14 - O15 - O21 - O4 - O6 - O7 - O8 - R1 - R15 - R17 - R2 - R22 - R23 - R3 - R32 - R34', 'R43']\n",
      "Feature cylinder - levels merged : ['AA11 - AA17 - E26 - E303 - E310 - E69 - E72 - E74 - E77 - E86 - E90 - F067 - F121 - F131 - F146 - F159 - F169 - F25 - F264 - F331 - F372 - F383 - F571 - F601 - F374 - F672 - F685 - F72 - F76 - F98 - G150 - G3 - G416 - G462 - G467 - G48 - G496 - G5 - G55 - G60 - G604 - G608 - G634 - G640 - G69 - G71 - G84 - G95 - G98 - I301 - I303 - I309 - I317 - F679 - G407 - G518 - I320 - I337 - I343 - I349 - I353 - I354 - I358 - J34 - J42 - J43 - J582 - J6 - J60 - J68 - M200 - M374 - M402 - M432 - M45 - M65 - O14 - O15 - O21 - O4 - O6 - O7 - O8 - R1 - R15 - R17 - R2 - R22 - R23 - R3 - R32 - R34 - R43', 'R5']\n",
      "Feature cylinder - levels merged : ['AA11 - AA17 - E26 - E303 - E310 - E69 - E72 - E74 - E77 - E86 - E90 - F067 - F121 - F131 - F146 - F159 - F169 - F25 - F264 - F331 - F372 - F383 - F571 - F601 - F374 - F672 - F685 - F72 - F76 - F98 - G150 - G3 - G416 - G462 - G467 - G48 - G496 - G5 - G55 - G60 - G604 - G608 - G634 - G640 - G69 - G71 - G84 - G95 - G98 - I301 - I303 - I309 - I317 - F679 - G407 - G518 - I320 - I337 - I343 - I349 - I353 - I354 - I358 - J34 - J42 - J43 - J582 - J6 - J60 - J68 - M200 - M374 - M402 - M432 - M45 - M65 - O14 - O15 - O21 - O4 - O6 - O7 - O8 - R1 - R15 - R17 - R2 - R22 - R23 - R3 - R32 - R34 - R43 - R5', 'R6']\n",
      "Feature cylinder - levels merged : ['AA11 - AA17 - E26 - E303 - E310 - E69 - E72 - E74 - E77 - E86 - E90 - F067 - F121 - F131 - F146 - F159 - F169 - F25 - F264 - F331 - F372 - F383 - F571 - F601 - F374 - F672 - F685 - F72 - F76 - F98 - G150 - G3 - G416 - G462 - G467 - G48 - G496 - G5 - G55 - G60 - G604 - G608 - G634 - G640 - G69 - G71 - G84 - G95 - G98 - I301 - I303 - I309 - I317 - F679 - G407 - G518 - I320 - I337 - I343 - I349 - I353 - I354 - I358 - J34 - J42 - J43 - J582 - J6 - J60 - J68 - M200 - M374 - M402 - M432 - M45 - M65 - O14 - O15 - O21 - O4 - O6 - O7 - O8 - R1 - R15 - R17 - R2 - R22 - R23 - R3 - R32 - R34 - R43 - R5 - R6', 'R7']\n"
     ]
    },
    {
     "name": "stdout",
     "output_type": "stream",
     "text": [
      "Feature cylinder - levels merged : ['AA11 - AA17 - E26 - E303 - E310 - E69 - E72 - E74 - E77 - E86 - E90 - F067 - F121 - F131 - F146 - F159 - F169 - F25 - F264 - F331 - F372 - F383 - F571 - F601 - F374 - F672 - F685 - F72 - F76 - F98 - G150 - G3 - G416 - G462 - G467 - G48 - G496 - G5 - G55 - G60 - G604 - G608 - G634 - G640 - G69 - G71 - G84 - G95 - G98 - I301 - I303 - I309 - I317 - F679 - G407 - G518 - I320 - I337 - I343 - I349 - I353 - I354 - I358 - J34 - J42 - J43 - J582 - J6 - J60 - J68 - M200 - M374 - M402 - M432 - M45 - M65 - O14 - O15 - O21 - O4 - O6 - O7 - O8 - R1 - R15 - R17 - R2 - R22 - R23 - R3 - R32 - R34 - R43 - R5 - R6 - R7', 'R9']\n",
      "Feature cylinder - levels merged : ['AA11 - AA17 - E26 - E303 - E310 - E69 - E72 - E74 - E77 - E86 - E90 - F067 - F121 - F131 - F146 - F159 - F169 - F25 - F264 - F331 - F372 - F383 - F571 - F601 - F374 - F672 - F685 - F72 - F76 - F98 - G150 - G3 - G416 - G462 - G467 - G48 - G496 - G5 - G55 - G60 - G604 - G608 - G634 - G640 - G69 - G71 - G84 - G95 - G98 - I301 - I303 - I309 - I317 - F679 - G407 - G518 - I320 - I337 - I343 - I349 - I353 - I354 - I358 - J34 - J42 - J43 - J582 - J6 - J60 - J68 - M200 - M374 - M402 - M432 - M45 - M65 - O14 - O15 - O21 - O4 - O6 - O7 - O8 - R1 - R15 - R17 - R2 - R22 - R23 - R3 - R32 - R34 - R43 - R5 - R6 - R7 - R9', 'T117']\n",
      "Feature cylinder - levels merged : ['AA11 - AA17 - E26 - E303 - E310 - E69 - E72 - E74 - E77 - E86 - E90 - F067 - F121 - F131 - F146 - F159 - F169 - F25 - F264 - F331 - F372 - F383 - F571 - F601 - F374 - F672 - F685 - F72 - F76 - F98 - G150 - G3 - G416 - G462 - G467 - G48 - G496 - G5 - G55 - G60 - G604 - G608 - G634 - G640 - G69 - G71 - G84 - G95 - G98 - I301 - I303 - I309 - I317 - F679 - G407 - G518 - I320 - I337 - I343 - I349 - I353 - I354 - I358 - J34 - J42 - J43 - J582 - J6 - J60 - J68 - M200 - M374 - M402 - M432 - M45 - M65 - O14 - O15 - O21 - O4 - O6 - O7 - O8 - R1 - R15 - R17 - R2 - R22 - R23 - R3 - R32 - R34 - R43 - R5 - R6 - R7 - R9 - T117', 'T133']\n",
      "Feature cylinder - levels merged : ['AA11 - AA17 - E26 - E303 - E310 - E69 - E72 - E74 - E77 - E86 - E90 - F067 - F121 - F131 - F146 - F159 - F169 - F25 - F264 - F331 - F372 - F383 - F571 - F601 - F374 - F672 - F685 - F72 - F76 - F98 - G150 - G3 - G416 - G462 - G467 - G48 - G496 - G5 - G55 - G60 - G604 - G608 - G634 - G640 - G69 - G71 - G84 - G95 - G98 - I301 - I303 - I309 - I317 - F679 - G407 - G518 - I320 - I337 - I343 - I349 - I353 - I354 - I358 - J34 - J42 - J43 - J582 - J6 - J60 - J68 - M200 - M374 - M402 - M432 - M45 - M65 - O14 - O15 - O21 - O4 - O6 - O7 - O8 - R1 - R15 - R17 - R2 - R22 - R23 - R3 - R32 - R34 - R43 - R5 - R6 - R7 - R9 - T117 - T133', 'T178']\n",
      "Feature cylinder - levels merged : ['AA11 - AA17 - E26 - E303 - E310 - E69 - E72 - E74 - E77 - E86 - E90 - F067 - F121 - F131 - F146 - F159 - F169 - F25 - F264 - F331 - F372 - F383 - F571 - F601 - F374 - F672 - F685 - F72 - F76 - F98 - G150 - G3 - G416 - G462 - G467 - G48 - G496 - G5 - G55 - G60 - G604 - G608 - G634 - G640 - G69 - G71 - G84 - G95 - G98 - I301 - I303 - I309 - I317 - F679 - G407 - G518 - I320 - I337 - I343 - I349 - I353 - I354 - I358 - J34 - J42 - J43 - J582 - J6 - J60 - J68 - M200 - M374 - M402 - M432 - M45 - M65 - O14 - O15 - O21 - O4 - O6 - O7 - O8 - R1 - R15 - R17 - R2 - R22 - R23 - R3 - R32 - R34 - R43 - R5 - R6 - R7 - R9 - T117 - T133 - T178', 'T218']\n",
      "Feature cylinder - levels merged : ['AA11 - AA17 - E26 - E303 - E310 - E69 - E72 - E74 - E77 - E86 - E90 - F067 - F121 - F131 - F146 - F159 - F169 - F25 - F264 - F331 - F372 - F383 - F571 - F601 - F374 - F672 - F685 - F72 - F76 - F98 - G150 - G3 - G416 - G462 - G467 - G48 - G496 - G5 - G55 - G60 - G604 - G608 - G634 - G640 - G69 - G71 - G84 - G95 - G98 - I301 - I303 - I309 - I317 - F679 - G407 - G518 - I320 - I337 - I343 - I349 - I353 - I354 - I358 - J34 - J42 - J43 - J582 - J6 - J60 - J68 - M200 - M374 - M402 - M432 - M45 - M65 - O14 - O15 - O21 - O4 - O6 - O7 - O8 - R1 - R15 - R17 - R2 - R22 - R23 - R3 - R32 - R34 - R43 - R5 - R6 - R7 - R9 - T117 - T133 - T178 - T218', 'T234']\n",
      "Feature cylinder - levels merged : ['AA11 - AA17 - E26 - E303 - E310 - E69 - E72 - E74 - E77 - E86 - E90 - F067 - F121 - F131 - F146 - F159 - F169 - F25 - F264 - F331 - F372 - F383 - F571 - F601 - F374 - F672 - F685 - F72 - F76 - F98 - G150 - G3 - G416 - G462 - G467 - G48 - G496 - G5 - G55 - G60 - G604 - G608 - G634 - G640 - G69 - G71 - G84 - G95 - G98 - I301 - I303 - I309 - I317 - F679 - G407 - G518 - I320 - I337 - I343 - I349 - I353 - I354 - I358 - J34 - J42 - J43 - J582 - J6 - J60 - J68 - M200 - M374 - M402 - M432 - M45 - M65 - O14 - O15 - O21 - O4 - O6 - O7 - O8 - R1 - R15 - R17 - R2 - R22 - R23 - R3 - R32 - R34 - R43 - R5 - R6 - R7 - R9 - T117 - T133 - T178 - T218 - T234', 'T244']\n",
      "Feature cylinder - levels merged : ['AA11 - AA17 - E26 - E303 - E310 - E69 - E72 - E74 - E77 - E86 - E90 - F067 - F121 - F131 - F146 - F159 - F169 - F25 - F264 - F331 - F372 - F383 - F571 - F601 - F374 - F672 - F685 - F72 - F76 - F98 - G150 - G3 - G416 - G462 - G467 - G48 - G496 - G5 - G55 - G60 - G604 - G608 - G634 - G640 - G69 - G71 - G84 - G95 - G98 - I301 - I303 - I309 - I317 - F679 - G407 - G518 - I320 - I337 - I343 - I349 - I353 - I354 - I358 - J34 - J42 - J43 - J582 - J6 - J60 - J68 - M200 - M374 - M402 - M432 - M45 - M65 - O14 - O15 - O21 - O4 - O6 - O7 - O8 - R1 - R15 - R17 - R2 - R22 - R23 - R3 - R32 - R34 - R43 - R5 - R6 - R7 - R9 - T117 - T133 - T178 - T218 - T234 - T244', 'T245']\n",
      "Feature cylinder - levels merged : ['AA11 - AA17 - E26 - E303 - E310 - E69 - E72 - E74 - E77 - E86 - E90 - F067 - F121 - F131 - F146 - F159 - F169 - F25 - F264 - F331 - F372 - F383 - F571 - F601 - F374 - F672 - F685 - F72 - F76 - F98 - G150 - G3 - G416 - G462 - G467 - G48 - G496 - G5 - G55 - G60 - G604 - G608 - G634 - G640 - G69 - G71 - G84 - G95 - G98 - I301 - I303 - I309 - I317 - F679 - G407 - G518 - I320 - I337 - I343 - I349 - I353 - I354 - I358 - J34 - J42 - J43 - J582 - J6 - J60 - J68 - M200 - M374 - M402 - M432 - M45 - M65 - O14 - O15 - O21 - O4 - O6 - O7 - O8 - R1 - R15 - R17 - R2 - R22 - R23 - R3 - R32 - R34 - R43 - R5 - R6 - R7 - R9 - T117 - T133 - T178 - T218 - T234 - T244 - T245', 'T312']\n",
      "Feature cylinder - levels merged : ['AA11 - AA17 - E26 - E303 - E310 - E69 - E72 - E74 - E77 - E86 - E90 - F067 - F121 - F131 - F146 - F159 - F169 - F25 - F264 - F331 - F372 - F383 - F571 - F601 - F374 - F672 - F685 - F72 - F76 - F98 - G150 - G3 - G416 - G462 - G467 - G48 - G496 - G5 - G55 - G60 - G604 - G608 - G634 - G640 - G69 - G71 - G84 - G95 - G98 - I301 - I303 - I309 - I317 - F679 - G407 - G518 - I320 - I337 - I343 - I349 - I353 - I354 - I358 - J34 - J42 - J43 - J582 - J6 - J60 - J68 - M200 - M374 - M402 - M432 - M45 - M65 - O14 - O15 - O21 - O4 - O6 - O7 - O8 - R1 - R15 - R17 - R2 - R22 - R23 - R3 - R32 - R34 - R43 - R5 - R6 - R7 - R9 - T117 - T133 - T178 - T218 - T234 - T244 - T245 - T312', 'T313']\n",
      "Feature cylinder - levels merged : ['AA11 - AA17 - E26 - E303 - E310 - E69 - E72 - E74 - E77 - E86 - E90 - F067 - F121 - F131 - F146 - F159 - F169 - F25 - F264 - F331 - F372 - F383 - F571 - F601 - F374 - F672 - F685 - F72 - F76 - F98 - G150 - G3 - G416 - G462 - G467 - G48 - G496 - G5 - G55 - G60 - G604 - G608 - G634 - G640 - G69 - G71 - G84 - G95 - G98 - I301 - I303 - I309 - I317 - F679 - G407 - G518 - I320 - I337 - I343 - I349 - I353 - I354 - I358 - J34 - J42 - J43 - J582 - J6 - J60 - J68 - M200 - M374 - M402 - M432 - M45 - M65 - O14 - O15 - O21 - O4 - O6 - O7 - O8 - R1 - R15 - R17 - R2 - R22 - R23 - R3 - R32 - R34 - R43 - R5 - R6 - R7 - R9 - T117 - T133 - T178 - T218 - T234 - T244 - T245 - T312 - T313', 'T78']\n",
      "Feature cylinder - levels merged : ['AA11 - AA17 - E26 - E303 - E310 - E69 - E72 - E74 - E77 - E86 - E90 - F067 - F121 - F131 - F146 - F159 - F169 - F25 - F264 - F331 - F372 - F383 - F571 - F601 - F374 - F672 - F685 - F72 - F76 - F98 - G150 - G3 - G416 - G462 - G467 - G48 - G496 - G5 - G55 - G60 - G604 - G608 - G634 - G640 - G69 - G71 - G84 - G95 - G98 - I301 - I303 - I309 - I317 - F679 - G407 - G518 - I320 - I337 - I343 - I349 - I353 - I354 - I358 - J34 - J42 - J43 - J582 - J6 - J60 - J68 - M200 - M374 - M402 - M432 - M45 - M65 - O14 - O15 - O21 - O4 - O6 - O7 - O8 - R1 - R15 - R17 - R2 - R22 - R23 - R3 - R32 - R34 - R43 - R5 - R6 - R7 - R9 - T117 - T133 - T178 - T218 - T234 - T244 - T245 - T312 - T313 - T78', 'T8']\n"
     ]
    },
    {
     "name": "stdout",
     "output_type": "stream",
     "text": [
      "Feature cylinder - levels merged : ['AA11 - AA17 - E26 - E303 - E310 - E69 - E72 - E74 - E77 - E86 - E90 - F067 - F121 - F131 - F146 - F159 - F169 - F25 - F264 - F331 - F372 - F383 - F571 - F601 - F374 - F672 - F685 - F72 - F76 - F98 - G150 - G3 - G416 - G462 - G467 - G48 - G496 - G5 - G55 - G60 - G604 - G608 - G634 - G640 - G69 - G71 - G84 - G95 - G98 - I301 - I303 - I309 - I317 - F679 - G407 - G518 - I320 - I337 - I343 - I349 - I353 - I354 - I358 - J34 - J42 - J43 - J582 - J6 - J60 - J68 - M200 - M374 - M402 - M432 - M45 - M65 - O14 - O15 - O21 - O4 - O6 - O7 - O8 - R1 - R15 - R17 - R2 - R22 - R23 - R3 - R32 - R34 - R43 - R5 - R6 - R7 - R9 - T117 - T133 - T178 - T218 - T234 - T244 - T245 - T312 - T313 - T78 - T8', 'W357']\n",
      "Feature cylinder - levels merged : ['AA11 - AA17 - E26 - E303 - E310 - E69 - E72 - E74 - E77 - E86 - E90 - F067 - F121 - F131 - F146 - F159 - F169 - F25 - F264 - F331 - F372 - F383 - F571 - F601 - F374 - F672 - F685 - F72 - F76 - F98 - G150 - G3 - G416 - G462 - G467 - G48 - G496 - G5 - G55 - G60 - G604 - G608 - G634 - G640 - G69 - G71 - G84 - G95 - G98 - I301 - I303 - I309 - I317 - F679 - G407 - G518 - I320 - I337 - I343 - I349 - I353 - I354 - I358 - J34 - J42 - J43 - J582 - J6 - J60 - J68 - M200 - M374 - M402 - M432 - M45 - M65 - O14 - O15 - O21 - O4 - O6 - O7 - O8 - R1 - R15 - R17 - R2 - R22 - R23 - R3 - R32 - R34 - R43 - R5 - R6 - R7 - R9 - T117 - T133 - T178 - T218 - T234 - T244 - T245 - T312 - T313 - T78 - T8 - W357', 'W364']\n",
      "Feature cylinder - levels merged : ['AA11 - AA17 - E26 - E303 - E310 - E69 - E72 - E74 - E77 - E86 - E90 - F067 - F121 - F131 - F146 - F159 - F169 - F25 - F264 - F331 - F372 - F383 - F571 - F601 - F374 - F672 - F685 - F72 - F76 - F98 - G150 - G3 - G416 - G462 - G467 - G48 - G496 - G5 - G55 - G60 - G604 - G608 - G634 - G640 - G69 - G71 - G84 - G95 - G98 - I301 - I303 - I309 - I317 - F679 - G407 - G518 - I320 - I337 - I343 - I349 - I353 - I354 - I358 - J34 - J42 - J43 - J582 - J6 - J60 - J68 - M200 - M374 - M402 - M432 - M45 - M65 - O14 - O15 - O21 - O4 - O6 - O7 - O8 - R1 - R15 - R17 - R2 - R22 - R23 - R3 - R32 - R34 - R43 - R5 - R6 - R7 - R9 - T117 - T133 - T178 - T218 - T234 - T244 - T245 - T312 - T313 - T78 - T8 - W357 - W364', 'W406']\n",
      "Feature cylinder - levels merged : ['AA11 - AA17 - E26 - E303 - E310 - E69 - E72 - E74 - E77 - E86 - E90 - F067 - F121 - F131 - F146 - F159 - F169 - F25 - F264 - F331 - F372 - F383 - F571 - F601 - F374 - F672 - F685 - F72 - F76 - F98 - G150 - G3 - G416 - G462 - G467 - G48 - G496 - G5 - G55 - G60 - G604 - G608 - G634 - G640 - G69 - G71 - G84 - G95 - G98 - I301 - I303 - I309 - I317 - F679 - G407 - G518 - I320 - I337 - I343 - I349 - I353 - I354 - I358 - J34 - J42 - J43 - J582 - J6 - J60 - J68 - M200 - M374 - M402 - M432 - M45 - M65 - O14 - O15 - O21 - O4 - O6 - O7 - O8 - R1 - R15 - R17 - R2 - R22 - R23 - R3 - R32 - R34 - R43 - R5 - R6 - R7 - R9 - T117 - T133 - T178 - T218 - T234 - T244 - T245 - T312 - T313 - T78 - T8 - W357 - W364 - W406', 'W717']\n",
      "Feature cylinder - levels merged : ['AA11 - AA17 - E26 - E303 - E310 - E69 - E72 - E74 - E77 - E86 - E90 - F067 - F121 - F131 - F146 - F159 - F169 - F25 - F264 - F331 - F372 - F383 - F571 - F601 - F374 - F672 - F685 - F72 - F76 - F98 - G150 - G3 - G416 - G462 - G467 - G48 - G496 - G5 - G55 - G60 - G604 - G608 - G634 - G640 - G69 - G71 - G84 - G95 - G98 - I301 - I303 - I309 - I317 - F679 - G407 - G518 - I320 - I337 - I343 - I349 - I353 - I354 - I358 - J34 - J42 - J43 - J582 - J6 - J60 - J68 - M200 - M374 - M402 - M432 - M45 - M65 - O14 - O15 - O21 - O4 - O6 - O7 - O8 - R1 - R15 - R17 - R2 - R22 - R23 - R3 - R32 - R34 - R43 - R5 - R6 - R7 - R9 - T117 - T133 - T178 - T218 - T234 - T244 - T245 - T312 - T313 - T78 - T8 - W357 - W364 - W406 - W717', 'W785']\n",
      "Feature cylinder - levels merged : ['AA11 - AA17 - E26 - E303 - E310 - E69 - E72 - E74 - E77 - E86 - E90 - F067 - F121 - F131 - F146 - F159 - F169 - F25 - F264 - F331 - F372 - F383 - F571 - F601 - F374 - F672 - F685 - F72 - F76 - F98 - G150 - G3 - G416 - G462 - G467 - G48 - G496 - G5 - G55 - G60 - G604 - G608 - G634 - G640 - G69 - G71 - G84 - G95 - G98 - I301 - I303 - I309 - I317 - F679 - G407 - G518 - I320 - I337 - I343 - I349 - I353 - I354 - I358 - J34 - J42 - J43 - J582 - J6 - J60 - J68 - M200 - M374 - M402 - M432 - M45 - M65 - O14 - O15 - O21 - O4 - O6 - O7 - O8 - R1 - R15 - R17 - R2 - R22 - R23 - R3 - R32 - R34 - R43 - R5 - R6 - R7 - R9 - T117 - T133 - T178 - T218 - T234 - T244 - T245 - T312 - T313 - T78 - T8 - W357 - W364 - W406 - W717 - W785', 'W90']\n",
      "Feature cylinder - levels merged : ['AA11 - AA17 - E26 - E303 - E310 - E69 - E72 - E74 - E77 - E86 - E90 - F067 - F121 - F131 - F146 - F159 - F169 - F25 - F264 - F331 - F372 - F383 - F571 - F601 - F374 - F672 - F685 - F72 - F76 - F98 - G150 - G3 - G416 - G462 - G467 - G48 - G496 - G5 - G55 - G60 - G604 - G608 - G634 - G640 - G69 - G71 - G84 - G95 - G98 - I301 - I303 - I309 - I317 - F679 - G407 - G518 - I320 - I337 - I343 - I349 - I353 - I354 - I358 - J34 - J42 - J43 - J582 - J6 - J60 - J68 - M200 - M374 - M402 - M432 - M45 - M65 - O14 - O15 - O21 - O4 - O6 - O7 - O8 - R1 - R15 - R17 - R2 - R22 - R23 - R3 - R32 - R34 - R43 - R5 - R6 - R7 - R9 - T117 - T133 - T178 - T218 - T234 - T244 - T245 - T312 - T313 - T78 - T8 - W357 - W364 - W406 - W717 - W785 - W90', 'W92']\n",
      "Feature cylinder - levels merged : ['AA11 - AA17 - E26 - E303 - E310 - E69 - E72 - E74 - E77 - E86 - E90 - F067 - F121 - F131 - F146 - F159 - F169 - F25 - F264 - F331 - F372 - F383 - F571 - F601 - F374 - F672 - F685 - F72 - F76 - F98 - G150 - G3 - G416 - G462 - G467 - G48 - G496 - G5 - G55 - G60 - G604 - G608 - G634 - G640 - G69 - G71 - G84 - G95 - G98 - I301 - I303 - I309 - I317 - F679 - G407 - G518 - I320 - I337 - I343 - I349 - I353 - I354 - I358 - J34 - J42 - J43 - J582 - J6 - J60 - J68 - M200 - M374 - M402 - M432 - M45 - M65 - O14 - O15 - O21 - O4 - O6 - O7 - O8 - R1 - R15 - R17 - R2 - R22 - R23 - R3 - R32 - R34 - R43 - R5 - R6 - R7 - R9 - T117 - T133 - T178 - T218 - T234 - T244 - T245 - T312 - T313 - T78 - T8 - W357 - W364 - W406 - W717 - W785 - W90 - W92', 'X001']\n",
      "Feature cylinder - levels merged : ['AA11 - AA17 - E26 - E303 - E310 - E69 - E72 - E74 - E77 - E86 - E90 - F067 - F121 - F131 - F146 - F159 - F169 - F25 - F264 - F331 - F372 - F383 - F571 - F601 - F374 - F672 - F685 - F72 - F76 - F98 - G150 - G3 - G416 - G462 - G467 - G48 - G496 - G5 - G55 - G60 - G604 - G608 - G634 - G640 - G69 - G71 - G84 - G95 - G98 - I301 - I303 - I309 - I317 - F679 - G407 - G518 - I320 - I337 - I343 - I349 - I353 - I354 - I358 - J34 - J42 - J43 - J582 - J6 - J60 - J68 - M200 - M374 - M402 - M432 - M45 - M65 - O14 - O15 - O21 - O4 - O6 - O7 - O8 - R1 - R15 - R17 - R2 - R22 - R23 - R3 - R32 - R34 - R43 - R5 - R6 - R7 - R9 - T117 - T133 - T178 - T218 - T234 - T244 - T245 - T312 - T313 - T78 - T8 - W357 - W364 - W406 - W717 - W785 - W90 - W92 - X001', 'X103']\n",
      "Feature cylinder - levels merged : ['AA11 - AA17 - E26 - E303 - E310 - E69 - E72 - E74 - E77 - E86 - E90 - F067 - F121 - F131 - F146 - F159 - F169 - F25 - F264 - F331 - F372 - F383 - F571 - F601 - F374 - F672 - F685 - F72 - F76 - F98 - G150 - G3 - G416 - G462 - G467 - G48 - G496 - G5 - G55 - G60 - G604 - G608 - G634 - G640 - G69 - G71 - G84 - G95 - G98 - I301 - I303 - I309 - I317 - F679 - G407 - G518 - I320 - I337 - I343 - I349 - I353 - I354 - I358 - J34 - J42 - J43 - J582 - J6 - J60 - J68 - M200 - M374 - M402 - M432 - M45 - M65 - O14 - O15 - O21 - O4 - O6 - O7 - O8 - R1 - R15 - R17 - R2 - R22 - R23 - R3 - R32 - R34 - R43 - R5 - R6 - R7 - R9 - T117 - T133 - T178 - T218 - T234 - T244 - T245 - T312 - T313 - T78 - T8 - W357 - W364 - W406 - W717 - W785 - W90 - W92 - X001 - X103', 'X108']\n",
      "Feature cylinder - levels merged : ['AA11 - AA17 - E26 - E303 - E310 - E69 - E72 - E74 - E77 - E86 - E90 - F067 - F121 - F131 - F146 - F159 - F169 - F25 - F264 - F331 - F372 - F383 - F571 - F601 - F374 - F672 - F685 - F72 - F76 - F98 - G150 - G3 - G416 - G462 - G467 - G48 - G496 - G5 - G55 - G60 - G604 - G608 - G634 - G640 - G69 - G71 - G84 - G95 - G98 - I301 - I303 - I309 - I317 - F679 - G407 - G518 - I320 - I337 - I343 - I349 - I353 - I354 - I358 - J34 - J42 - J43 - J582 - J6 - J60 - J68 - M200 - M374 - M402 - M432 - M45 - M65 - O14 - O15 - O21 - O4 - O6 - O7 - O8 - R1 - R15 - R17 - R2 - R22 - R23 - R3 - R32 - R34 - R43 - R5 - R6 - R7 - R9 - T117 - T133 - T178 - T218 - T234 - T244 - T245 - T312 - T313 - T78 - T8 - W357 - W364 - W406 - W717 - W785 - W90 - W92 - X001 - X103 - X108', 'X118']\n"
     ]
    },
    {
     "name": "stdout",
     "output_type": "stream",
     "text": [
      "Feature cylinder - levels merged : ['AA11 - AA17 - E26 - E303 - E310 - E69 - E72 - E74 - E77 - E86 - E90 - F067 - F121 - F131 - F146 - F159 - F169 - F25 - F264 - F331 - F372 - F383 - F571 - F601 - F374 - F672 - F685 - F72 - F76 - F98 - G150 - G3 - G416 - G462 - G467 - G48 - G496 - G5 - G55 - G60 - G604 - G608 - G634 - G640 - G69 - G71 - G84 - G95 - G98 - I301 - I303 - I309 - I317 - F679 - G407 - G518 - I320 - I337 - I343 - I349 - I353 - I354 - I358 - J34 - J42 - J43 - J582 - J6 - J60 - J68 - M200 - M374 - M402 - M432 - M45 - M65 - O14 - O15 - O21 - O4 - O6 - O7 - O8 - R1 - R15 - R17 - R2 - R22 - R23 - R3 - R32 - R34 - R43 - R5 - R6 - R7 - R9 - T117 - T133 - T178 - T218 - T234 - T244 - T245 - T312 - T313 - T78 - T8 - W357 - W364 - W406 - W717 - W785 - W90 - W92 - X001 - X103 - X108 - X118', 'X12']\n",
      "Feature cylinder - levels merged : ['AA11 - AA17 - E26 - E303 - E310 - E69 - E72 - E74 - E77 - E86 - E90 - F067 - F121 - F131 - F146 - F159 - F169 - F25 - F264 - F331 - F372 - F383 - F571 - F601 - F374 - F672 - F685 - F72 - F76 - F98 - G150 - G3 - G416 - G462 - G467 - G48 - G496 - G5 - G55 - G60 - G604 - G608 - G634 - G640 - G69 - G71 - G84 - G95 - G98 - I301 - I303 - I309 - I317 - F679 - G407 - G518 - I320 - I337 - I343 - I349 - I353 - I354 - I358 - J34 - J42 - J43 - J582 - J6 - J60 - J68 - M200 - M374 - M402 - M432 - M45 - M65 - O14 - O15 - O21 - O4 - O6 - O7 - O8 - R1 - R15 - R17 - R2 - R22 - R23 - R3 - R32 - R34 - R43 - R5 - R6 - R7 - R9 - T117 - T133 - T178 - T218 - T234 - T244 - T245 - T312 - T313 - T78 - T8 - W357 - W364 - W406 - W717 - W785 - W90 - W92 - X001 - X103 - X108 - X118 - X12', 'X126']\n",
      "Feature cylinder - levels merged : ['AA11 - AA17 - E26 - E303 - E310 - E69 - E72 - E74 - E77 - E86 - E90 - F067 - F121 - F131 - F146 - F159 - F169 - F25 - F264 - F331 - F372 - F383 - F571 - F601 - F374 - F672 - F685 - F72 - F76 - F98 - G150 - G3 - G416 - G462 - G467 - G48 - G496 - G5 - G55 - G60 - G604 - G608 - G634 - G640 - G69 - G71 - G84 - G95 - G98 - I301 - I303 - I309 - I317 - F679 - G407 - G518 - I320 - I337 - I343 - I349 - I353 - I354 - I358 - J34 - J42 - J43 - J582 - J6 - J60 - J68 - M200 - M374 - M402 - M432 - M45 - M65 - O14 - O15 - O21 - O4 - O6 - O7 - O8 - R1 - R15 - R17 - R2 - R22 - R23 - R3 - R32 - R34 - R43 - R5 - R6 - R7 - R9 - T117 - T133 - T178 - T218 - T234 - T244 - T245 - T312 - T313 - T78 - T8 - W357 - W364 - W406 - W717 - W785 - W90 - W92 - X001 - X103 - X108 - X118 - X12 - X126', 'X132']\n",
      "Feature cylinder - levels merged : ['AA11 - AA17 - E26 - E303 - E310 - E69 - E72 - E74 - E77 - E86 - E90 - F067 - F121 - F131 - F146 - F159 - F169 - F25 - F264 - F331 - F372 - F383 - F571 - F601 - F374 - F672 - F685 - F72 - F76 - F98 - G150 - G3 - G416 - G462 - G467 - G48 - G496 - G5 - G55 - G60 - G604 - G608 - G634 - G640 - G69 - G71 - G84 - G95 - G98 - I301 - I303 - I309 - I317 - F679 - G407 - G518 - I320 - I337 - I343 - I349 - I353 - I354 - I358 - J34 - J42 - J43 - J582 - J6 - J60 - J68 - M200 - M374 - M402 - M432 - M45 - M65 - O14 - O15 - O21 - O4 - O6 - O7 - O8 - R1 - R15 - R17 - R2 - R22 - R23 - R3 - R32 - R34 - R43 - R5 - R6 - R7 - R9 - T117 - T133 - T178 - T218 - T234 - T244 - T245 - T312 - T313 - T78 - T8 - W357 - W364 - W406 - W717 - W785 - W90 - W92 - X001 - X103 - X108 - X118 - X12 - X126 - X132', 'X138']\n",
      "Feature cylinder - levels merged : ['AA11 - AA17 - E26 - E303 - E310 - E69 - E72 - E74 - E77 - E86 - E90 - F067 - F121 - F131 - F146 - F159 - F169 - F25 - F264 - F331 - F372 - F383 - F571 - F601 - F374 - F672 - F685 - F72 - F76 - F98 - G150 - G3 - G416 - G462 - G467 - G48 - G496 - G5 - G55 - G60 - G604 - G608 - G634 - G640 - G69 - G71 - G84 - G95 - G98 - I301 - I303 - I309 - I317 - F679 - G407 - G518 - I320 - I337 - I343 - I349 - I353 - I354 - I358 - J34 - J42 - J43 - J582 - J6 - J60 - J68 - M200 - M374 - M402 - M432 - M45 - M65 - O14 - O15 - O21 - O4 - O6 - O7 - O8 - R1 - R15 - R17 - R2 - R22 - R23 - R3 - R32 - R34 - R43 - R5 - R6 - R7 - R9 - T117 - T133 - T178 - T218 - T234 - T244 - T245 - T312 - T313 - T78 - T8 - W357 - W364 - W406 - W717 - W785 - W90 - W92 - X001 - X103 - X108 - X118 - X12 - X126 - X132 - X138', 'X139']\n",
      "Feature cylinder - levels merged : ['AA11 - AA17 - E26 - E303 - E310 - E69 - E72 - E74 - E77 - E86 - E90 - F067 - F121 - F131 - F146 - F159 - F169 - F25 - F264 - F331 - F372 - F383 - F571 - F601 - F374 - F672 - F685 - F72 - F76 - F98 - G150 - G3 - G416 - G462 - G467 - G48 - G496 - G5 - G55 - G60 - G604 - G608 - G634 - G640 - G69 - G71 - G84 - G95 - G98 - I301 - I303 - I309 - I317 - F679 - G407 - G518 - I320 - I337 - I343 - I349 - I353 - I354 - I358 - J34 - J42 - J43 - J582 - J6 - J60 - J68 - M200 - M374 - M402 - M432 - M45 - M65 - O14 - O15 - O21 - O4 - O6 - O7 - O8 - R1 - R15 - R17 - R2 - R22 - R23 - R3 - R32 - R34 - R43 - R5 - R6 - R7 - R9 - T117 - T133 - T178 - T218 - T234 - T244 - T245 - T312 - T313 - T78 - T8 - W357 - W364 - W406 - W717 - W785 - W90 - W92 - X001 - X103 - X108 - X118 - X12 - X126 - X132 - X138 - X139', 'X141']\n",
      "Feature cylinder - levels merged : ['AA11 - AA17 - E26 - E303 - E310 - E69 - E72 - E74 - E77 - E86 - E90 - F067 - F121 - F131 - F146 - F159 - F169 - F25 - F264 - F331 - F372 - F383 - F571 - F601 - F374 - F672 - F685 - F72 - F76 - F98 - G150 - G3 - G416 - G462 - G467 - G48 - G496 - G5 - G55 - G60 - G604 - G608 - G634 - G640 - G69 - G71 - G84 - G95 - G98 - I301 - I303 - I309 - I317 - F679 - G407 - G518 - I320 - I337 - I343 - I349 - I353 - I354 - I358 - J34 - J42 - J43 - J582 - J6 - J60 - J68 - M200 - M374 - M402 - M432 - M45 - M65 - O14 - O15 - O21 - O4 - O6 - O7 - O8 - R1 - R15 - R17 - R2 - R22 - R23 - R3 - R32 - R34 - R43 - R5 - R6 - R7 - R9 - T117 - T133 - T178 - T218 - T234 - T244 - T245 - T312 - T313 - T78 - T8 - W357 - W364 - W406 - W717 - W785 - W90 - W92 - X001 - X103 - X108 - X118 - X12 - X126 - X132 - X138 - X139 - X141', 'X146']\n",
      "Feature cylinder - levels merged : ['AA11 - AA17 - E26 - E303 - E310 - E69 - E72 - E74 - E77 - E86 - E90 - F067 - F121 - F131 - F146 - F159 - F169 - F25 - F264 - F331 - F372 - F383 - F571 - F601 - F374 - F672 - F685 - F72 - F76 - F98 - G150 - G3 - G416 - G462 - G467 - G48 - G496 - G5 - G55 - G60 - G604 - G608 - G634 - G640 - G69 - G71 - G84 - G95 - G98 - I301 - I303 - I309 - I317 - F679 - G407 - G518 - I320 - I337 - I343 - I349 - I353 - I354 - I358 - J34 - J42 - J43 - J582 - J6 - J60 - J68 - M200 - M374 - M402 - M432 - M45 - M65 - O14 - O15 - O21 - O4 - O6 - O7 - O8 - R1 - R15 - R17 - R2 - R22 - R23 - R3 - R32 - R34 - R43 - R5 - R6 - R7 - R9 - T117 - T133 - T178 - T218 - T234 - T244 - T245 - T312 - T313 - T78 - T8 - W357 - W364 - W406 - W717 - W785 - W90 - W92 - X001 - X103 - X108 - X118 - X12 - X126 - X132 - X138 - X139 - X141 - X146', 'X147']\n",
      "Feature cylinder - levels merged : ['AA11 - AA17 - E26 - E303 - E310 - E69 - E72 - E74 - E77 - E86 - E90 - F067 - F121 - F131 - F146 - F159 - F169 - F25 - F264 - F331 - F372 - F383 - F571 - F601 - F374 - F672 - F685 - F72 - F76 - F98 - G150 - G3 - G416 - G462 - G467 - G48 - G496 - G5 - G55 - G60 - G604 - G608 - G634 - G640 - G69 - G71 - G84 - G95 - G98 - I301 - I303 - I309 - I317 - F679 - G407 - G518 - I320 - I337 - I343 - I349 - I353 - I354 - I358 - J34 - J42 - J43 - J582 - J6 - J60 - J68 - M200 - M374 - M402 - M432 - M45 - M65 - O14 - O15 - O21 - O4 - O6 - O7 - O8 - R1 - R15 - R17 - R2 - R22 - R23 - R3 - R32 - R34 - R43 - R5 - R6 - R7 - R9 - T117 - T133 - T178 - T218 - T234 - T244 - T245 - T312 - T313 - T78 - T8 - W357 - W364 - W406 - W717 - W785 - W90 - W92 - X001 - X103 - X108 - X118 - X12 - X126 - X132 - X138 - X139 - X141 - X146 - X147', 'X151']\n",
      "Feature cylinder - levels merged : ['AA11 - AA17 - E26 - E303 - E310 - E69 - E72 - E74 - E77 - E86 - E90 - F067 - F121 - F131 - F146 - F159 - F169 - F25 - F264 - F331 - F372 - F383 - F571 - F601 - F374 - F672 - F685 - F72 - F76 - F98 - G150 - G3 - G416 - G462 - G467 - G48 - G496 - G5 - G55 - G60 - G604 - G608 - G634 - G640 - G69 - G71 - G84 - G95 - G98 - I301 - I303 - I309 - I317 - F679 - G407 - G518 - I320 - I337 - I343 - I349 - I353 - I354 - I358 - J34 - J42 - J43 - J582 - J6 - J60 - J68 - M200 - M374 - M402 - M432 - M45 - M65 - O14 - O15 - O21 - O4 - O6 - O7 - O8 - R1 - R15 - R17 - R2 - R22 - R23 - R3 - R32 - R34 - R43 - R5 - R6 - R7 - R9 - T117 - T133 - T178 - T218 - T234 - T244 - T245 - T312 - T313 - T78 - T8 - W357 - W364 - W406 - W717 - W785 - W90 - W92 - X001 - X103 - X108 - X118 - X12 - X126 - X132 - X138 - X139 - X141 - X146 - X147 - X151', 'X155']\n"
     ]
    },
    {
     "name": "stdout",
     "output_type": "stream",
     "text": [
      "Feature cylinder - levels merged : ['AA11 - AA17 - E26 - E303 - E310 - E69 - E72 - E74 - E77 - E86 - E90 - F067 - F121 - F131 - F146 - F159 - F169 - F25 - F264 - F331 - F372 - F383 - F571 - F601 - F374 - F672 - F685 - F72 - F76 - F98 - G150 - G3 - G416 - G462 - G467 - G48 - G496 - G5 - G55 - G60 - G604 - G608 - G634 - G640 - G69 - G71 - G84 - G95 - G98 - I301 - I303 - I309 - I317 - F679 - G407 - G518 - I320 - I337 - I343 - I349 - I353 - I354 - I358 - J34 - J42 - J43 - J582 - J6 - J60 - J68 - M200 - M374 - M402 - M432 - M45 - M65 - O14 - O15 - O21 - O4 - O6 - O7 - O8 - R1 - R15 - R17 - R2 - R22 - R23 - R3 - R32 - R34 - R43 - R5 - R6 - R7 - R9 - T117 - T133 - T178 - T218 - T234 - T244 - T245 - T312 - T313 - T78 - T8 - W357 - W364 - W406 - W717 - W785 - W90 - W92 - X001 - X103 - X108 - X118 - X12 - X126 - X132 - X138 - X139 - X141 - X146 - X147 - X151 - X155', 'X163']\n",
      "Feature cylinder - levels merged : ['AA11 - AA17 - E26 - E303 - E310 - E69 - E72 - E74 - E77 - E86 - E90 - F067 - F121 - F131 - F146 - F159 - F169 - F25 - F264 - F331 - F372 - F383 - F571 - F601 - F374 - F672 - F685 - F72 - F76 - F98 - G150 - G3 - G416 - G462 - G467 - G48 - G496 - G5 - G55 - G60 - G604 - G608 - G634 - G640 - G69 - G71 - G84 - G95 - G98 - I301 - I303 - I309 - I317 - F679 - G407 - G518 - I320 - I337 - I343 - I349 - I353 - I354 - I358 - J34 - J42 - J43 - J582 - J6 - J60 - J68 - M200 - M374 - M402 - M432 - M45 - M65 - O14 - O15 - O21 - O4 - O6 - O7 - O8 - R1 - R15 - R17 - R2 - R22 - R23 - R3 - R32 - R34 - R43 - R5 - R6 - R7 - R9 - T117 - T133 - T178 - T218 - T234 - T244 - T245 - T312 - T313 - T78 - T8 - W357 - W364 - W406 - W717 - W785 - W90 - W92 - X001 - X103 - X108 - X118 - X12 - X126 - X132 - X138 - X139 - X141 - X146 - X147 - X151 - X155 - X163', 'X18']\n",
      "Feature cylinder - levels merged : ['AA11 - AA17 - E26 - E303 - E310 - E69 - E72 - E74 - E77 - E86 - E90 - F067 - F121 - F131 - F146 - F159 - F169 - F25 - F264 - F331 - F372 - F383 - F571 - F601 - F374 - F672 - F685 - F72 - F76 - F98 - G150 - G3 - G416 - G462 - G467 - G48 - G496 - G5 - G55 - G60 - G604 - G608 - G634 - G640 - G69 - G71 - G84 - G95 - G98 - I301 - I303 - I309 - I317 - F679 - G407 - G518 - I320 - I337 - I343 - I349 - I353 - I354 - I358 - J34 - J42 - J43 - J582 - J6 - J60 - J68 - M200 - M374 - M402 - M432 - M45 - M65 - O14 - O15 - O21 - O4 - O6 - O7 - O8 - R1 - R15 - R17 - R2 - R22 - R23 - R3 - R32 - R34 - R43 - R5 - R6 - R7 - R9 - T117 - T133 - T178 - T218 - T234 - T244 - T245 - T312 - T313 - T78 - T8 - W357 - W364 - W406 - W717 - W785 - W90 - W92 - X001 - X103 - X108 - X118 - X12 - X126 - X132 - X138 - X139 - X141 - X146 - X147 - X151 - X155 - X163 - X18', 'X185']\n",
      "Feature cylinder - levels merged : ['AA11 - AA17 - E26 - E303 - E310 - E69 - E72 - E74 - E77 - E86 - E90 - F067 - F121 - F131 - F146 - F159 - F169 - F25 - F264 - F331 - F372 - F383 - F571 - F601 - F374 - F672 - F685 - F72 - F76 - F98 - G150 - G3 - G416 - G462 - G467 - G48 - G496 - G5 - G55 - G60 - G604 - G608 - G634 - G640 - G69 - G71 - G84 - G95 - G98 - I301 - I303 - I309 - I317 - F679 - G407 - G518 - I320 - I337 - I343 - I349 - I353 - I354 - I358 - J34 - J42 - J43 - J582 - J6 - J60 - J68 - M200 - M374 - M402 - M432 - M45 - M65 - O14 - O15 - O21 - O4 - O6 - O7 - O8 - R1 - R15 - R17 - R2 - R22 - R23 - R3 - R32 - R34 - R43 - R5 - R6 - R7 - R9 - T117 - T133 - T178 - T218 - T234 - T244 - T245 - T312 - T313 - T78 - T8 - W357 - W364 - W406 - W717 - W785 - W90 - W92 - X001 - X103 - X108 - X118 - X12 - X126 - X132 - X138 - X139 - X141 - X146 - X147 - X151 - X155 - X163 - X18 - X185', 'X195']\n",
      "Feature cylinder - levels merged : ['AA11 - AA17 - E26 - E303 - E310 - E69 - E72 - E74 - E77 - E86 - E90 - F067 - F121 - F131 - F146 - F159 - F169 - F25 - F264 - F331 - F372 - F383 - F571 - F601 - F374 - F672 - F685 - F72 - F76 - F98 - G150 - G3 - G416 - G462 - G467 - G48 - G496 - G5 - G55 - G60 - G604 - G608 - G634 - G640 - G69 - G71 - G84 - G95 - G98 - I301 - I303 - I309 - I317 - F679 - G407 - G518 - I320 - I337 - I343 - I349 - I353 - I354 - I358 - J34 - J42 - J43 - J582 - J6 - J60 - J68 - M200 - M374 - M402 - M432 - M45 - M65 - O14 - O15 - O21 - O4 - O6 - O7 - O8 - R1 - R15 - R17 - R2 - R22 - R23 - R3 - R32 - R34 - R43 - R5 - R6 - R7 - R9 - T117 - T133 - T178 - T218 - T234 - T244 - T245 - T312 - T313 - T78 - T8 - W357 - W364 - W406 - W717 - W785 - W90 - W92 - X001 - X103 - X108 - X118 - X12 - X126 - X132 - X138 - X139 - X141 - X146 - X147 - X151 - X155 - X163 - X18 - X185 - X195', 'X197']\n",
      "Feature cylinder - levels merged : ['AA11 - AA17 - E26 - E303 - E310 - E69 - E72 - E74 - E77 - E86 - E90 - F067 - F121 - F131 - F146 - F159 - F169 - F25 - F264 - F331 - F372 - F383 - F571 - F601 - F374 - F672 - F685 - F72 - F76 - F98 - G150 - G3 - G416 - G462 - G467 - G48 - G496 - G5 - G55 - G60 - G604 - G608 - G634 - G640 - G69 - G71 - G84 - G95 - G98 - I301 - I303 - I309 - I317 - F679 - G407 - G518 - I320 - I337 - I343 - I349 - I353 - I354 - I358 - J34 - J42 - J43 - J582 - J6 - J60 - J68 - M200 - M374 - M402 - M432 - M45 - M65 - O14 - O15 - O21 - O4 - O6 - O7 - O8 - R1 - R15 - R17 - R2 - R22 - R23 - R3 - R32 - R34 - R43 - R5 - R6 - R7 - R9 - T117 - T133 - T178 - T218 - T234 - T244 - T245 - T312 - T313 - T78 - T8 - W357 - W364 - W406 - W717 - W785 - W90 - W92 - X001 - X103 - X108 - X118 - X12 - X126 - X132 - X138 - X139 - X141 - X146 - X147 - X151 - X155 - X163 - X18 - X185 - X195 - X197', 'X199']\n",
      "Feature cylinder - levels merged : ['AA11 - AA17 - E26 - E303 - E310 - E69 - E72 - E74 - E77 - E86 - E90 - F067 - F121 - F131 - F146 - F159 - F169 - F25 - F264 - F331 - F372 - F383 - F571 - F601 - F374 - F672 - F685 - F72 - F76 - F98 - G150 - G3 - G416 - G462 - G467 - G48 - G496 - G5 - G55 - G60 - G604 - G608 - G634 - G640 - G69 - G71 - G84 - G95 - G98 - I301 - I303 - I309 - I317 - F679 - G407 - G518 - I320 - I337 - I343 - I349 - I353 - I354 - I358 - J34 - J42 - J43 - J582 - J6 - J60 - J68 - M200 - M374 - M402 - M432 - M45 - M65 - O14 - O15 - O21 - O4 - O6 - O7 - O8 - R1 - R15 - R17 - R2 - R22 - R23 - R3 - R32 - R34 - R43 - R5 - R6 - R7 - R9 - T117 - T133 - T178 - T218 - T234 - T244 - T245 - T312 - T313 - T78 - T8 - W357 - W364 - W406 - W717 - W785 - W90 - W92 - X001 - X103 - X108 - X118 - X12 - X126 - X132 - X138 - X139 - X141 - X146 - X147 - X151 - X155 - X163 - X18 - X185 - X195 - X197 - X199', 'X201']\n",
      "Feature cylinder - levels merged : ['AA11 - AA17 - E26 - E303 - E310 - E69 - E72 - E74 - E77 - E86 - E90 - F067 - F121 - F131 - F146 - F159 - F169 - F25 - F264 - F331 - F372 - F383 - F571 - F601 - F374 - F672 - F685 - F72 - F76 - F98 - G150 - G3 - G416 - G462 - G467 - G48 - G496 - G5 - G55 - G60 - G604 - G608 - G634 - G640 - G69 - G71 - G84 - G95 - G98 - I301 - I303 - I309 - I317 - F679 - G407 - G518 - I320 - I337 - I343 - I349 - I353 - I354 - I358 - J34 - J42 - J43 - J582 - J6 - J60 - J68 - M200 - M374 - M402 - M432 - M45 - M65 - O14 - O15 - O21 - O4 - O6 - O7 - O8 - R1 - R15 - R17 - R2 - R22 - R23 - R3 - R32 - R34 - R43 - R5 - R6 - R7 - R9 - T117 - T133 - T178 - T218 - T234 - T244 - T245 - T312 - T313 - T78 - T8 - W357 - W364 - W406 - W717 - W785 - W90 - W92 - X001 - X103 - X108 - X118 - X12 - X126 - X132 - X138 - X139 - X141 - X146 - X147 - X151 - X155 - X163 - X18 - X185 - X195 - X197 - X199 - X201', 'X203']\n",
      "Feature cylinder - levels merged : ['AA11 - AA17 - E26 - E303 - E310 - E69 - E72 - E74 - E77 - E86 - E90 - F067 - F121 - F131 - F146 - F159 - F169 - F25 - F264 - F331 - F372 - F383 - F571 - F601 - F374 - F672 - F685 - F72 - F76 - F98 - G150 - G3 - G416 - G462 - G467 - G48 - G496 - G5 - G55 - G60 - G604 - G608 - G634 - G640 - G69 - G71 - G84 - G95 - G98 - I301 - I303 - I309 - I317 - F679 - G407 - G518 - I320 - I337 - I343 - I349 - I353 - I354 - I358 - J34 - J42 - J43 - J582 - J6 - J60 - J68 - M200 - M374 - M402 - M432 - M45 - M65 - O14 - O15 - O21 - O4 - O6 - O7 - O8 - R1 - R15 - R17 - R2 - R22 - R23 - R3 - R32 - R34 - R43 - R5 - R6 - R7 - R9 - T117 - T133 - T178 - T218 - T234 - T244 - T245 - T312 - T313 - T78 - T8 - W357 - W364 - W406 - W717 - W785 - W90 - W92 - X001 - X103 - X108 - X118 - X12 - X126 - X132 - X138 - X139 - X141 - X146 - X147 - X151 - X155 - X163 - X18 - X185 - X195 - X197 - X199 - X201 - X203', 'X220']\n",
      "Feature cylinder - levels merged : ['AA11 - AA17 - E26 - E303 - E310 - E69 - E72 - E74 - E77 - E86 - E90 - F067 - F121 - F131 - F146 - F159 - F169 - F25 - F264 - F331 - F372 - F383 - F571 - F601 - F374 - F672 - F685 - F72 - F76 - F98 - G150 - G3 - G416 - G462 - G467 - G48 - G496 - G5 - G55 - G60 - G604 - G608 - G634 - G640 - G69 - G71 - G84 - G95 - G98 - I301 - I303 - I309 - I317 - F679 - G407 - G518 - I320 - I337 - I343 - I349 - I353 - I354 - I358 - J34 - J42 - J43 - J582 - J6 - J60 - J68 - M200 - M374 - M402 - M432 - M45 - M65 - O14 - O15 - O21 - O4 - O6 - O7 - O8 - R1 - R15 - R17 - R2 - R22 - R23 - R3 - R32 - R34 - R43 - R5 - R6 - R7 - R9 - T117 - T133 - T178 - T218 - T234 - T244 - T245 - T312 - T313 - T78 - T8 - W357 - W364 - W406 - W717 - W785 - W90 - W92 - X001 - X103 - X108 - X118 - X12 - X126 - X132 - X138 - X139 - X141 - X146 - X147 - X151 - X155 - X163 - X18 - X185 - X195 - X197 - X199 - X201 - X203 - X220', 'X243']\n"
     ]
    },
    {
     "name": "stdout",
     "output_type": "stream",
     "text": [
      "Feature cylinder - levels merged : ['AA11 - AA17 - E26 - E303 - E310 - E69 - E72 - E74 - E77 - E86 - E90 - F067 - F121 - F131 - F146 - F159 - F169 - F25 - F264 - F331 - F372 - F383 - F571 - F601 - F374 - F672 - F685 - F72 - F76 - F98 - G150 - G3 - G416 - G462 - G467 - G48 - G496 - G5 - G55 - G60 - G604 - G608 - G634 - G640 - G69 - G71 - G84 - G95 - G98 - I301 - I303 - I309 - I317 - F679 - G407 - G518 - I320 - I337 - I343 - I349 - I353 - I354 - I358 - J34 - J42 - J43 - J582 - J6 - J60 - J68 - M200 - M374 - M402 - M432 - M45 - M65 - O14 - O15 - O21 - O4 - O6 - O7 - O8 - R1 - R15 - R17 - R2 - R22 - R23 - R3 - R32 - R34 - R43 - R5 - R6 - R7 - R9 - T117 - T133 - T178 - T218 - T234 - T244 - T245 - T312 - T313 - T78 - T8 - W357 - W364 - W406 - W717 - W785 - W90 - W92 - X001 - X103 - X108 - X118 - X12 - X126 - X132 - X138 - X139 - X141 - X146 - X147 - X151 - X155 - X163 - X18 - X185 - X195 - X197 - X199 - X201 - X203 - X220 - X243', 'X249']\n",
      "Feature cylinder - levels merged : ['AA11 - AA17 - E26 - E303 - E310 - E69 - E72 - E74 - E77 - E86 - E90 - F067 - F121 - F131 - F146 - F159 - F169 - F25 - F264 - F331 - F372 - F383 - F571 - F601 - F374 - F672 - F685 - F72 - F76 - F98 - G150 - G3 - G416 - G462 - G467 - G48 - G496 - G5 - G55 - G60 - G604 - G608 - G634 - G640 - G69 - G71 - G84 - G95 - G98 - I301 - I303 - I309 - I317 - F679 - G407 - G518 - I320 - I337 - I343 - I349 - I353 - I354 - I358 - J34 - J42 - J43 - J582 - J6 - J60 - J68 - M200 - M374 - M402 - M432 - M45 - M65 - O14 - O15 - O21 - O4 - O6 - O7 - O8 - R1 - R15 - R17 - R2 - R22 - R23 - R3 - R32 - R34 - R43 - R5 - R6 - R7 - R9 - T117 - T133 - T178 - T218 - T234 - T244 - T245 - T312 - T313 - T78 - T8 - W357 - W364 - W406 - W717 - W785 - W90 - W92 - X001 - X103 - X108 - X118 - X12 - X126 - X132 - X138 - X139 - X141 - X146 - X147 - X151 - X155 - X163 - X18 - X185 - X195 - X197 - X199 - X201 - X203 - X220 - X243 - X249', 'X25']\n",
      "Feature cylinder - levels merged : ['AA11 - AA17 - E26 - E303 - E310 - E69 - E72 - E74 - E77 - E86 - E90 - F067 - F121 - F131 - F146 - F159 - F169 - F25 - F264 - F331 - F372 - F383 - F571 - F601 - F374 - F672 - F685 - F72 - F76 - F98 - G150 - G3 - G416 - G462 - G467 - G48 - G496 - G5 - G55 - G60 - G604 - G608 - G634 - G640 - G69 - G71 - G84 - G95 - G98 - I301 - I303 - I309 - I317 - F679 - G407 - G518 - I320 - I337 - I343 - I349 - I353 - I354 - I358 - J34 - J42 - J43 - J582 - J6 - J60 - J68 - M200 - M374 - M402 - M432 - M45 - M65 - O14 - O15 - O21 - O4 - O6 - O7 - O8 - R1 - R15 - R17 - R2 - R22 - R23 - R3 - R32 - R34 - R43 - R5 - R6 - R7 - R9 - T117 - T133 - T178 - T218 - T234 - T244 - T245 - T312 - T313 - T78 - T8 - W357 - W364 - W406 - W717 - W785 - W90 - W92 - X001 - X103 - X108 - X118 - X12 - X126 - X132 - X138 - X139 - X141 - X146 - X147 - X151 - X155 - X163 - X18 - X185 - X195 - X197 - X199 - X201 - X203 - X220 - X243 - X249 - X25', 'X251']\n",
      "Feature cylinder - levels merged : ['AA11 - AA17 - E26 - E303 - E310 - E69 - E72 - E74 - E77 - E86 - E90 - F067 - F121 - F131 - F146 - F159 - F169 - F25 - F264 - F331 - F372 - F383 - F571 - F601 - F374 - F672 - F685 - F72 - F76 - F98 - G150 - G3 - G416 - G462 - G467 - G48 - G496 - G5 - G55 - G60 - G604 - G608 - G634 - G640 - G69 - G71 - G84 - G95 - G98 - I301 - I303 - I309 - I317 - F679 - G407 - G518 - I320 - I337 - I343 - I349 - I353 - I354 - I358 - J34 - J42 - J43 - J582 - J6 - J60 - J68 - M200 - M374 - M402 - M432 - M45 - M65 - O14 - O15 - O21 - O4 - O6 - O7 - O8 - R1 - R15 - R17 - R2 - R22 - R23 - R3 - R32 - R34 - R43 - R5 - R6 - R7 - R9 - T117 - T133 - T178 - T218 - T234 - T244 - T245 - T312 - T313 - T78 - T8 - W357 - W364 - W406 - W717 - W785 - W90 - W92 - X001 - X103 - X108 - X118 - X12 - X126 - X132 - X138 - X139 - X141 - X146 - X147 - X151 - X155 - X163 - X18 - X185 - X195 - X197 - X199 - X201 - X203 - X220 - X243 - X249 - X25 - X251', 'X253']\n",
      "Feature cylinder - levels merged : ['AA11 - AA17 - E26 - E303 - E310 - E69 - E72 - E74 - E77 - E86 - E90 - F067 - F121 - F131 - F146 - F159 - F169 - F25 - F264 - F331 - F372 - F383 - F571 - F601 - F374 - F672 - F685 - F72 - F76 - F98 - G150 - G3 - G416 - G462 - G467 - G48 - G496 - G5 - G55 - G60 - G604 - G608 - G634 - G640 - G69 - G71 - G84 - G95 - G98 - I301 - I303 - I309 - I317 - F679 - G407 - G518 - I320 - I337 - I343 - I349 - I353 - I354 - I358 - J34 - J42 - J43 - J582 - J6 - J60 - J68 - M200 - M374 - M402 - M432 - M45 - M65 - O14 - O15 - O21 - O4 - O6 - O7 - O8 - R1 - R15 - R17 - R2 - R22 - R23 - R3 - R32 - R34 - R43 - R5 - R6 - R7 - R9 - T117 - T133 - T178 - T218 - T234 - T244 - T245 - T312 - T313 - T78 - T8 - W357 - W364 - W406 - W717 - W785 - W90 - W92 - X001 - X103 - X108 - X118 - X12 - X126 - X132 - X138 - X139 - X141 - X146 - X147 - X151 - X155 - X163 - X18 - X185 - X195 - X197 - X199 - X201 - X203 - X220 - X243 - X249 - X25 - X251 - X253', 'X264']\n",
      "Feature cylinder - levels merged : ['AA11 - AA17 - E26 - E303 - E310 - E69 - E72 - E74 - E77 - E86 - E90 - F067 - F121 - F131 - F146 - F159 - F169 - F25 - F264 - F331 - F372 - F383 - F571 - F601 - F374 - F672 - F685 - F72 - F76 - F98 - G150 - G3 - G416 - G462 - G467 - G48 - G496 - G5 - G55 - G60 - G604 - G608 - G634 - G640 - G69 - G71 - G84 - G95 - G98 - I301 - I303 - I309 - I317 - F679 - G407 - G518 - I320 - I337 - I343 - I349 - I353 - I354 - I358 - J34 - J42 - J43 - J582 - J6 - J60 - J68 - M200 - M374 - M402 - M432 - M45 - M65 - O14 - O15 - O21 - O4 - O6 - O7 - O8 - R1 - R15 - R17 - R2 - R22 - R23 - R3 - R32 - R34 - R43 - R5 - R6 - R7 - R9 - T117 - T133 - T178 - T218 - T234 - T244 - T245 - T312 - T313 - T78 - T8 - W357 - W364 - W406 - W717 - W785 - W90 - W92 - X001 - X103 - X108 - X118 - X12 - X126 - X132 - X138 - X139 - X141 - X146 - X147 - X151 - X155 - X163 - X18 - X185 - X195 - X197 - X199 - X201 - X203 - X220 - X243 - X249 - X25 - X251 - X253 - X264', 'X271']\n",
      "Feature cylinder - levels merged : ['AA11 - AA17 - E26 - E303 - E310 - E69 - E72 - E74 - E77 - E86 - E90 - F067 - F121 - F131 - F146 - F159 - F169 - F25 - F264 - F331 - F372 - F383 - F571 - F601 - F374 - F672 - F685 - F72 - F76 - F98 - G150 - G3 - G416 - G462 - G467 - G48 - G496 - G5 - G55 - G60 - G604 - G608 - G634 - G640 - G69 - G71 - G84 - G95 - G98 - I301 - I303 - I309 - I317 - F679 - G407 - G518 - I320 - I337 - I343 - I349 - I353 - I354 - I358 - J34 - J42 - J43 - J582 - J6 - J60 - J68 - M200 - M374 - M402 - M432 - M45 - M65 - O14 - O15 - O21 - O4 - O6 - O7 - O8 - R1 - R15 - R17 - R2 - R22 - R23 - R3 - R32 - R34 - R43 - R5 - R6 - R7 - R9 - T117 - T133 - T178 - T218 - T234 - T244 - T245 - T312 - T313 - T78 - T8 - W357 - W364 - W406 - W717 - W785 - W90 - W92 - X001 - X103 - X108 - X118 - X12 - X126 - X132 - X138 - X139 - X141 - X146 - X147 - X151 - X155 - X163 - X18 - X185 - X195 - X197 - X199 - X201 - X203 - X220 - X243 - X249 - X25 - X251 - X253 - X264 - X271', 'X273']\n",
      "Feature cylinder - levels merged : ['AA11 - AA17 - E26 - E303 - E310 - E69 - E72 - E74 - E77 - E86 - E90 - F067 - F121 - F131 - F146 - F159 - F169 - F25 - F264 - F331 - F372 - F383 - F571 - F601 - F374 - F672 - F685 - F72 - F76 - F98 - G150 - G3 - G416 - G462 - G467 - G48 - G496 - G5 - G55 - G60 - G604 - G608 - G634 - G640 - G69 - G71 - G84 - G95 - G98 - I301 - I303 - I309 - I317 - F679 - G407 - G518 - I320 - I337 - I343 - I349 - I353 - I354 - I358 - J34 - J42 - J43 - J582 - J6 - J60 - J68 - M200 - M374 - M402 - M432 - M45 - M65 - O14 - O15 - O21 - O4 - O6 - O7 - O8 - R1 - R15 - R17 - R2 - R22 - R23 - R3 - R32 - R34 - R43 - R5 - R6 - R7 - R9 - T117 - T133 - T178 - T218 - T234 - T244 - T245 - T312 - T313 - T78 - T8 - W357 - W364 - W406 - W717 - W785 - W90 - W92 - X001 - X103 - X108 - X118 - X12 - X126 - X132 - X138 - X139 - X141 - X146 - X147 - X151 - X155 - X163 - X18 - X185 - X195 - X197 - X199 - X201 - X203 - X220 - X243 - X249 - X25 - X251 - X253 - X264 - X271 - X273', 'X281']\n",
      "Feature cylinder - levels merged : ['AA11 - AA17 - E26 - E303 - E310 - E69 - E72 - E74 - E77 - E86 - E90 - F067 - F121 - F131 - F146 - F159 - F169 - F25 - F264 - F331 - F372 - F383 - F571 - F601 - F374 - F672 - F685 - F72 - F76 - F98 - G150 - G3 - G416 - G462 - G467 - G48 - G496 - G5 - G55 - G60 - G604 - G608 - G634 - G640 - G69 - G71 - G84 - G95 - G98 - I301 - I303 - I309 - I317 - F679 - G407 - G518 - I320 - I337 - I343 - I349 - I353 - I354 - I358 - J34 - J42 - J43 - J582 - J6 - J60 - J68 - M200 - M374 - M402 - M432 - M45 - M65 - O14 - O15 - O21 - O4 - O6 - O7 - O8 - R1 - R15 - R17 - R2 - R22 - R23 - R3 - R32 - R34 - R43 - R5 - R6 - R7 - R9 - T117 - T133 - T178 - T218 - T234 - T244 - T245 - T312 - T313 - T78 - T8 - W357 - W364 - W406 - W717 - W785 - W90 - W92 - X001 - X103 - X108 - X118 - X12 - X126 - X132 - X138 - X139 - X141 - X146 - X147 - X151 - X155 - X163 - X18 - X185 - X195 - X197 - X199 - X201 - X203 - X220 - X243 - X249 - X25 - X251 - X253 - X264 - X271 - X273 - X281', 'X291']\n"
     ]
    },
    {
     "name": "stdout",
     "output_type": "stream",
     "text": [
      "Feature cylinder - levels merged : ['AA11 - AA17 - E26 - E303 - E310 - E69 - E72 - E74 - E77 - E86 - E90 - F067 - F121 - F131 - F146 - F159 - F169 - F25 - F264 - F331 - F372 - F383 - F571 - F601 - F374 - F672 - F685 - F72 - F76 - F98 - G150 - G3 - G416 - G462 - G467 - G48 - G496 - G5 - G55 - G60 - G604 - G608 - G634 - G640 - G69 - G71 - G84 - G95 - G98 - I301 - I303 - I309 - I317 - F679 - G407 - G518 - I320 - I337 - I343 - I349 - I353 - I354 - I358 - J34 - J42 - J43 - J582 - J6 - J60 - J68 - M200 - M374 - M402 - M432 - M45 - M65 - O14 - O15 - O21 - O4 - O6 - O7 - O8 - R1 - R15 - R17 - R2 - R22 - R23 - R3 - R32 - R34 - R43 - R5 - R6 - R7 - R9 - T117 - T133 - T178 - T218 - T234 - T244 - T245 - T312 - T313 - T78 - T8 - W357 - W364 - W406 - W717 - W785 - W90 - W92 - X001 - X103 - X108 - X118 - X12 - X126 - X132 - X138 - X139 - X141 - X146 - X147 - X151 - X155 - X163 - X18 - X185 - X195 - X197 - X199 - X201 - X203 - X220 - X243 - X249 - X25 - X251 - X253 - X264 - X271 - X273 - X281 - X291', 'X292']\n",
      "Feature cylinder - levels merged : ['AA11 - AA17 - E26 - E303 - E310 - E69 - E72 - E74 - E77 - E86 - E90 - F067 - F121 - F131 - F146 - F159 - F169 - F25 - F264 - F331 - F372 - F383 - F571 - F601 - F374 - F672 - F685 - F72 - F76 - F98 - G150 - G3 - G416 - G462 - G467 - G48 - G496 - G5 - G55 - G60 - G604 - G608 - G634 - G640 - G69 - G71 - G84 - G95 - G98 - I301 - I303 - I309 - I317 - F679 - G407 - G518 - I320 - I337 - I343 - I349 - I353 - I354 - I358 - J34 - J42 - J43 - J582 - J6 - J60 - J68 - M200 - M374 - M402 - M432 - M45 - M65 - O14 - O15 - O21 - O4 - O6 - O7 - O8 - R1 - R15 - R17 - R2 - R22 - R23 - R3 - R32 - R34 - R43 - R5 - R6 - R7 - R9 - T117 - T133 - T178 - T218 - T234 - T244 - T245 - T312 - T313 - T78 - T8 - W357 - W364 - W406 - W717 - W785 - W90 - W92 - X001 - X103 - X108 - X118 - X12 - X126 - X132 - X138 - X139 - X141 - X146 - X147 - X151 - X155 - X163 - X18 - X185 - X195 - X197 - X199 - X201 - X203 - X220 - X243 - X249 - X25 - X251 - X253 - X264 - X271 - X273 - X281 - X291 - X292', 'X295']\n",
      "Feature cylinder - levels merged : ['AA11 - AA17 - E26 - E303 - E310 - E69 - E72 - E74 - E77 - E86 - E90 - F067 - F121 - F131 - F146 - F159 - F169 - F25 - F264 - F331 - F372 - F383 - F571 - F601 - F374 - F672 - F685 - F72 - F76 - F98 - G150 - G3 - G416 - G462 - G467 - G48 - G496 - G5 - G55 - G60 - G604 - G608 - G634 - G640 - G69 - G71 - G84 - G95 - G98 - I301 - I303 - I309 - I317 - F679 - G407 - G518 - I320 - I337 - I343 - I349 - I353 - I354 - I358 - J34 - J42 - J43 - J582 - J6 - J60 - J68 - M200 - M374 - M402 - M432 - M45 - M65 - O14 - O15 - O21 - O4 - O6 - O7 - O8 - R1 - R15 - R17 - R2 - R22 - R23 - R3 - R32 - R34 - R43 - R5 - R6 - R7 - R9 - T117 - T133 - T178 - T218 - T234 - T244 - T245 - T312 - T313 - T78 - T8 - W357 - W364 - W406 - W717 - W785 - W90 - W92 - X001 - X103 - X108 - X118 - X12 - X126 - X132 - X138 - X139 - X141 - X146 - X147 - X151 - X155 - X163 - X18 - X185 - X195 - X197 - X199 - X201 - X203 - X220 - X243 - X249 - X25 - X251 - X253 - X264 - X271 - X273 - X281 - X291 - X292 - X295', 'X297']\n",
      "Feature cylinder - levels merged : ['AA11 - AA17 - E26 - E303 - E310 - E69 - E72 - E74 - E77 - E86 - E90 - F067 - F121 - F131 - F146 - F159 - F169 - F25 - F264 - F331 - F372 - F383 - F571 - F601 - F374 - F672 - F685 - F72 - F76 - F98 - G150 - G3 - G416 - G462 - G467 - G48 - G496 - G5 - G55 - G60 - G604 - G608 - G634 - G640 - G69 - G71 - G84 - G95 - G98 - I301 - I303 - I309 - I317 - F679 - G407 - G518 - I320 - I337 - I343 - I349 - I353 - I354 - I358 - J34 - J42 - J43 - J582 - J6 - J60 - J68 - M200 - M374 - M402 - M432 - M45 - M65 - O14 - O15 - O21 - O4 - O6 - O7 - O8 - R1 - R15 - R17 - R2 - R22 - R23 - R3 - R32 - R34 - R43 - R5 - R6 - R7 - R9 - T117 - T133 - T178 - T218 - T234 - T244 - T245 - T312 - T313 - T78 - T8 - W357 - W364 - W406 - W717 - W785 - W90 - W92 - X001 - X103 - X108 - X118 - X12 - X126 - X132 - X138 - X139 - X141 - X146 - X147 - X151 - X155 - X163 - X18 - X185 - X195 - X197 - X199 - X201 - X203 - X220 - X243 - X249 - X25 - X251 - X253 - X264 - X271 - X273 - X281 - X291 - X292 - X295 - X297', 'X304']\n",
      "Feature cylinder - levels merged : ['AA11 - AA17 - E26 - E303 - E310 - E69 - E72 - E74 - E77 - E86 - E90 - F067 - F121 - F131 - F146 - F159 - F169 - F25 - F264 - F331 - F372 - F383 - F571 - F601 - F374 - F672 - F685 - F72 - F76 - F98 - G150 - G3 - G416 - G462 - G467 - G48 - G496 - G5 - G55 - G60 - G604 - G608 - G634 - G640 - G69 - G71 - G84 - G95 - G98 - I301 - I303 - I309 - I317 - F679 - G407 - G518 - I320 - I337 - I343 - I349 - I353 - I354 - I358 - J34 - J42 - J43 - J582 - J6 - J60 - J68 - M200 - M374 - M402 - M432 - M45 - M65 - O14 - O15 - O21 - O4 - O6 - O7 - O8 - R1 - R15 - R17 - R2 - R22 - R23 - R3 - R32 - R34 - R43 - R5 - R6 - R7 - R9 - T117 - T133 - T178 - T218 - T234 - T244 - T245 - T312 - T313 - T78 - T8 - W357 - W364 - W406 - W717 - W785 - W90 - W92 - X001 - X103 - X108 - X118 - X12 - X126 - X132 - X138 - X139 - X141 - X146 - X147 - X151 - X155 - X163 - X18 - X185 - X195 - X197 - X199 - X201 - X203 - X220 - X243 - X249 - X25 - X251 - X253 - X264 - X271 - X273 - X281 - X291 - X292 - X295 - X297 - X304', 'X308']\n",
      "Feature cylinder - levels merged : ['AA11 - AA17 - E26 - E303 - E310 - E69 - E72 - E74 - E77 - E86 - E90 - F067 - F121 - F131 - F146 - F159 - F169 - F25 - F264 - F331 - F372 - F383 - F571 - F601 - F374 - F672 - F685 - F72 - F76 - F98 - G150 - G3 - G416 - G462 - G467 - G48 - G496 - G5 - G55 - G60 - G604 - G608 - G634 - G640 - G69 - G71 - G84 - G95 - G98 - I301 - I303 - I309 - I317 - F679 - G407 - G518 - I320 - I337 - I343 - I349 - I353 - I354 - I358 - J34 - J42 - J43 - J582 - J6 - J60 - J68 - M200 - M374 - M402 - M432 - M45 - M65 - O14 - O15 - O21 - O4 - O6 - O7 - O8 - R1 - R15 - R17 - R2 - R22 - R23 - R3 - R32 - R34 - R43 - R5 - R6 - R7 - R9 - T117 - T133 - T178 - T218 - T234 - T244 - T245 - T312 - T313 - T78 - T8 - W357 - W364 - W406 - W717 - W785 - W90 - W92 - X001 - X103 - X108 - X118 - X12 - X126 - X132 - X138 - X139 - X141 - X146 - X147 - X151 - X155 - X163 - X18 - X185 - X195 - X197 - X199 - X201 - X203 - X220 - X243 - X249 - X25 - X251 - X253 - X264 - X271 - X273 - X281 - X291 - X292 - X295 - X297 - X304 - X308', 'X326']\n",
      "Feature cylinder - levels merged : ['AA11 - AA17 - E26 - E303 - E310 - E69 - E72 - E74 - E77 - E86 - E90 - F067 - F121 - F131 - F146 - F159 - F169 - F25 - F264 - F331 - F372 - F383 - F571 - F601 - F374 - F672 - F685 - F72 - F76 - F98 - G150 - G3 - G416 - G462 - G467 - G48 - G496 - G5 - G55 - G60 - G604 - G608 - G634 - G640 - G69 - G71 - G84 - G95 - G98 - I301 - I303 - I309 - I317 - F679 - G407 - G518 - I320 - I337 - I343 - I349 - I353 - I354 - I358 - J34 - J42 - J43 - J582 - J6 - J60 - J68 - M200 - M374 - M402 - M432 - M45 - M65 - O14 - O15 - O21 - O4 - O6 - O7 - O8 - R1 - R15 - R17 - R2 - R22 - R23 - R3 - R32 - R34 - R43 - R5 - R6 - R7 - R9 - T117 - T133 - T178 - T218 - T234 - T244 - T245 - T312 - T313 - T78 - T8 - W357 - W364 - W406 - W717 - W785 - W90 - W92 - X001 - X103 - X108 - X118 - X12 - X126 - X132 - X138 - X139 - X141 - X146 - X147 - X151 - X155 - X163 - X18 - X185 - X195 - X197 - X199 - X201 - X203 - X220 - X243 - X249 - X25 - X251 - X253 - X264 - X271 - X273 - X281 - X291 - X292 - X295 - X297 - X304 - X308 - X326', 'X333']\n",
      "Feature cylinder - levels merged : ['AA11 - AA17 - E26 - E303 - E310 - E69 - E72 - E74 - E77 - E86 - E90 - F067 - F121 - F131 - F146 - F159 - F169 - F25 - F264 - F331 - F372 - F383 - F571 - F601 - F374 - F672 - F685 - F72 - F76 - F98 - G150 - G3 - G416 - G462 - G467 - G48 - G496 - G5 - G55 - G60 - G604 - G608 - G634 - G640 - G69 - G71 - G84 - G95 - G98 - I301 - I303 - I309 - I317 - F679 - G407 - G518 - I320 - I337 - I343 - I349 - I353 - I354 - I358 - J34 - J42 - J43 - J582 - J6 - J60 - J68 - M200 - M374 - M402 - M432 - M45 - M65 - O14 - O15 - O21 - O4 - O6 - O7 - O8 - R1 - R15 - R17 - R2 - R22 - R23 - R3 - R32 - R34 - R43 - R5 - R6 - R7 - R9 - T117 - T133 - T178 - T218 - T234 - T244 - T245 - T312 - T313 - T78 - T8 - W357 - W364 - W406 - W717 - W785 - W90 - W92 - X001 - X103 - X108 - X118 - X12 - X126 - X132 - X138 - X139 - X141 - X146 - X147 - X151 - X155 - X163 - X18 - X185 - X195 - X197 - X199 - X201 - X203 - X220 - X243 - X249 - X25 - X251 - X253 - X264 - X271 - X273 - X281 - X291 - X292 - X295 - X297 - X304 - X308 - X326 - X333', 'X342']\n"
     ]
    },
    {
     "name": "stdout",
     "output_type": "stream",
     "text": [
      "Feature cylinder - levels merged : ['AA11 - AA17 - E26 - E303 - E310 - E69 - E72 - E74 - E77 - E86 - E90 - F067 - F121 - F131 - F146 - F159 - F169 - F25 - F264 - F331 - F372 - F383 - F571 - F601 - F374 - F672 - F685 - F72 - F76 - F98 - G150 - G3 - G416 - G462 - G467 - G48 - G496 - G5 - G55 - G60 - G604 - G608 - G634 - G640 - G69 - G71 - G84 - G95 - G98 - I301 - I303 - I309 - I317 - F679 - G407 - G518 - I320 - I337 - I343 - I349 - I353 - I354 - I358 - J34 - J42 - J43 - J582 - J6 - J60 - J68 - M200 - M374 - M402 - M432 - M45 - M65 - O14 - O15 - O21 - O4 - O6 - O7 - O8 - R1 - R15 - R17 - R2 - R22 - R23 - R3 - R32 - R34 - R43 - R5 - R6 - R7 - R9 - T117 - T133 - T178 - T218 - T234 - T244 - T245 - T312 - T313 - T78 - T8 - W357 - W364 - W406 - W717 - W785 - W90 - W92 - X001 - X103 - X108 - X118 - X12 - X126 - X132 - X138 - X139 - X141 - X146 - X147 - X151 - X155 - X163 - X18 - X185 - X195 - X197 - X199 - X201 - X203 - X220 - X243 - X249 - X25 - X251 - X253 - X264 - X271 - X273 - X281 - X291 - X292 - X295 - X297 - X304 - X308 - X326 - X333 - X342', 'X346']\n",
      "Feature cylinder - levels merged : ['AA11 - AA17 - E26 - E303 - E310 - E69 - E72 - E74 - E77 - E86 - E90 - F067 - F121 - F131 - F146 - F159 - F169 - F25 - F264 - F331 - F372 - F383 - F571 - F601 - F374 - F672 - F685 - F72 - F76 - F98 - G150 - G3 - G416 - G462 - G467 - G48 - G496 - G5 - G55 - G60 - G604 - G608 - G634 - G640 - G69 - G71 - G84 - G95 - G98 - I301 - I303 - I309 - I317 - F679 - G407 - G518 - I320 - I337 - I343 - I349 - I353 - I354 - I358 - J34 - J42 - J43 - J582 - J6 - J60 - J68 - M200 - M374 - M402 - M432 - M45 - M65 - O14 - O15 - O21 - O4 - O6 - O7 - O8 - R1 - R15 - R17 - R2 - R22 - R23 - R3 - R32 - R34 - R43 - R5 - R6 - R7 - R9 - T117 - T133 - T178 - T218 - T234 - T244 - T245 - T312 - T313 - T78 - T8 - W357 - W364 - W406 - W717 - W785 - W90 - W92 - X001 - X103 - X108 - X118 - X12 - X126 - X132 - X138 - X139 - X141 - X146 - X147 - X151 - X155 - X163 - X18 - X185 - X195 - X197 - X199 - X201 - X203 - X220 - X243 - X249 - X25 - X251 - X253 - X264 - X271 - X273 - X281 - X291 - X292 - X295 - X297 - X304 - X308 - X326 - X333 - X342 - X346', 'X35']\n",
      "Feature cylinder - levels merged : ['AA11 - AA17 - E26 - E303 - E310 - E69 - E72 - E74 - E77 - E86 - E90 - F067 - F121 - F131 - F146 - F159 - F169 - F25 - F264 - F331 - F372 - F383 - F571 - F601 - F374 - F672 - F685 - F72 - F76 - F98 - G150 - G3 - G416 - G462 - G467 - G48 - G496 - G5 - G55 - G60 - G604 - G608 - G634 - G640 - G69 - G71 - G84 - G95 - G98 - I301 - I303 - I309 - I317 - F679 - G407 - G518 - I320 - I337 - I343 - I349 - I353 - I354 - I358 - J34 - J42 - J43 - J582 - J6 - J60 - J68 - M200 - M374 - M402 - M432 - M45 - M65 - O14 - O15 - O21 - O4 - O6 - O7 - O8 - R1 - R15 - R17 - R2 - R22 - R23 - R3 - R32 - R34 - R43 - R5 - R6 - R7 - R9 - T117 - T133 - T178 - T218 - T234 - T244 - T245 - T312 - T313 - T78 - T8 - W357 - W364 - W406 - W717 - W785 - W90 - W92 - X001 - X103 - X108 - X118 - X12 - X126 - X132 - X138 - X139 - X141 - X146 - X147 - X151 - X155 - X163 - X18 - X185 - X195 - X197 - X199 - X201 - X203 - X220 - X243 - X249 - X25 - X251 - X253 - X264 - X271 - X273 - X281 - X291 - X292 - X295 - X297 - X304 - X308 - X326 - X333 - X342 - X346 - X35', 'X350']\n",
      "Feature cylinder - levels merged : ['AA11 - AA17 - E26 - E303 - E310 - E69 - E72 - E74 - E77 - E86 - E90 - F067 - F121 - F131 - F146 - F159 - F169 - F25 - F264 - F331 - F372 - F383 - F571 - F601 - F374 - F672 - F685 - F72 - F76 - F98 - G150 - G3 - G416 - G462 - G467 - G48 - G496 - G5 - G55 - G60 - G604 - G608 - G634 - G640 - G69 - G71 - G84 - G95 - G98 - I301 - I303 - I309 - I317 - F679 - G407 - G518 - I320 - I337 - I343 - I349 - I353 - I354 - I358 - J34 - J42 - J43 - J582 - J6 - J60 - J68 - M200 - M374 - M402 - M432 - M45 - M65 - O14 - O15 - O21 - O4 - O6 - O7 - O8 - R1 - R15 - R17 - R2 - R22 - R23 - R3 - R32 - R34 - R43 - R5 - R6 - R7 - R9 - T117 - T133 - T178 - T218 - T234 - T244 - T245 - T312 - T313 - T78 - T8 - W357 - W364 - W406 - W717 - W785 - W90 - W92 - X001 - X103 - X108 - X118 - X12 - X126 - X132 - X138 - X139 - X141 - X146 - X147 - X151 - X155 - X163 - X18 - X185 - X195 - X197 - X199 - X201 - X203 - X220 - X243 - X249 - X25 - X251 - X253 - X264 - X271 - X273 - X281 - X291 - X292 - X295 - X297 - X304 - X308 - X326 - X333 - X342 - X346 - X35 - X350', 'X352']\n",
      "Feature cylinder - levels merged : ['AA11 - AA17 - E26 - E303 - E310 - E69 - E72 - E74 - E77 - E86 - E90 - F067 - F121 - F131 - F146 - F159 - F169 - F25 - F264 - F331 - F372 - F383 - F571 - F601 - F374 - F672 - F685 - F72 - F76 - F98 - G150 - G3 - G416 - G462 - G467 - G48 - G496 - G5 - G55 - G60 - G604 - G608 - G634 - G640 - G69 - G71 - G84 - G95 - G98 - I301 - I303 - I309 - I317 - F679 - G407 - G518 - I320 - I337 - I343 - I349 - I353 - I354 - I358 - J34 - J42 - J43 - J582 - J6 - J60 - J68 - M200 - M374 - M402 - M432 - M45 - M65 - O14 - O15 - O21 - O4 - O6 - O7 - O8 - R1 - R15 - R17 - R2 - R22 - R23 - R3 - R32 - R34 - R43 - R5 - R6 - R7 - R9 - T117 - T133 - T178 - T218 - T234 - T244 - T245 - T312 - T313 - T78 - T8 - W357 - W364 - W406 - W717 - W785 - W90 - W92 - X001 - X103 - X108 - X118 - X12 - X126 - X132 - X138 - X139 - X141 - X146 - X147 - X151 - X155 - X163 - X18 - X185 - X195 - X197 - X199 - X201 - X203 - X220 - X243 - X249 - X25 - X251 - X253 - X264 - X271 - X273 - X281 - X291 - X292 - X295 - X297 - X304 - X308 - X326 - X333 - X342 - X346 - X35 - X350 - X352', 'X374']\n",
      "Feature cylinder - levels merged : ['AA11 - AA17 - E26 - E303 - E310 - E69 - E72 - E74 - E77 - E86 - E90 - F067 - F121 - F131 - F146 - F159 - F169 - F25 - F264 - F331 - F372 - F383 - F571 - F601 - F374 - F672 - F685 - F72 - F76 - F98 - G150 - G3 - G416 - G462 - G467 - G48 - G496 - G5 - G55 - G60 - G604 - G608 - G634 - G640 - G69 - G71 - G84 - G95 - G98 - I301 - I303 - I309 - I317 - F679 - G407 - G518 - I320 - I337 - I343 - I349 - I353 - I354 - I358 - J34 - J42 - J43 - J582 - J6 - J60 - J68 - M200 - M374 - M402 - M432 - M45 - M65 - O14 - O15 - O21 - O4 - O6 - O7 - O8 - R1 - R15 - R17 - R2 - R22 - R23 - R3 - R32 - R34 - R43 - R5 - R6 - R7 - R9 - T117 - T133 - T178 - T218 - T234 - T244 - T245 - T312 - T313 - T78 - T8 - W357 - W364 - W406 - W717 - W785 - W90 - W92 - X001 - X103 - X108 - X118 - X12 - X126 - X132 - X138 - X139 - X141 - X146 - X147 - X151 - X155 - X163 - X18 - X185 - X195 - X197 - X199 - X201 - X203 - X220 - X243 - X249 - X25 - X251 - X253 - X264 - X271 - X273 - X281 - X291 - X292 - X295 - X297 - X304 - X308 - X326 - X333 - X342 - X346 - X35 - X350 - X352 - X374', 'X381']\n",
      "Feature cylinder - levels merged : ['AA11 - AA17 - E26 - E303 - E310 - E69 - E72 - E74 - E77 - E86 - E90 - F067 - F121 - F131 - F146 - F159 - F169 - F25 - F264 - F331 - F372 - F383 - F571 - F601 - F374 - F672 - F685 - F72 - F76 - F98 - G150 - G3 - G416 - G462 - G467 - G48 - G496 - G5 - G55 - G60 - G604 - G608 - G634 - G640 - G69 - G71 - G84 - G95 - G98 - I301 - I303 - I309 - I317 - F679 - G407 - G518 - I320 - I337 - I343 - I349 - I353 - I354 - I358 - J34 - J42 - J43 - J582 - J6 - J60 - J68 - M200 - M374 - M402 - M432 - M45 - M65 - O14 - O15 - O21 - O4 - O6 - O7 - O8 - R1 - R15 - R17 - R2 - R22 - R23 - R3 - R32 - R34 - R43 - R5 - R6 - R7 - R9 - T117 - T133 - T178 - T218 - T234 - T244 - T245 - T312 - T313 - T78 - T8 - W357 - W364 - W406 - W717 - W785 - W90 - W92 - X001 - X103 - X108 - X118 - X12 - X126 - X132 - X138 - X139 - X141 - X146 - X147 - X151 - X155 - X163 - X18 - X185 - X195 - X197 - X199 - X201 - X203 - X220 - X243 - X249 - X25 - X251 - X253 - X264 - X271 - X273 - X281 - X291 - X292 - X295 - X297 - X304 - X308 - X326 - X333 - X342 - X346 - X35 - X350 - X352 - X374 - X381', 'X388']\n",
      "Feature cylinder - levels merged : ['AA11 - AA17 - E26 - E303 - E310 - E69 - E72 - E74 - E77 - E86 - E90 - F067 - F121 - F131 - F146 - F159 - F169 - F25 - F264 - F331 - F372 - F383 - F571 - F601 - F374 - F672 - F685 - F72 - F76 - F98 - G150 - G3 - G416 - G462 - G467 - G48 - G496 - G5 - G55 - G60 - G604 - G608 - G634 - G640 - G69 - G71 - G84 - G95 - G98 - I301 - I303 - I309 - I317 - F679 - G407 - G518 - I320 - I337 - I343 - I349 - I353 - I354 - I358 - J34 - J42 - J43 - J582 - J6 - J60 - J68 - M200 - M374 - M402 - M432 - M45 - M65 - O14 - O15 - O21 - O4 - O6 - O7 - O8 - R1 - R15 - R17 - R2 - R22 - R23 - R3 - R32 - R34 - R43 - R5 - R6 - R7 - R9 - T117 - T133 - T178 - T218 - T234 - T244 - T245 - T312 - T313 - T78 - T8 - W357 - W364 - W406 - W717 - W785 - W90 - W92 - X001 - X103 - X108 - X118 - X12 - X126 - X132 - X138 - X139 - X141 - X146 - X147 - X151 - X155 - X163 - X18 - X185 - X195 - X197 - X199 - X201 - X203 - X220 - X243 - X249 - X25 - X251 - X253 - X264 - X271 - X273 - X281 - X291 - X292 - X295 - X297 - X304 - X308 - X326 - X333 - X342 - X346 - X35 - X350 - X352 - X374 - X381 - X388', 'X390']\n"
     ]
    },
    {
     "name": "stdout",
     "output_type": "stream",
     "text": [
      "Feature cylinder - levels merged : ['AA11 - AA17 - E26 - E303 - E310 - E69 - E72 - E74 - E77 - E86 - E90 - F067 - F121 - F131 - F146 - F159 - F169 - F25 - F264 - F331 - F372 - F383 - F571 - F601 - F374 - F672 - F685 - F72 - F76 - F98 - G150 - G3 - G416 - G462 - G467 - G48 - G496 - G5 - G55 - G60 - G604 - G608 - G634 - G640 - G69 - G71 - G84 - G95 - G98 - I301 - I303 - I309 - I317 - F679 - G407 - G518 - I320 - I337 - I343 - I349 - I353 - I354 - I358 - J34 - J42 - J43 - J582 - J6 - J60 - J68 - M200 - M374 - M402 - M432 - M45 - M65 - O14 - O15 - O21 - O4 - O6 - O7 - O8 - R1 - R15 - R17 - R2 - R22 - R23 - R3 - R32 - R34 - R43 - R5 - R6 - R7 - R9 - T117 - T133 - T178 - T218 - T234 - T244 - T245 - T312 - T313 - T78 - T8 - W357 - W364 - W406 - W717 - W785 - W90 - W92 - X001 - X103 - X108 - X118 - X12 - X126 - X132 - X138 - X139 - X141 - X146 - X147 - X151 - X155 - X163 - X18 - X185 - X195 - X197 - X199 - X201 - X203 - X220 - X243 - X249 - X25 - X251 - X253 - X264 - X271 - X273 - X281 - X291 - X292 - X295 - X297 - X304 - X308 - X326 - X333 - X342 - X346 - X35 - X350 - X352 - X374 - X381 - X388 - X390', 'X396']\n",
      "Feature cylinder - levels merged : ['AA11 - AA17 - E26 - E303 - E310 - E69 - E72 - E74 - E77 - E86 - E90 - F067 - F121 - F131 - F146 - F159 - F169 - F25 - F264 - F331 - F372 - F383 - F571 - F601 - F374 - F672 - F685 - F72 - F76 - F98 - G150 - G3 - G416 - G462 - G467 - G48 - G496 - G5 - G55 - G60 - G604 - G608 - G634 - G640 - G69 - G71 - G84 - G95 - G98 - I301 - I303 - I309 - I317 - F679 - G407 - G518 - I320 - I337 - I343 - I349 - I353 - I354 - I358 - J34 - J42 - J43 - J582 - J6 - J60 - J68 - M200 - M374 - M402 - M432 - M45 - M65 - O14 - O15 - O21 - O4 - O6 - O7 - O8 - R1 - R15 - R17 - R2 - R22 - R23 - R3 - R32 - R34 - R43 - R5 - R6 - R7 - R9 - T117 - T133 - T178 - T218 - T234 - T244 - T245 - T312 - T313 - T78 - T8 - W357 - W364 - W406 - W717 - W785 - W90 - W92 - X001 - X103 - X108 - X118 - X12 - X126 - X132 - X138 - X139 - X141 - X146 - X147 - X151 - X155 - X163 - X18 - X185 - X195 - X197 - X199 - X201 - X203 - X220 - X243 - X249 - X25 - X251 - X253 - X264 - X271 - X273 - X281 - X291 - X292 - X295 - X297 - X304 - X308 - X326 - X333 - X342 - X346 - X35 - X350 - X352 - X374 - X381 - X388 - X390 - X396', 'X400']\n",
      "Feature cylinder - levels merged : ['AA11 - AA17 - E26 - E303 - E310 - E69 - E72 - E74 - E77 - E86 - E90 - F067 - F121 - F131 - F146 - F159 - F169 - F25 - F264 - F331 - F372 - F383 - F571 - F601 - F374 - F672 - F685 - F72 - F76 - F98 - G150 - G3 - G416 - G462 - G467 - G48 - G496 - G5 - G55 - G60 - G604 - G608 - G634 - G640 - G69 - G71 - G84 - G95 - G98 - I301 - I303 - I309 - I317 - F679 - G407 - G518 - I320 - I337 - I343 - I349 - I353 - I354 - I358 - J34 - J42 - J43 - J582 - J6 - J60 - J68 - M200 - M374 - M402 - M432 - M45 - M65 - O14 - O15 - O21 - O4 - O6 - O7 - O8 - R1 - R15 - R17 - R2 - R22 - R23 - R3 - R32 - R34 - R43 - R5 - R6 - R7 - R9 - T117 - T133 - T178 - T218 - T234 - T244 - T245 - T312 - T313 - T78 - T8 - W357 - W364 - W406 - W717 - W785 - W90 - W92 - X001 - X103 - X108 - X118 - X12 - X126 - X132 - X138 - X139 - X141 - X146 - X147 - X151 - X155 - X163 - X18 - X185 - X195 - X197 - X199 - X201 - X203 - X220 - X243 - X249 - X25 - X251 - X253 - X264 - X271 - X273 - X281 - X291 - X292 - X295 - X297 - X304 - X308 - X326 - X333 - X342 - X346 - X35 - X350 - X352 - X374 - X381 - X388 - X390 - X396 - X400', 'X405']\n",
      "Feature cylinder - levels merged : ['AA11 - AA17 - E26 - E303 - E310 - E69 - E72 - E74 - E77 - E86 - E90 - F067 - F121 - F131 - F146 - F159 - F169 - F25 - F264 - F331 - F372 - F383 - F571 - F601 - F374 - F672 - F685 - F72 - F76 - F98 - G150 - G3 - G416 - G462 - G467 - G48 - G496 - G5 - G55 - G60 - G604 - G608 - G634 - G640 - G69 - G71 - G84 - G95 - G98 - I301 - I303 - I309 - I317 - F679 - G407 - G518 - I320 - I337 - I343 - I349 - I353 - I354 - I358 - J34 - J42 - J43 - J582 - J6 - J60 - J68 - M200 - M374 - M402 - M432 - M45 - M65 - O14 - O15 - O21 - O4 - O6 - O7 - O8 - R1 - R15 - R17 - R2 - R22 - R23 - R3 - R32 - R34 - R43 - R5 - R6 - R7 - R9 - T117 - T133 - T178 - T218 - T234 - T244 - T245 - T312 - T313 - T78 - T8 - W357 - W364 - W406 - W717 - W785 - W90 - W92 - X001 - X103 - X108 - X118 - X12 - X126 - X132 - X138 - X139 - X141 - X146 - X147 - X151 - X155 - X163 - X18 - X185 - X195 - X197 - X199 - X201 - X203 - X220 - X243 - X249 - X25 - X251 - X253 - X264 - X271 - X273 - X281 - X291 - X292 - X295 - X297 - X304 - X308 - X326 - X333 - X342 - X346 - X35 - X350 - X352 - X374 - X381 - X388 - X390 - X396 - X400 - X405', 'X408']\n",
      "Feature cylinder - levels merged : ['AA11 - AA17 - E26 - E303 - E310 - E69 - E72 - E74 - E77 - E86 - E90 - F067 - F121 - F131 - F146 - F159 - F169 - F25 - F264 - F331 - F372 - F383 - F571 - F601 - F374 - F672 - F685 - F72 - F76 - F98 - G150 - G3 - G416 - G462 - G467 - G48 - G496 - G5 - G55 - G60 - G604 - G608 - G634 - G640 - G69 - G71 - G84 - G95 - G98 - I301 - I303 - I309 - I317 - F679 - G407 - G518 - I320 - I337 - I343 - I349 - I353 - I354 - I358 - J34 - J42 - J43 - J582 - J6 - J60 - J68 - M200 - M374 - M402 - M432 - M45 - M65 - O14 - O15 - O21 - O4 - O6 - O7 - O8 - R1 - R15 - R17 - R2 - R22 - R23 - R3 - R32 - R34 - R43 - R5 - R6 - R7 - R9 - T117 - T133 - T178 - T218 - T234 - T244 - T245 - T312 - T313 - T78 - T8 - W357 - W364 - W406 - W717 - W785 - W90 - W92 - X001 - X103 - X108 - X118 - X12 - X126 - X132 - X138 - X139 - X141 - X146 - X147 - X151 - X155 - X163 - X18 - X185 - X195 - X197 - X199 - X201 - X203 - X220 - X243 - X249 - X25 - X251 - X253 - X264 - X271 - X273 - X281 - X291 - X292 - X295 - X297 - X304 - X308 - X326 - X333 - X342 - X346 - X35 - X350 - X352 - X374 - X381 - X388 - X390 - X396 - X400 - X405 - X408', 'X414']\n",
      "Feature cylinder - levels merged : ['AA11 - AA17 - E26 - E303 - E310 - E69 - E72 - E74 - E77 - E86 - E90 - F067 - F121 - F131 - F146 - F159 - F169 - F25 - F264 - F331 - F372 - F383 - F571 - F601 - F374 - F672 - F685 - F72 - F76 - F98 - G150 - G3 - G416 - G462 - G467 - G48 - G496 - G5 - G55 - G60 - G604 - G608 - G634 - G640 - G69 - G71 - G84 - G95 - G98 - I301 - I303 - I309 - I317 - F679 - G407 - G518 - I320 - I337 - I343 - I349 - I353 - I354 - I358 - J34 - J42 - J43 - J582 - J6 - J60 - J68 - M200 - M374 - M402 - M432 - M45 - M65 - O14 - O15 - O21 - O4 - O6 - O7 - O8 - R1 - R15 - R17 - R2 - R22 - R23 - R3 - R32 - R34 - R43 - R5 - R6 - R7 - R9 - T117 - T133 - T178 - T218 - T234 - T244 - T245 - T312 - T313 - T78 - T8 - W357 - W364 - W406 - W717 - W785 - W90 - W92 - X001 - X103 - X108 - X118 - X12 - X126 - X132 - X138 - X139 - X141 - X146 - X147 - X151 - X155 - X163 - X18 - X185 - X195 - X197 - X199 - X201 - X203 - X220 - X243 - X249 - X25 - X251 - X253 - X264 - X271 - X273 - X281 - X291 - X292 - X295 - X297 - X304 - X308 - X326 - X333 - X342 - X346 - X35 - X350 - X352 - X374 - X381 - X388 - X390 - X396 - X400 - X405 - X408 - X414', 'X420']\n",
      "Feature cylinder - levels merged : ['AA11 - AA17 - E26 - E303 - E310 - E69 - E72 - E74 - E77 - E86 - E90 - F067 - F121 - F131 - F146 - F159 - F169 - F25 - F264 - F331 - F372 - F383 - F571 - F601 - F374 - F672 - F685 - F72 - F76 - F98 - G150 - G3 - G416 - G462 - G467 - G48 - G496 - G5 - G55 - G60 - G604 - G608 - G634 - G640 - G69 - G71 - G84 - G95 - G98 - I301 - I303 - I309 - I317 - F679 - G407 - G518 - I320 - I337 - I343 - I349 - I353 - I354 - I358 - J34 - J42 - J43 - J582 - J6 - J60 - J68 - M200 - M374 - M402 - M432 - M45 - M65 - O14 - O15 - O21 - O4 - O6 - O7 - O8 - R1 - R15 - R17 - R2 - R22 - R23 - R3 - R32 - R34 - R43 - R5 - R6 - R7 - R9 - T117 - T133 - T178 - T218 - T234 - T244 - T245 - T312 - T313 - T78 - T8 - W357 - W364 - W406 - W717 - W785 - W90 - W92 - X001 - X103 - X108 - X118 - X12 - X126 - X132 - X138 - X139 - X141 - X146 - X147 - X151 - X155 - X163 - X18 - X185 - X195 - X197 - X199 - X201 - X203 - X220 - X243 - X249 - X25 - X251 - X253 - X264 - X271 - X273 - X281 - X291 - X292 - X295 - X297 - X304 - X308 - X326 - X333 - X342 - X346 - X35 - X350 - X352 - X374 - X381 - X388 - X390 - X396 - X400 - X405 - X408 - X414 - X420', 'X423']\n",
      "Feature cylinder - levels merged : ['AA11 - AA17 - E26 - E303 - E310 - E69 - E72 - E74 - E77 - E86 - E90 - F067 - F121 - F131 - F146 - F159 - F169 - F25 - F264 - F331 - F372 - F383 - F571 - F601 - F374 - F672 - F685 - F72 - F76 - F98 - G150 - G3 - G416 - G462 - G467 - G48 - G496 - G5 - G55 - G60 - G604 - G608 - G634 - G640 - G69 - G71 - G84 - G95 - G98 - I301 - I303 - I309 - I317 - F679 - G407 - G518 - I320 - I337 - I343 - I349 - I353 - I354 - I358 - J34 - J42 - J43 - J582 - J6 - J60 - J68 - M200 - M374 - M402 - M432 - M45 - M65 - O14 - O15 - O21 - O4 - O6 - O7 - O8 - R1 - R15 - R17 - R2 - R22 - R23 - R3 - R32 - R34 - R43 - R5 - R6 - R7 - R9 - T117 - T133 - T178 - T218 - T234 - T244 - T245 - T312 - T313 - T78 - T8 - W357 - W364 - W406 - W717 - W785 - W90 - W92 - X001 - X103 - X108 - X118 - X12 - X126 - X132 - X138 - X139 - X141 - X146 - X147 - X151 - X155 - X163 - X18 - X185 - X195 - X197 - X199 - X201 - X203 - X220 - X243 - X249 - X25 - X251 - X253 - X264 - X271 - X273 - X281 - X291 - X292 - X295 - X297 - X304 - X308 - X326 - X333 - X342 - X346 - X35 - X350 - X352 - X374 - X381 - X388 - X390 - X396 - X400 - X405 - X408 - X414 - X420 - X423', 'X57']\n"
     ]
    },
    {
     "name": "stdout",
     "output_type": "stream",
     "text": [
      "Feature cylinder - levels merged : ['AA11 - AA17 - E26 - E303 - E310 - E69 - E72 - E74 - E77 - E86 - E90 - F067 - F121 - F131 - F146 - F159 - F169 - F25 - F264 - F331 - F372 - F383 - F571 - F601 - F374 - F672 - F685 - F72 - F76 - F98 - G150 - G3 - G416 - G462 - G467 - G48 - G496 - G5 - G55 - G60 - G604 - G608 - G634 - G640 - G69 - G71 - G84 - G95 - G98 - I301 - I303 - I309 - I317 - F679 - G407 - G518 - I320 - I337 - I343 - I349 - I353 - I354 - I358 - J34 - J42 - J43 - J582 - J6 - J60 - J68 - M200 - M374 - M402 - M432 - M45 - M65 - O14 - O15 - O21 - O4 - O6 - O7 - O8 - R1 - R15 - R17 - R2 - R22 - R23 - R3 - R32 - R34 - R43 - R5 - R6 - R7 - R9 - T117 - T133 - T178 - T218 - T234 - T244 - T245 - T312 - T313 - T78 - T8 - W357 - W364 - W406 - W717 - W785 - W90 - W92 - X001 - X103 - X108 - X118 - X12 - X126 - X132 - X138 - X139 - X141 - X146 - X147 - X151 - X155 - X163 - X18 - X185 - X195 - X197 - X199 - X201 - X203 - X220 - X243 - X249 - X25 - X251 - X253 - X264 - X271 - X273 - X281 - X291 - X292 - X295 - X297 - X304 - X308 - X326 - X333 - X342 - X346 - X35 - X350 - X352 - X374 - X381 - X388 - X390 - X396 - X400 - X405 - X408 - X414 - X420 - X423 - X57', 'X60']\n",
      "Feature cylinder - levels merged : ['AA11 - AA17 - E26 - E303 - E310 - E69 - E72 - E74 - E77 - E86 - E90 - F067 - F121 - F131 - F146 - F159 - F169 - F25 - F264 - F331 - F372 - F383 - F571 - F601 - F374 - F672 - F685 - F72 - F76 - F98 - G150 - G3 - G416 - G462 - G467 - G48 - G496 - G5 - G55 - G60 - G604 - G608 - G634 - G640 - G69 - G71 - G84 - G95 - G98 - I301 - I303 - I309 - I317 - F679 - G407 - G518 - I320 - I337 - I343 - I349 - I353 - I354 - I358 - J34 - J42 - J43 - J582 - J6 - J60 - J68 - M200 - M374 - M402 - M432 - M45 - M65 - O14 - O15 - O21 - O4 - O6 - O7 - O8 - R1 - R15 - R17 - R2 - R22 - R23 - R3 - R32 - R34 - R43 - R5 - R6 - R7 - R9 - T117 - T133 - T178 - T218 - T234 - T244 - T245 - T312 - T313 - T78 - T8 - W357 - W364 - W406 - W717 - W785 - W90 - W92 - X001 - X103 - X108 - X118 - X12 - X126 - X132 - X138 - X139 - X141 - X146 - X147 - X151 - X155 - X163 - X18 - X185 - X195 - X197 - X199 - X201 - X203 - X220 - X243 - X249 - X25 - X251 - X253 - X264 - X271 - X273 - X281 - X291 - X292 - X295 - X297 - X304 - X308 - X326 - X333 - X342 - X346 - X35 - X350 - X352 - X374 - X381 - X388 - X390 - X396 - X400 - X405 - X408 - X414 - X420 - X423 - X57 - X60', 'X65']\n",
      "Feature cylinder - levels merged : ['AA11 - AA17 - E26 - E303 - E310 - E69 - E72 - E74 - E77 - E86 - E90 - F067 - F121 - F131 - F146 - F159 - F169 - F25 - F264 - F331 - F372 - F383 - F571 - F601 - F374 - F672 - F685 - F72 - F76 - F98 - G150 - G3 - G416 - G462 - G467 - G48 - G496 - G5 - G55 - G60 - G604 - G608 - G634 - G640 - G69 - G71 - G84 - G95 - G98 - I301 - I303 - I309 - I317 - F679 - G407 - G518 - I320 - I337 - I343 - I349 - I353 - I354 - I358 - J34 - J42 - J43 - J582 - J6 - J60 - J68 - M200 - M374 - M402 - M432 - M45 - M65 - O14 - O15 - O21 - O4 - O6 - O7 - O8 - R1 - R15 - R17 - R2 - R22 - R23 - R3 - R32 - R34 - R43 - R5 - R6 - R7 - R9 - T117 - T133 - T178 - T218 - T234 - T244 - T245 - T312 - T313 - T78 - T8 - W357 - W364 - W406 - W717 - W785 - W90 - W92 - X001 - X103 - X108 - X118 - X12 - X126 - X132 - X138 - X139 - X141 - X146 - X147 - X151 - X155 - X163 - X18 - X185 - X195 - X197 - X199 - X201 - X203 - X220 - X243 - X249 - X25 - X251 - X253 - X264 - X271 - X273 - X281 - X291 - X292 - X295 - X297 - X304 - X308 - X326 - X333 - X342 - X346 - X35 - X350 - X352 - X374 - X381 - X388 - X390 - X396 - X400 - X405 - X408 - X414 - X420 - X423 - X57 - X60 - X65', 'X67']\n",
      "Feature cylinder - levels merged : ['AA11 - AA17 - E26 - E303 - E310 - E69 - E72 - E74 - E77 - E86 - E90 - F067 - F121 - F131 - F146 - F159 - F169 - F25 - F264 - F331 - F372 - F383 - F571 - F601 - F374 - F672 - F685 - F72 - F76 - F98 - G150 - G3 - G416 - G462 - G467 - G48 - G496 - G5 - G55 - G60 - G604 - G608 - G634 - G640 - G69 - G71 - G84 - G95 - G98 - I301 - I303 - I309 - I317 - F679 - G407 - G518 - I320 - I337 - I343 - I349 - I353 - I354 - I358 - J34 - J42 - J43 - J582 - J6 - J60 - J68 - M200 - M374 - M402 - M432 - M45 - M65 - O14 - O15 - O21 - O4 - O6 - O7 - O8 - R1 - R15 - R17 - R2 - R22 - R23 - R3 - R32 - R34 - R43 - R5 - R6 - R7 - R9 - T117 - T133 - T178 - T218 - T234 - T244 - T245 - T312 - T313 - T78 - T8 - W357 - W364 - W406 - W717 - W785 - W90 - W92 - X001 - X103 - X108 - X118 - X12 - X126 - X132 - X138 - X139 - X141 - X146 - X147 - X151 - X155 - X163 - X18 - X185 - X195 - X197 - X199 - X201 - X203 - X220 - X243 - X249 - X25 - X251 - X253 - X264 - X271 - X273 - X281 - X291 - X292 - X295 - X297 - X304 - X308 - X326 - X333 - X342 - X346 - X35 - X350 - X352 - X374 - X381 - X388 - X390 - X396 - X400 - X405 - X408 - X414 - X420 - X423 - X57 - X60 - X65 - X67', 'X7']\n",
      "Feature cylinder - levels merged : ['AA11 - AA17 - E26 - E303 - E310 - E69 - E72 - E74 - E77 - E86 - E90 - F067 - F121 - F131 - F146 - F159 - F169 - F25 - F264 - F331 - F372 - F383 - F571 - F601 - F374 - F672 - F685 - F72 - F76 - F98 - G150 - G3 - G416 - G462 - G467 - G48 - G496 - G5 - G55 - G60 - G604 - G608 - G634 - G640 - G69 - G71 - G84 - G95 - G98 - I301 - I303 - I309 - I317 - F679 - G407 - G518 - I320 - I337 - I343 - I349 - I353 - I354 - I358 - J34 - J42 - J43 - J582 - J6 - J60 - J68 - M200 - M374 - M402 - M432 - M45 - M65 - O14 - O15 - O21 - O4 - O6 - O7 - O8 - R1 - R15 - R17 - R2 - R22 - R23 - R3 - R32 - R34 - R43 - R5 - R6 - R7 - R9 - T117 - T133 - T178 - T218 - T234 - T244 - T245 - T312 - T313 - T78 - T8 - W357 - W364 - W406 - W717 - W785 - W90 - W92 - X001 - X103 - X108 - X118 - X12 - X126 - X132 - X138 - X139 - X141 - X146 - X147 - X151 - X155 - X163 - X18 - X185 - X195 - X197 - X199 - X201 - X203 - X220 - X243 - X249 - X25 - X251 - X253 - X264 - X271 - X273 - X281 - X291 - X292 - X295 - X297 - X304 - X308 - X326 - X333 - X342 - X346 - X35 - X350 - X352 - X374 - X381 - X388 - X390 - X396 - X400 - X405 - X408 - X414 - X420 - X423 - X57 - X60 - X65 - X67 - X7', 'X713']\n",
      "Feature cylinder - levels merged : ['AA11 - AA17 - E26 - E303 - E310 - E69 - E72 - E74 - E77 - E86 - E90 - F067 - F121 - F131 - F146 - F159 - F169 - F25 - F264 - F331 - F372 - F383 - F571 - F601 - F374 - F672 - F685 - F72 - F76 - F98 - G150 - G3 - G416 - G462 - G467 - G48 - G496 - G5 - G55 - G60 - G604 - G608 - G634 - G640 - G69 - G71 - G84 - G95 - G98 - I301 - I303 - I309 - I317 - F679 - G407 - G518 - I320 - I337 - I343 - I349 - I353 - I354 - I358 - J34 - J42 - J43 - J582 - J6 - J60 - J68 - M200 - M374 - M402 - M432 - M45 - M65 - O14 - O15 - O21 - O4 - O6 - O7 - O8 - R1 - R15 - R17 - R2 - R22 - R23 - R3 - R32 - R34 - R43 - R5 - R6 - R7 - R9 - T117 - T133 - T178 - T218 - T234 - T244 - T245 - T312 - T313 - T78 - T8 - W357 - W364 - W406 - W717 - W785 - W90 - W92 - X001 - X103 - X108 - X118 - X12 - X126 - X132 - X138 - X139 - X141 - X146 - X147 - X151 - X155 - X163 - X18 - X185 - X195 - X197 - X199 - X201 - X203 - X220 - X243 - X249 - X25 - X251 - X253 - X264 - X271 - X273 - X281 - X291 - X292 - X295 - X297 - X304 - X308 - X326 - X333 - X342 - X346 - X35 - X350 - X352 - X374 - X381 - X388 - X390 - X396 - X400 - X405 - X408 - X414 - X420 - X423 - X57 - X60 - X65 - X67 - X7 - X713', 'X727']\n",
      "Feature cylinder - levels merged : ['AA11 - AA17 - E26 - E303 - E310 - E69 - E72 - E74 - E77 - E86 - E90 - F067 - F121 - F131 - F146 - F159 - F169 - F25 - F264 - F331 - F372 - F383 - F571 - F601 - F374 - F672 - F685 - F72 - F76 - F98 - G150 - G3 - G416 - G462 - G467 - G48 - G496 - G5 - G55 - G60 - G604 - G608 - G634 - G640 - G69 - G71 - G84 - G95 - G98 - I301 - I303 - I309 - I317 - F679 - G407 - G518 - I320 - I337 - I343 - I349 - I353 - I354 - I358 - J34 - J42 - J43 - J582 - J6 - J60 - J68 - M200 - M374 - M402 - M432 - M45 - M65 - O14 - O15 - O21 - O4 - O6 - O7 - O8 - R1 - R15 - R17 - R2 - R22 - R23 - R3 - R32 - R34 - R43 - R5 - R6 - R7 - R9 - T117 - T133 - T178 - T218 - T234 - T244 - T245 - T312 - T313 - T78 - T8 - W357 - W364 - W406 - W717 - W785 - W90 - W92 - X001 - X103 - X108 - X118 - X12 - X126 - X132 - X138 - X139 - X141 - X146 - X147 - X151 - X155 - X163 - X18 - X185 - X195 - X197 - X199 - X201 - X203 - X220 - X243 - X249 - X25 - X251 - X253 - X264 - X271 - X273 - X281 - X291 - X292 - X295 - X297 - X304 - X308 - X326 - X333 - X342 - X346 - X35 - X350 - X352 - X374 - X381 - X388 - X390 - X396 - X400 - X405 - X408 - X414 - X420 - X423 - X57 - X60 - X65 - X67 - X7 - X713 - X727', 'X742']\n"
     ]
    },
    {
     "name": "stdout",
     "output_type": "stream",
     "text": [
      "Feature cylinder - levels merged : ['AA11 - AA17 - E26 - E303 - E310 - E69 - E72 - E74 - E77 - E86 - E90 - F067 - F121 - F131 - F146 - F159 - F169 - F25 - F264 - F331 - F372 - F383 - F571 - F601 - F374 - F672 - F685 - F72 - F76 - F98 - G150 - G3 - G416 - G462 - G467 - G48 - G496 - G5 - G55 - G60 - G604 - G608 - G634 - G640 - G69 - G71 - G84 - G95 - G98 - I301 - I303 - I309 - I317 - F679 - G407 - G518 - I320 - I337 - I343 - I349 - I353 - I354 - I358 - J34 - J42 - J43 - J582 - J6 - J60 - J68 - M200 - M374 - M402 - M432 - M45 - M65 - O14 - O15 - O21 - O4 - O6 - O7 - O8 - R1 - R15 - R17 - R2 - R22 - R23 - R3 - R32 - R34 - R43 - R5 - R6 - R7 - R9 - T117 - T133 - T178 - T218 - T234 - T244 - T245 - T312 - T313 - T78 - T8 - W357 - W364 - W406 - W717 - W785 - W90 - W92 - X001 - X103 - X108 - X118 - X12 - X126 - X132 - X138 - X139 - X141 - X146 - X147 - X151 - X155 - X163 - X18 - X185 - X195 - X197 - X199 - X201 - X203 - X220 - X243 - X249 - X25 - X251 - X253 - X264 - X271 - X273 - X281 - X291 - X292 - X295 - X297 - X304 - X308 - X326 - X333 - X342 - X346 - X35 - X350 - X352 - X374 - X381 - X388 - X390 - X396 - X400 - X405 - X408 - X414 - X420 - X423 - X57 - X60 - X65 - X67 - X7 - X713 - X727 - X742', 'X760']\n",
      "Feature cylinder - levels merged : ['AA11 - AA17 - E26 - E303 - E310 - E69 - E72 - E74 - E77 - E86 - E90 - F067 - F121 - F131 - F146 - F159 - F169 - F25 - F264 - F331 - F372 - F383 - F571 - F601 - F374 - F672 - F685 - F72 - F76 - F98 - G150 - G3 - G416 - G462 - G467 - G48 - G496 - G5 - G55 - G60 - G604 - G608 - G634 - G640 - G69 - G71 - G84 - G95 - G98 - I301 - I303 - I309 - I317 - F679 - G407 - G518 - I320 - I337 - I343 - I349 - I353 - I354 - I358 - J34 - J42 - J43 - J582 - J6 - J60 - J68 - M200 - M374 - M402 - M432 - M45 - M65 - O14 - O15 - O21 - O4 - O6 - O7 - O8 - R1 - R15 - R17 - R2 - R22 - R23 - R3 - R32 - R34 - R43 - R5 - R6 - R7 - R9 - T117 - T133 - T178 - T218 - T234 - T244 - T245 - T312 - T313 - T78 - T8 - W357 - W364 - W406 - W717 - W785 - W90 - W92 - X001 - X103 - X108 - X118 - X12 - X126 - X132 - X138 - X139 - X141 - X146 - X147 - X151 - X155 - X163 - X18 - X185 - X195 - X197 - X199 - X201 - X203 - X220 - X243 - X249 - X25 - X251 - X253 - X264 - X271 - X273 - X281 - X291 - X292 - X295 - X297 - X304 - X308 - X326 - X333 - X342 - X346 - X35 - X350 - X352 - X374 - X381 - X388 - X390 - X396 - X400 - X405 - X408 - X414 - X420 - X423 - X57 - X60 - X65 - X67 - X7 - X713 - X727 - X742 - X760', 'X766']\n",
      "Feature cylinder - levels merged : ['AA11 - AA17 - E26 - E303 - E310 - E69 - E72 - E74 - E77 - E86 - E90 - F067 - F121 - F131 - F146 - F159 - F169 - F25 - F264 - F331 - F372 - F383 - F571 - F601 - F374 - F672 - F685 - F72 - F76 - F98 - G150 - G3 - G416 - G462 - G467 - G48 - G496 - G5 - G55 - G60 - G604 - G608 - G634 - G640 - G69 - G71 - G84 - G95 - G98 - I301 - I303 - I309 - I317 - F679 - G407 - G518 - I320 - I337 - I343 - I349 - I353 - I354 - I358 - J34 - J42 - J43 - J582 - J6 - J60 - J68 - M200 - M374 - M402 - M432 - M45 - M65 - O14 - O15 - O21 - O4 - O6 - O7 - O8 - R1 - R15 - R17 - R2 - R22 - R23 - R3 - R32 - R34 - R43 - R5 - R6 - R7 - R9 - T117 - T133 - T178 - T218 - T234 - T244 - T245 - T312 - T313 - T78 - T8 - W357 - W364 - W406 - W717 - W785 - W90 - W92 - X001 - X103 - X108 - X118 - X12 - X126 - X132 - X138 - X139 - X141 - X146 - X147 - X151 - X155 - X163 - X18 - X185 - X195 - X197 - X199 - X201 - X203 - X220 - X243 - X249 - X25 - X251 - X253 - X264 - X271 - X273 - X281 - X291 - X292 - X295 - X297 - X304 - X308 - X326 - X333 - X342 - X346 - X35 - X350 - X352 - X374 - X381 - X388 - X390 - X396 - X400 - X405 - X408 - X414 - X420 - X423 - X57 - X60 - X65 - X67 - X7 - X713 - X727 - X742 - X760 - X766', 'X768']\n",
      "Feature cylinder - levels merged : ['AA11 - AA17 - E26 - E303 - E310 - E69 - E72 - E74 - E77 - E86 - E90 - F067 - F121 - F131 - F146 - F159 - F169 - F25 - F264 - F331 - F372 - F383 - F571 - F601 - F374 - F672 - F685 - F72 - F76 - F98 - G150 - G3 - G416 - G462 - G467 - G48 - G496 - G5 - G55 - G60 - G604 - G608 - G634 - G640 - G69 - G71 - G84 - G95 - G98 - I301 - I303 - I309 - I317 - F679 - G407 - G518 - I320 - I337 - I343 - I349 - I353 - I354 - I358 - J34 - J42 - J43 - J582 - J6 - J60 - J68 - M200 - M374 - M402 - M432 - M45 - M65 - O14 - O15 - O21 - O4 - O6 - O7 - O8 - R1 - R15 - R17 - R2 - R22 - R23 - R3 - R32 - R34 - R43 - R5 - R6 - R7 - R9 - T117 - T133 - T178 - T218 - T234 - T244 - T245 - T312 - T313 - T78 - T8 - W357 - W364 - W406 - W717 - W785 - W90 - W92 - X001 - X103 - X108 - X118 - X12 - X126 - X132 - X138 - X139 - X141 - X146 - X147 - X151 - X155 - X163 - X18 - X185 - X195 - X197 - X199 - X201 - X203 - X220 - X243 - X249 - X25 - X251 - X253 - X264 - X271 - X273 - X281 - X291 - X292 - X295 - X297 - X304 - X308 - X326 - X333 - X342 - X346 - X35 - X350 - X352 - X374 - X381 - X388 - X390 - X396 - X400 - X405 - X408 - X414 - X420 - X423 - X57 - X60 - X65 - X67 - X7 - X713 - X727 - X742 - X760 - X766 - X768', 'X771']\n",
      "Feature cylinder - levels merged : ['AA11 - AA17 - E26 - E303 - E310 - E69 - E72 - E74 - E77 - E86 - E90 - F067 - F121 - F131 - F146 - F159 - F169 - F25 - F264 - F331 - F372 - F383 - F571 - F601 - F374 - F672 - F685 - F72 - F76 - F98 - G150 - G3 - G416 - G462 - G467 - G48 - G496 - G5 - G55 - G60 - G604 - G608 - G634 - G640 - G69 - G71 - G84 - G95 - G98 - I301 - I303 - I309 - I317 - F679 - G407 - G518 - I320 - I337 - I343 - I349 - I353 - I354 - I358 - J34 - J42 - J43 - J582 - J6 - J60 - J68 - M200 - M374 - M402 - M432 - M45 - M65 - O14 - O15 - O21 - O4 - O6 - O7 - O8 - R1 - R15 - R17 - R2 - R22 - R23 - R3 - R32 - R34 - R43 - R5 - R6 - R7 - R9 - T117 - T133 - T178 - T218 - T234 - T244 - T245 - T312 - T313 - T78 - T8 - W357 - W364 - W406 - W717 - W785 - W90 - W92 - X001 - X103 - X108 - X118 - X12 - X126 - X132 - X138 - X139 - X141 - X146 - X147 - X151 - X155 - X163 - X18 - X185 - X195 - X197 - X199 - X201 - X203 - X220 - X243 - X249 - X25 - X251 - X253 - X264 - X271 - X273 - X281 - X291 - X292 - X295 - X297 - X304 - X308 - X326 - X333 - X342 - X346 - X35 - X350 - X352 - X374 - X381 - X388 - X390 - X396 - X400 - X405 - X408 - X414 - X420 - X423 - X57 - X60 - X65 - X67 - X7 - X713 - X727 - X742 - X760 - X766 - X768 - X771', 'X779']\n",
      "Feature cylinder - levels merged : ['AA11 - AA17 - E26 - E303 - E310 - E69 - E72 - E74 - E77 - E86 - E90 - F067 - F121 - F131 - F146 - F159 - F169 - F25 - F264 - F331 - F372 - F383 - F571 - F601 - F374 - F672 - F685 - F72 - F76 - F98 - G150 - G3 - G416 - G462 - G467 - G48 - G496 - G5 - G55 - G60 - G604 - G608 - G634 - G640 - G69 - G71 - G84 - G95 - G98 - I301 - I303 - I309 - I317 - F679 - G407 - G518 - I320 - I337 - I343 - I349 - I353 - I354 - I358 - J34 - J42 - J43 - J582 - J6 - J60 - J68 - M200 - M374 - M402 - M432 - M45 - M65 - O14 - O15 - O21 - O4 - O6 - O7 - O8 - R1 - R15 - R17 - R2 - R22 - R23 - R3 - R32 - R34 - R43 - R5 - R6 - R7 - R9 - T117 - T133 - T178 - T218 - T234 - T244 - T245 - T312 - T313 - T78 - T8 - W357 - W364 - W406 - W717 - W785 - W90 - W92 - X001 - X103 - X108 - X118 - X12 - X126 - X132 - X138 - X139 - X141 - X146 - X147 - X151 - X155 - X163 - X18 - X185 - X195 - X197 - X199 - X201 - X203 - X220 - X243 - X249 - X25 - X251 - X253 - X264 - X271 - X273 - X281 - X291 - X292 - X295 - X297 - X304 - X308 - X326 - X333 - X342 - X346 - X35 - X350 - X352 - X374 - X381 - X388 - X390 - X396 - X400 - X405 - X408 - X414 - X420 - X423 - X57 - X60 - X65 - X67 - X7 - X713 - X727 - X742 - X760 - X766 - X768 - X771 - X779', 'X787']\n",
      "Feature cylinder - levels merged : ['AA11 - AA17 - E26 - E303 - E310 - E69 - E72 - E74 - E77 - E86 - E90 - F067 - F121 - F131 - F146 - F159 - F169 - F25 - F264 - F331 - F372 - F383 - F571 - F601 - F374 - F672 - F685 - F72 - F76 - F98 - G150 - G3 - G416 - G462 - G467 - G48 - G496 - G5 - G55 - G60 - G604 - G608 - G634 - G640 - G69 - G71 - G84 - G95 - G98 - I301 - I303 - I309 - I317 - F679 - G407 - G518 - I320 - I337 - I343 - I349 - I353 - I354 - I358 - J34 - J42 - J43 - J582 - J6 - J60 - J68 - M200 - M374 - M402 - M432 - M45 - M65 - O14 - O15 - O21 - O4 - O6 - O7 - O8 - R1 - R15 - R17 - R2 - R22 - R23 - R3 - R32 - R34 - R43 - R5 - R6 - R7 - R9 - T117 - T133 - T178 - T218 - T234 - T244 - T245 - T312 - T313 - T78 - T8 - W357 - W364 - W406 - W717 - W785 - W90 - W92 - X001 - X103 - X108 - X118 - X12 - X126 - X132 - X138 - X139 - X141 - X146 - X147 - X151 - X155 - X163 - X18 - X185 - X195 - X197 - X199 - X201 - X203 - X220 - X243 - X249 - X25 - X251 - X253 - X264 - X271 - X273 - X281 - X291 - X292 - X295 - X297 - X304 - X308 - X326 - X333 - X342 - X346 - X35 - X350 - X352 - X374 - X381 - X388 - X390 - X396 - X400 - X405 - X408 - X414 - X420 - X423 - X57 - X60 - X65 - X67 - X7 - X713 - X727 - X742 - X760 - X766 - X768 - X771 - X779 - X787', 'X791']\n"
     ]
    },
    {
     "name": "stdout",
     "output_type": "stream",
     "text": [
      "Feature cylinder - levels merged : ['AA11 - AA17 - E26 - E303 - E310 - E69 - E72 - E74 - E77 - E86 - E90 - F067 - F121 - F131 - F146 - F159 - F169 - F25 - F264 - F331 - F372 - F383 - F571 - F601 - F374 - F672 - F685 - F72 - F76 - F98 - G150 - G3 - G416 - G462 - G467 - G48 - G496 - G5 - G55 - G60 - G604 - G608 - G634 - G640 - G69 - G71 - G84 - G95 - G98 - I301 - I303 - I309 - I317 - F679 - G407 - G518 - I320 - I337 - I343 - I349 - I353 - I354 - I358 - J34 - J42 - J43 - J582 - J6 - J60 - J68 - M200 - M374 - M402 - M432 - M45 - M65 - O14 - O15 - O21 - O4 - O6 - O7 - O8 - R1 - R15 - R17 - R2 - R22 - R23 - R3 - R32 - R34 - R43 - R5 - R6 - R7 - R9 - T117 - T133 - T178 - T218 - T234 - T244 - T245 - T312 - T313 - T78 - T8 - W357 - W364 - W406 - W717 - W785 - W90 - W92 - X001 - X103 - X108 - X118 - X12 - X126 - X132 - X138 - X139 - X141 - X146 - X147 - X151 - X155 - X163 - X18 - X185 - X195 - X197 - X199 - X201 - X203 - X220 - X243 - X249 - X25 - X251 - X253 - X264 - X271 - X273 - X281 - X291 - X292 - X295 - X297 - X304 - X308 - X326 - X333 - X342 - X346 - X35 - X350 - X352 - X374 - X381 - X388 - X390 - X396 - X400 - X405 - X408 - X414 - X420 - X423 - X57 - X60 - X65 - X67 - X7 - X713 - X727 - X742 - X760 - X766 - X768 - X771 - X779 - X787 - X791', 'X793']\n",
      "Feature cylinder - levels merged : ['AA11 - AA17 - E26 - E303 - E310 - E69 - E72 - E74 - E77 - E86 - E90 - F067 - F121 - F131 - F146 - F159 - F169 - F25 - F264 - F331 - F372 - F383 - F571 - F601 - F374 - F672 - F685 - F72 - F76 - F98 - G150 - G3 - G416 - G462 - G467 - G48 - G496 - G5 - G55 - G60 - G604 - G608 - G634 - G640 - G69 - G71 - G84 - G95 - G98 - I301 - I303 - I309 - I317 - F679 - G407 - G518 - I320 - I337 - I343 - I349 - I353 - I354 - I358 - J34 - J42 - J43 - J582 - J6 - J60 - J68 - M200 - M374 - M402 - M432 - M45 - M65 - O14 - O15 - O21 - O4 - O6 - O7 - O8 - R1 - R15 - R17 - R2 - R22 - R23 - R3 - R32 - R34 - R43 - R5 - R6 - R7 - R9 - T117 - T133 - T178 - T218 - T234 - T244 - T245 - T312 - T313 - T78 - T8 - W357 - W364 - W406 - W717 - W785 - W90 - W92 - X001 - X103 - X108 - X118 - X12 - X126 - X132 - X138 - X139 - X141 - X146 - X147 - X151 - X155 - X163 - X18 - X185 - X195 - X197 - X199 - X201 - X203 - X220 - X243 - X249 - X25 - X251 - X253 - X264 - X271 - X273 - X281 - X291 - X292 - X295 - X297 - X304 - X308 - X326 - X333 - X342 - X346 - X35 - X350 - X352 - X374 - X381 - X388 - X390 - X396 - X400 - X405 - X408 - X414 - X420 - X423 - X57 - X60 - X65 - X67 - X7 - X713 - X727 - X742 - X760 - X766 - X768 - X771 - X779 - X787 - X791 - X793', 'X795']\n",
      "Feature cylinder - levels merged : ['AA11 - AA17 - E26 - E303 - E310 - E69 - E72 - E74 - E77 - E86 - E90 - F067 - F121 - F131 - F146 - F159 - F169 - F25 - F264 - F331 - F372 - F383 - F571 - F601 - F374 - F672 - F685 - F72 - F76 - F98 - G150 - G3 - G416 - G462 - G467 - G48 - G496 - G5 - G55 - G60 - G604 - G608 - G634 - G640 - G69 - G71 - G84 - G95 - G98 - I301 - I303 - I309 - I317 - F679 - G407 - G518 - I320 - I337 - I343 - I349 - I353 - I354 - I358 - J34 - J42 - J43 - J582 - J6 - J60 - J68 - M200 - M374 - M402 - M432 - M45 - M65 - O14 - O15 - O21 - O4 - O6 - O7 - O8 - R1 - R15 - R17 - R2 - R22 - R23 - R3 - R32 - R34 - R43 - R5 - R6 - R7 - R9 - T117 - T133 - T178 - T218 - T234 - T244 - T245 - T312 - T313 - T78 - T8 - W357 - W364 - W406 - W717 - W785 - W90 - W92 - X001 - X103 - X108 - X118 - X12 - X126 - X132 - X138 - X139 - X141 - X146 - X147 - X151 - X155 - X163 - X18 - X185 - X195 - X197 - X199 - X201 - X203 - X220 - X243 - X249 - X25 - X251 - X253 - X264 - X271 - X273 - X281 - X291 - X292 - X295 - X297 - X304 - X308 - X326 - X333 - X342 - X346 - X35 - X350 - X352 - X374 - X381 - X388 - X390 - X396 - X400 - X405 - X408 - X414 - X420 - X423 - X57 - X60 - X65 - X67 - X7 - X713 - X727 - X742 - X760 - X766 - X768 - X771 - X779 - X787 - X791 - X793 - X795', 'X798']\n",
      "Feature cylinder - levels merged : ['AA11 - AA17 - E26 - E303 - E310 - E69 - E72 - E74 - E77 - E86 - E90 - F067 - F121 - F131 - F146 - F159 - F169 - F25 - F264 - F331 - F372 - F383 - F571 - F601 - F374 - F672 - F685 - F72 - F76 - F98 - G150 - G3 - G416 - G462 - G467 - G48 - G496 - G5 - G55 - G60 - G604 - G608 - G634 - G640 - G69 - G71 - G84 - G95 - G98 - I301 - I303 - I309 - I317 - F679 - G407 - G518 - I320 - I337 - I343 - I349 - I353 - I354 - I358 - J34 - J42 - J43 - J582 - J6 - J60 - J68 - M200 - M374 - M402 - M432 - M45 - M65 - O14 - O15 - O21 - O4 - O6 - O7 - O8 - R1 - R15 - R17 - R2 - R22 - R23 - R3 - R32 - R34 - R43 - R5 - R6 - R7 - R9 - T117 - T133 - T178 - T218 - T234 - T244 - T245 - T312 - T313 - T78 - T8 - W357 - W364 - W406 - W717 - W785 - W90 - W92 - X001 - X103 - X108 - X118 - X12 - X126 - X132 - X138 - X139 - X141 - X146 - X147 - X151 - X155 - X163 - X18 - X185 - X195 - X197 - X199 - X201 - X203 - X220 - X243 - X249 - X25 - X251 - X253 - X264 - X271 - X273 - X281 - X291 - X292 - X295 - X297 - X304 - X308 - X326 - X333 - X342 - X346 - X35 - X350 - X352 - X374 - X381 - X388 - X390 - X396 - X400 - X405 - X408 - X414 - X420 - X423 - X57 - X60 - X65 - X67 - X7 - X713 - X727 - X742 - X760 - X766 - X768 - X771 - X779 - X787 - X791 - X793 - X795 - X798', 'X804']\n",
      "Feature cylinder - levels merged : ['AA11 - AA17 - E26 - E303 - E310 - E69 - E72 - E74 - E77 - E86 - E90 - F067 - F121 - F131 - F146 - F159 - F169 - F25 - F264 - F331 - F372 - F383 - F571 - F601 - F374 - F672 - F685 - F72 - F76 - F98 - G150 - G3 - G416 - G462 - G467 - G48 - G496 - G5 - G55 - G60 - G604 - G608 - G634 - G640 - G69 - G71 - G84 - G95 - G98 - I301 - I303 - I309 - I317 - F679 - G407 - G518 - I320 - I337 - I343 - I349 - I353 - I354 - I358 - J34 - J42 - J43 - J582 - J6 - J60 - J68 - M200 - M374 - M402 - M432 - M45 - M65 - O14 - O15 - O21 - O4 - O6 - O7 - O8 - R1 - R15 - R17 - R2 - R22 - R23 - R3 - R32 - R34 - R43 - R5 - R6 - R7 - R9 - T117 - T133 - T178 - T218 - T234 - T244 - T245 - T312 - T313 - T78 - T8 - W357 - W364 - W406 - W717 - W785 - W90 - W92 - X001 - X103 - X108 - X118 - X12 - X126 - X132 - X138 - X139 - X141 - X146 - X147 - X151 - X155 - X163 - X18 - X185 - X195 - X197 - X199 - X201 - X203 - X220 - X243 - X249 - X25 - X251 - X253 - X264 - X271 - X273 - X281 - X291 - X292 - X295 - X297 - X304 - X308 - X326 - X333 - X342 - X346 - X35 - X350 - X352 - X374 - X381 - X388 - X390 - X396 - X400 - X405 - X408 - X414 - X420 - X423 - X57 - X60 - X65 - X67 - X7 - X713 - X727 - X742 - X760 - X766 - X768 - X771 - X779 - X787 - X791 - X793 - X795 - X798 - X804', 'X129']\n",
      "Feature cylinder - levels merged : ['AA11 - AA17 - E26 - E303 - E310 - E69 - E72 - E74 - E77 - E86 - E90 - F067 - F121 - F131 - F146 - F159 - F169 - F25 - F264 - F331 - F372 - F383 - F571 - F601 - F374 - F672 - F685 - F72 - F76 - F98 - G150 - G3 - G416 - G462 - G467 - G48 - G496 - G5 - G55 - G60 - G604 - G608 - G634 - G640 - G69 - G71 - G84 - G95 - G98 - I301 - I303 - I309 - I317 - F679 - G407 - G518 - I320 - I337 - I343 - I349 - I353 - I354 - I358 - J34 - J42 - J43 - J582 - J6 - J60 - J68 - M200 - M374 - M402 - M432 - M45 - M65 - O14 - O15 - O21 - O4 - O6 - O7 - O8 - R1 - R15 - R17 - R2 - R22 - R23 - R3 - R32 - R34 - R43 - R5 - R6 - R7 - R9 - T117 - T133 - T178 - T218 - T234 - T244 - T245 - T312 - T313 - T78 - T8 - W357 - W364 - W406 - W717 - W785 - W90 - W92 - X001 - X103 - X108 - X118 - X12 - X126 - X132 - X138 - X139 - X141 - X146 - X147 - X151 - X155 - X163 - X18 - X185 - X195 - X197 - X199 - X201 - X203 - X220 - X243 - X249 - X25 - X251 - X253 - X264 - X271 - X273 - X281 - X291 - X292 - X295 - X297 - X304 - X308 - X326 - X333 - X342 - X346 - X35 - X350 - X352 - X374 - X381 - X388 - X390 - X396 - X400 - X405 - X408 - X414 - X420 - X423 - X57 - X60 - X65 - X67 - X7 - X713 - X727 - X742 - X760 - X766 - X768 - X771 - X779 - X787 - X791 - X793 - X795 - X798 - X804 - X129', 'X809']\n",
      "Feature cylinder - levels merged : ['AA11 - AA17 - E26 - E303 - E310 - E69 - E72 - E74 - E77 - E86 - E90 - F067 - F121 - F131 - F146 - F159 - F169 - F25 - F264 - F331 - F372 - F383 - F571 - F601 - F374 - F672 - F685 - F72 - F76 - F98 - G150 - G3 - G416 - G462 - G467 - G48 - G496 - G5 - G55 - G60 - G604 - G608 - G634 - G640 - G69 - G71 - G84 - G95 - G98 - I301 - I303 - I309 - I317 - F679 - G407 - G518 - I320 - I337 - I343 - I349 - I353 - I354 - I358 - J34 - J42 - J43 - J582 - J6 - J60 - J68 - M200 - M374 - M402 - M432 - M45 - M65 - O14 - O15 - O21 - O4 - O6 - O7 - O8 - R1 - R15 - R17 - R2 - R22 - R23 - R3 - R32 - R34 - R43 - R5 - R6 - R7 - R9 - T117 - T133 - T178 - T218 - T234 - T244 - T245 - T312 - T313 - T78 - T8 - W357 - W364 - W406 - W717 - W785 - W90 - W92 - X001 - X103 - X108 - X118 - X12 - X126 - X132 - X138 - X139 - X141 - X146 - X147 - X151 - X155 - X163 - X18 - X185 - X195 - X197 - X199 - X201 - X203 - X220 - X243 - X249 - X25 - X251 - X253 - X264 - X271 - X273 - X281 - X291 - X292 - X295 - X297 - X304 - X308 - X326 - X333 - X342 - X346 - X35 - X350 - X352 - X374 - X381 - X388 - X390 - X396 - X400 - X405 - X408 - X414 - X420 - X423 - X57 - X60 - X65 - X67 - X7 - X713 - X727 - X742 - X760 - X766 - X768 - X771 - X779 - X787 - X791 - X793 - X795 - X798 - X804 - X129 - X809', 'X817']\n"
     ]
    },
    {
     "name": "stdout",
     "output_type": "stream",
     "text": [
      "Feature cylinder - levels merged : ['AA11 - AA17 - E26 - E303 - E310 - E69 - E72 - E74 - E77 - E86 - E90 - F067 - F121 - F131 - F146 - F159 - F169 - F25 - F264 - F331 - F372 - F383 - F571 - F601 - F374 - F672 - F685 - F72 - F76 - F98 - G150 - G3 - G416 - G462 - G467 - G48 - G496 - G5 - G55 - G60 - G604 - G608 - G634 - G640 - G69 - G71 - G84 - G95 - G98 - I301 - I303 - I309 - I317 - F679 - G407 - G518 - I320 - I337 - I343 - I349 - I353 - I354 - I358 - J34 - J42 - J43 - J582 - J6 - J60 - J68 - M200 - M374 - M402 - M432 - M45 - M65 - O14 - O15 - O21 - O4 - O6 - O7 - O8 - R1 - R15 - R17 - R2 - R22 - R23 - R3 - R32 - R34 - R43 - R5 - R6 - R7 - R9 - T117 - T133 - T178 - T218 - T234 - T244 - T245 - T312 - T313 - T78 - T8 - W357 - W364 - W406 - W717 - W785 - W90 - W92 - X001 - X103 - X108 - X118 - X12 - X126 - X132 - X138 - X139 - X141 - X146 - X147 - X151 - X155 - X163 - X18 - X185 - X195 - X197 - X199 - X201 - X203 - X220 - X243 - X249 - X25 - X251 - X253 - X264 - X271 - X273 - X281 - X291 - X292 - X295 - X297 - X304 - X308 - X326 - X333 - X342 - X346 - X35 - X350 - X352 - X374 - X381 - X388 - X390 - X396 - X400 - X405 - X408 - X414 - X420 - X423 - X57 - X60 - X65 - X67 - X7 - X713 - X727 - X742 - X760 - X766 - X768 - X771 - X779 - X787 - X791 - X793 - X795 - X798 - X804 - X129 - X809 - X817', 'X818']\n",
      "Feature cylinder - levels merged : ['AA11 - AA17 - E26 - E303 - E310 - E69 - E72 - E74 - E77 - E86 - E90 - F067 - F121 - F131 - F146 - F159 - F169 - F25 - F264 - F331 - F372 - F383 - F571 - F601 - F374 - F672 - F685 - F72 - F76 - F98 - G150 - G3 - G416 - G462 - G467 - G48 - G496 - G5 - G55 - G60 - G604 - G608 - G634 - G640 - G69 - G71 - G84 - G95 - G98 - I301 - I303 - I309 - I317 - F679 - G407 - G518 - I320 - I337 - I343 - I349 - I353 - I354 - I358 - J34 - J42 - J43 - J582 - J6 - J60 - J68 - M200 - M374 - M402 - M432 - M45 - M65 - O14 - O15 - O21 - O4 - O6 - O7 - O8 - R1 - R15 - R17 - R2 - R22 - R23 - R3 - R32 - R34 - R43 - R5 - R6 - R7 - R9 - T117 - T133 - T178 - T218 - T234 - T244 - T245 - T312 - T313 - T78 - T8 - W357 - W364 - W406 - W717 - W785 - W90 - W92 - X001 - X103 - X108 - X118 - X12 - X126 - X132 - X138 - X139 - X141 - X146 - X147 - X151 - X155 - X163 - X18 - X185 - X195 - X197 - X199 - X201 - X203 - X220 - X243 - X249 - X25 - X251 - X253 - X264 - X271 - X273 - X281 - X291 - X292 - X295 - X297 - X304 - X308 - X326 - X333 - X342 - X346 - X35 - X350 - X352 - X374 - X381 - X388 - X390 - X396 - X400 - X405 - X408 - X414 - X420 - X423 - X57 - X60 - X65 - X67 - X7 - X713 - X727 - X742 - X760 - X766 - X768 - X771 - X779 - X787 - X791 - X793 - X795 - X798 - X804 - X129 - X809 - X817 - X818', 'X821']\n",
      "Feature cylinder - levels merged : ['AA11 - AA17 - E26 - E303 - E310 - E69 - E72 - E74 - E77 - E86 - E90 - F067 - F121 - F131 - F146 - F159 - F169 - F25 - F264 - F331 - F372 - F383 - F571 - F601 - F374 - F672 - F685 - F72 - F76 - F98 - G150 - G3 - G416 - G462 - G467 - G48 - G496 - G5 - G55 - G60 - G604 - G608 - G634 - G640 - G69 - G71 - G84 - G95 - G98 - I301 - I303 - I309 - I317 - F679 - G407 - G518 - I320 - I337 - I343 - I349 - I353 - I354 - I358 - J34 - J42 - J43 - J582 - J6 - J60 - J68 - M200 - M374 - M402 - M432 - M45 - M65 - O14 - O15 - O21 - O4 - O6 - O7 - O8 - R1 - R15 - R17 - R2 - R22 - R23 - R3 - R32 - R34 - R43 - R5 - R6 - R7 - R9 - T117 - T133 - T178 - T218 - T234 - T244 - T245 - T312 - T313 - T78 - T8 - W357 - W364 - W406 - W717 - W785 - W90 - W92 - X001 - X103 - X108 - X118 - X12 - X126 - X132 - X138 - X139 - X141 - X146 - X147 - X151 - X155 - X163 - X18 - X185 - X195 - X197 - X199 - X201 - X203 - X220 - X243 - X249 - X25 - X251 - X253 - X264 - X271 - X273 - X281 - X291 - X292 - X295 - X297 - X304 - X308 - X326 - X333 - X342 - X346 - X35 - X350 - X352 - X374 - X381 - X388 - X390 - X396 - X400 - X405 - X408 - X414 - X420 - X423 - X57 - X60 - X65 - X67 - X7 - X713 - X727 - X742 - X760 - X766 - X768 - X771 - X779 - X787 - X791 - X793 - X795 - X798 - X804 - X129 - X809 - X817 - X818 - X821', 'X826']\n",
      "Feature cylinder - levels merged : ['AA11 - AA17 - E26 - E303 - E310 - E69 - E72 - E74 - E77 - E86 - E90 - F067 - F121 - F131 - F146 - F159 - F169 - F25 - F264 - F331 - F372 - F383 - F571 - F601 - F374 - F672 - F685 - F72 - F76 - F98 - G150 - G3 - G416 - G462 - G467 - G48 - G496 - G5 - G55 - G60 - G604 - G608 - G634 - G640 - G69 - G71 - G84 - G95 - G98 - I301 - I303 - I309 - I317 - F679 - G407 - G518 - I320 - I337 - I343 - I349 - I353 - I354 - I358 - J34 - J42 - J43 - J582 - J6 - J60 - J68 - M200 - M374 - M402 - M432 - M45 - M65 - O14 - O15 - O21 - O4 - O6 - O7 - O8 - R1 - R15 - R17 - R2 - R22 - R23 - R3 - R32 - R34 - R43 - R5 - R6 - R7 - R9 - T117 - T133 - T178 - T218 - T234 - T244 - T245 - T312 - T313 - T78 - T8 - W357 - W364 - W406 - W717 - W785 - W90 - W92 - X001 - X103 - X108 - X118 - X12 - X126 - X132 - X138 - X139 - X141 - X146 - X147 - X151 - X155 - X163 - X18 - X185 - X195 - X197 - X199 - X201 - X203 - X220 - X243 - X249 - X25 - X251 - X253 - X264 - X271 - X273 - X281 - X291 - X292 - X295 - X297 - X304 - X308 - X326 - X333 - X342 - X346 - X35 - X350 - X352 - X374 - X381 - X388 - X390 - X396 - X400 - X405 - X408 - X414 - X420 - X423 - X57 - X60 - X65 - X67 - X7 - X713 - X727 - X742 - X760 - X766 - X768 - X771 - X779 - X787 - X791 - X793 - X795 - X798 - X804 - X129 - X809 - X817 - X818 - X821 - X826', 'X828']\n",
      "Feature cylinder - levels merged : ['AA11 - AA17 - E26 - E303 - E310 - E69 - E72 - E74 - E77 - E86 - E90 - F067 - F121 - F131 - F146 - F159 - F169 - F25 - F264 - F331 - F372 - F383 - F571 - F601 - F374 - F672 - F685 - F72 - F76 - F98 - G150 - G3 - G416 - G462 - G467 - G48 - G496 - G5 - G55 - G60 - G604 - G608 - G634 - G640 - G69 - G71 - G84 - G95 - G98 - I301 - I303 - I309 - I317 - F679 - G407 - G518 - I320 - I337 - I343 - I349 - I353 - I354 - I358 - J34 - J42 - J43 - J582 - J6 - J60 - J68 - M200 - M374 - M402 - M432 - M45 - M65 - O14 - O15 - O21 - O4 - O6 - O7 - O8 - R1 - R15 - R17 - R2 - R22 - R23 - R3 - R32 - R34 - R43 - R5 - R6 - R7 - R9 - T117 - T133 - T178 - T218 - T234 - T244 - T245 - T312 - T313 - T78 - T8 - W357 - W364 - W406 - W717 - W785 - W90 - W92 - X001 - X103 - X108 - X118 - X12 - X126 - X132 - X138 - X139 - X141 - X146 - X147 - X151 - X155 - X163 - X18 - X185 - X195 - X197 - X199 - X201 - X203 - X220 - X243 - X249 - X25 - X251 - X253 - X264 - X271 - X273 - X281 - X291 - X292 - X295 - X297 - X304 - X308 - X326 - X333 - X342 - X346 - X35 - X350 - X352 - X374 - X381 - X388 - X390 - X396 - X400 - X405 - X408 - X414 - X420 - X423 - X57 - X60 - X65 - X67 - X7 - X713 - X727 - X742 - X760 - X766 - X768 - X771 - X779 - X787 - X791 - X793 - X795 - X798 - X804 - X129 - X809 - X817 - X818 - X821 - X826 - X828', 'X830']\n",
      "Feature cylinder - levels merged : ['AA11 - AA17 - E26 - E303 - E310 - E69 - E72 - E74 - E77 - E86 - E90 - F067 - F121 - F131 - F146 - F159 - F169 - F25 - F264 - F331 - F372 - F383 - F571 - F601 - F374 - F672 - F685 - F72 - F76 - F98 - G150 - G3 - G416 - G462 - G467 - G48 - G496 - G5 - G55 - G60 - G604 - G608 - G634 - G640 - G69 - G71 - G84 - G95 - G98 - I301 - I303 - I309 - I317 - F679 - G407 - G518 - I320 - I337 - I343 - I349 - I353 - I354 - I358 - J34 - J42 - J43 - J582 - J6 - J60 - J68 - M200 - M374 - M402 - M432 - M45 - M65 - O14 - O15 - O21 - O4 - O6 - O7 - O8 - R1 - R15 - R17 - R2 - R22 - R23 - R3 - R32 - R34 - R43 - R5 - R6 - R7 - R9 - T117 - T133 - T178 - T218 - T234 - T244 - T245 - T312 - T313 - T78 - T8 - W357 - W364 - W406 - W717 - W785 - W90 - W92 - X001 - X103 - X108 - X118 - X12 - X126 - X132 - X138 - X139 - X141 - X146 - X147 - X151 - X155 - X163 - X18 - X185 - X195 - X197 - X199 - X201 - X203 - X220 - X243 - X249 - X25 - X251 - X253 - X264 - X271 - X273 - X281 - X291 - X292 - X295 - X297 - X304 - X308 - X326 - X333 - X342 - X346 - X35 - X350 - X352 - X374 - X381 - X388 - X390 - X396 - X400 - X405 - X408 - X414 - X420 - X423 - X57 - X60 - X65 - X67 - X7 - X713 - X727 - X742 - X760 - X766 - X768 - X771 - X779 - X787 - X791 - X793 - X795 - X798 - X804 - X129 - X809 - X817 - X818 - X821 - X826 - X828 - X830', 'X831']\n",
      "Feature cylinder - levels merged : ['AA11 - AA17 - E26 - E303 - E310 - E69 - E72 - E74 - E77 - E86 - E90 - F067 - F121 - F131 - F146 - F159 - F169 - F25 - F264 - F331 - F372 - F383 - F571 - F601 - F374 - F672 - F685 - F72 - F76 - F98 - G150 - G3 - G416 - G462 - G467 - G48 - G496 - G5 - G55 - G60 - G604 - G608 - G634 - G640 - G69 - G71 - G84 - G95 - G98 - I301 - I303 - I309 - I317 - F679 - G407 - G518 - I320 - I337 - I343 - I349 - I353 - I354 - I358 - J34 - J42 - J43 - J582 - J6 - J60 - J68 - M200 - M374 - M402 - M432 - M45 - M65 - O14 - O15 - O21 - O4 - O6 - O7 - O8 - R1 - R15 - R17 - R2 - R22 - R23 - R3 - R32 - R34 - R43 - R5 - R6 - R7 - R9 - T117 - T133 - T178 - T218 - T234 - T244 - T245 - T312 - T313 - T78 - T8 - W357 - W364 - W406 - W717 - W785 - W90 - W92 - X001 - X103 - X108 - X118 - X12 - X126 - X132 - X138 - X139 - X141 - X146 - X147 - X151 - X155 - X163 - X18 - X185 - X195 - X197 - X199 - X201 - X203 - X220 - X243 - X249 - X25 - X251 - X253 - X264 - X271 - X273 - X281 - X291 - X292 - X295 - X297 - X304 - X308 - X326 - X333 - X342 - X346 - X35 - X350 - X352 - X374 - X381 - X388 - X390 - X396 - X400 - X405 - X408 - X414 - X420 - X423 - X57 - X60 - X65 - X67 - X7 - X713 - X727 - X742 - X760 - X766 - X768 - X771 - X779 - X787 - X791 - X793 - X795 - X798 - X804 - X129 - X809 - X817 - X818 - X821 - X826 - X828 - X830 - X831', 'X837']\n",
      "Feature cylinder - levels merged : ['AA11 - AA17 - E26 - E303 - E310 - E69 - E72 - E74 - E77 - E86 - E90 - F067 - F121 - F131 - F146 - F159 - F169 - F25 - F264 - F331 - F372 - F383 - F571 - F601 - F374 - F672 - F685 - F72 - F76 - F98 - G150 - G3 - G416 - G462 - G467 - G48 - G496 - G5 - G55 - G60 - G604 - G608 - G634 - G640 - G69 - G71 - G84 - G95 - G98 - I301 - I303 - I309 - I317 - F679 - G407 - G518 - I320 - I337 - I343 - I349 - I353 - I354 - I358 - J34 - J42 - J43 - J582 - J6 - J60 - J68 - M200 - M374 - M402 - M432 - M45 - M65 - O14 - O15 - O21 - O4 - O6 - O7 - O8 - R1 - R15 - R17 - R2 - R22 - R23 - R3 - R32 - R34 - R43 - R5 - R6 - R7 - R9 - T117 - T133 - T178 - T218 - T234 - T244 - T245 - T312 - T313 - T78 - T8 - W357 - W364 - W406 - W717 - W785 - W90 - W92 - X001 - X103 - X108 - X118 - X12 - X126 - X132 - X138 - X139 - X141 - X146 - X147 - X151 - X155 - X163 - X18 - X185 - X195 - X197 - X199 - X201 - X203 - X220 - X243 - X249 - X25 - X251 - X253 - X264 - X271 - X273 - X281 - X291 - X292 - X295 - X297 - X304 - X308 - X326 - X333 - X342 - X346 - X35 - X350 - X352 - X374 - X381 - X388 - X390 - X396 - X400 - X405 - X408 - X414 - X420 - X423 - X57 - X60 - X65 - X67 - X7 - X713 - X727 - X742 - X760 - X766 - X768 - X771 - X779 - X787 - X791 - X793 - X795 - X798 - X804 - X129 - X809 - X817 - X818 - X821 - X826 - X828 - X830 - X831 - X837', 'X838']\n"
     ]
    },
    {
     "name": "stdout",
     "output_type": "stream",
     "text": [
      "Feature cylinder - levels merged : ['AA11 - AA17 - E26 - E303 - E310 - E69 - E72 - E74 - E77 - E86 - E90 - F067 - F121 - F131 - F146 - F159 - F169 - F25 - F264 - F331 - F372 - F383 - F571 - F601 - F374 - F672 - F685 - F72 - F76 - F98 - G150 - G3 - G416 - G462 - G467 - G48 - G496 - G5 - G55 - G60 - G604 - G608 - G634 - G640 - G69 - G71 - G84 - G95 - G98 - I301 - I303 - I309 - I317 - F679 - G407 - G518 - I320 - I337 - I343 - I349 - I353 - I354 - I358 - J34 - J42 - J43 - J582 - J6 - J60 - J68 - M200 - M374 - M402 - M432 - M45 - M65 - O14 - O15 - O21 - O4 - O6 - O7 - O8 - R1 - R15 - R17 - R2 - R22 - R23 - R3 - R32 - R34 - R43 - R5 - R6 - R7 - R9 - T117 - T133 - T178 - T218 - T234 - T244 - T245 - T312 - T313 - T78 - T8 - W357 - W364 - W406 - W717 - W785 - W90 - W92 - X001 - X103 - X108 - X118 - X12 - X126 - X132 - X138 - X139 - X141 - X146 - X147 - X151 - X155 - X163 - X18 - X185 - X195 - X197 - X199 - X201 - X203 - X220 - X243 - X249 - X25 - X251 - X253 - X264 - X271 - X273 - X281 - X291 - X292 - X295 - X297 - X304 - X308 - X326 - X333 - X342 - X346 - X35 - X350 - X352 - X374 - X381 - X388 - X390 - X396 - X400 - X405 - X408 - X414 - X420 - X423 - X57 - X60 - X65 - X67 - X7 - X713 - X727 - X742 - X760 - X766 - X768 - X771 - X779 - X787 - X791 - X793 - X795 - X798 - X804 - X129 - X809 - X817 - X818 - X821 - X826 - X828 - X830 - X831 - X837 - X838', 'X84']\n",
      "Feature cylinder - levels merged : ['AA11 - AA17 - E26 - E303 - E310 - E69 - E72 - E74 - E77 - E86 - E90 - F067 - F121 - F131 - F146 - F159 - F169 - F25 - F264 - F331 - F372 - F383 - F571 - F601 - F374 - F672 - F685 - F72 - F76 - F98 - G150 - G3 - G416 - G462 - G467 - G48 - G496 - G5 - G55 - G60 - G604 - G608 - G634 - G640 - G69 - G71 - G84 - G95 - G98 - I301 - I303 - I309 - I317 - F679 - G407 - G518 - I320 - I337 - I343 - I349 - I353 - I354 - I358 - J34 - J42 - J43 - J582 - J6 - J60 - J68 - M200 - M374 - M402 - M432 - M45 - M65 - O14 - O15 - O21 - O4 - O6 - O7 - O8 - R1 - R15 - R17 - R2 - R22 - R23 - R3 - R32 - R34 - R43 - R5 - R6 - R7 - R9 - T117 - T133 - T178 - T218 - T234 - T244 - T245 - T312 - T313 - T78 - T8 - W357 - W364 - W406 - W717 - W785 - W90 - W92 - X001 - X103 - X108 - X118 - X12 - X126 - X132 - X138 - X139 - X141 - X146 - X147 - X151 - X155 - X163 - X18 - X185 - X195 - X197 - X199 - X201 - X203 - X220 - X243 - X249 - X25 - X251 - X253 - X264 - X271 - X273 - X281 - X291 - X292 - X295 - X297 - X304 - X308 - X326 - X333 - X342 - X346 - X35 - X350 - X352 - X374 - X381 - X388 - X390 - X396 - X400 - X405 - X408 - X414 - X420 - X423 - X57 - X60 - X65 - X67 - X7 - X713 - X727 - X742 - X760 - X766 - X768 - X771 - X779 - X787 - X791 - X793 - X795 - X798 - X804 - X129 - X809 - X817 - X818 - X821 - X826 - X828 - X830 - X831 - X837 - X838 - X84', 'X89']\n",
      "Feature cylinder - levels merged : ['AA11 - AA17 - E26 - E303 - E310 - E69 - E72 - E74 - E77 - E86 - E90 - F067 - F121 - F131 - F146 - F159 - F169 - F25 - F264 - F331 - F372 - F383 - F571 - F601 - F374 - F672 - F685 - F72 - F76 - F98 - G150 - G3 - G416 - G462 - G467 - G48 - G496 - G5 - G55 - G60 - G604 - G608 - G634 - G640 - G69 - G71 - G84 - G95 - G98 - I301 - I303 - I309 - I317 - F679 - G407 - G518 - I320 - I337 - I343 - I349 - I353 - I354 - I358 - J34 - J42 - J43 - J582 - J6 - J60 - J68 - M200 - M374 - M402 - M432 - M45 - M65 - O14 - O15 - O21 - O4 - O6 - O7 - O8 - R1 - R15 - R17 - R2 - R22 - R23 - R3 - R32 - R34 - R43 - R5 - R6 - R7 - R9 - T117 - T133 - T178 - T218 - T234 - T244 - T245 - T312 - T313 - T78 - T8 - W357 - W364 - W406 - W717 - W785 - W90 - W92 - X001 - X103 - X108 - X118 - X12 - X126 - X132 - X138 - X139 - X141 - X146 - X147 - X151 - X155 - X163 - X18 - X185 - X195 - X197 - X199 - X201 - X203 - X220 - X243 - X249 - X25 - X251 - X253 - X264 - X271 - X273 - X281 - X291 - X292 - X295 - X297 - X304 - X308 - X326 - X333 - X342 - X346 - X35 - X350 - X352 - X374 - X381 - X388 - X390 - X396 - X400 - X405 - X408 - X414 - X420 - X423 - X57 - X60 - X65 - X67 - X7 - X713 - X727 - X742 - X760 - X766 - X768 - X771 - X779 - X787 - X791 - X793 - X795 - X798 - X804 - X129 - X809 - X817 - X818 - X821 - X826 - X828 - X830 - X831 - X837 - X838 - X84 - X89', 'X9']\n",
      "Feature cylinder - levels merged : ['AA11 - AA17 - E26 - E303 - E310 - E69 - E72 - E74 - E77 - E86 - E90 - F067 - F121 - F131 - F146 - F159 - F169 - F25 - F264 - F331 - F372 - F383 - F571 - F601 - F374 - F672 - F685 - F72 - F76 - F98 - G150 - G3 - G416 - G462 - G467 - G48 - G496 - G5 - G55 - G60 - G604 - G608 - G634 - G640 - G69 - G71 - G84 - G95 - G98 - I301 - I303 - I309 - I317 - F679 - G407 - G518 - I320 - I337 - I343 - I349 - I353 - I354 - I358 - J34 - J42 - J43 - J582 - J6 - J60 - J68 - M200 - M374 - M402 - M432 - M45 - M65 - O14 - O15 - O21 - O4 - O6 - O7 - O8 - R1 - R15 - R17 - R2 - R22 - R23 - R3 - R32 - R34 - R43 - R5 - R6 - R7 - R9 - T117 - T133 - T178 - T218 - T234 - T244 - T245 - T312 - T313 - T78 - T8 - W357 - W364 - W406 - W717 - W785 - W90 - W92 - X001 - X103 - X108 - X118 - X12 - X126 - X132 - X138 - X139 - X141 - X146 - X147 - X151 - X155 - X163 - X18 - X185 - X195 - X197 - X199 - X201 - X203 - X220 - X243 - X249 - X25 - X251 - X253 - X264 - X271 - X273 - X281 - X291 - X292 - X295 - X297 - X304 - X308 - X326 - X333 - X342 - X346 - X35 - X350 - X352 - X374 - X381 - X388 - X390 - X396 - X400 - X405 - X408 - X414 - X420 - X423 - X57 - X60 - X65 - X67 - X7 - X713 - X727 - X742 - X760 - X766 - X768 - X771 - X779 - X787 - X791 - X793 - X795 - X798 - X804 - X129 - X809 - X817 - X818 - X821 - X826 - X828 - X830 - X831 - X837 - X838 - X84 - X89 - X9', 'X91']\n",
      "Feature cylinder - levels merged : ['AA11 - AA17 - E26 - E303 - E310 - E69 - E72 - E74 - E77 - E86 - E90 - F067 - F121 - F131 - F146 - F159 - F169 - F25 - F264 - F331 - F372 - F383 - F571 - F601 - F374 - F672 - F685 - F72 - F76 - F98 - G150 - G3 - G416 - G462 - G467 - G48 - G496 - G5 - G55 - G60 - G604 - G608 - G634 - G640 - G69 - G71 - G84 - G95 - G98 - I301 - I303 - I309 - I317 - F679 - G407 - G518 - I320 - I337 - I343 - I349 - I353 - I354 - I358 - J34 - J42 - J43 - J582 - J6 - J60 - J68 - M200 - M374 - M402 - M432 - M45 - M65 - O14 - O15 - O21 - O4 - O6 - O7 - O8 - R1 - R15 - R17 - R2 - R22 - R23 - R3 - R32 - R34 - R43 - R5 - R6 - R7 - R9 - T117 - T133 - T178 - T218 - T234 - T244 - T245 - T312 - T313 - T78 - T8 - W357 - W364 - W406 - W717 - W785 - W90 - W92 - X001 - X103 - X108 - X118 - X12 - X126 - X132 - X138 - X139 - X141 - X146 - X147 - X151 - X155 - X163 - X18 - X185 - X195 - X197 - X199 - X201 - X203 - X220 - X243 - X249 - X25 - X251 - X253 - X264 - X271 - X273 - X281 - X291 - X292 - X295 - X297 - X304 - X308 - X326 - X333 - X342 - X346 - X35 - X350 - X352 - X374 - X381 - X388 - X390 - X396 - X400 - X405 - X408 - X414 - X420 - X423 - X57 - X60 - X65 - X67 - X7 - X713 - X727 - X742 - X760 - X766 - X768 - X771 - X779 - X787 - X791 - X793 - X795 - X798 - X804 - X129 - X809 - X817 - X818 - X821 - X826 - X828 - X830 - X831 - X837 - X838 - X84 - X89 - X9 - X91', 'X96']\n",
      "Feature cylinder - levels merged : ['AA11 - AA17 - E26 - E303 - E310 - E69 - E72 - E74 - E77 - E86 - E90 - F067 - F121 - F131 - F146 - F159 - F169 - F25 - F264 - F331 - F372 - F383 - F571 - F601 - F374 - F672 - F685 - F72 - F76 - F98 - G150 - G3 - G416 - G462 - G467 - G48 - G496 - G5 - G55 - G60 - G604 - G608 - G634 - G640 - G69 - G71 - G84 - G95 - G98 - I301 - I303 - I309 - I317 - F679 - G407 - G518 - I320 - I337 - I343 - I349 - I353 - I354 - I358 - J34 - J42 - J43 - J582 - J6 - J60 - J68 - M200 - M374 - M402 - M432 - M45 - M65 - O14 - O15 - O21 - O4 - O6 - O7 - O8 - R1 - R15 - R17 - R2 - R22 - R23 - R3 - R32 - R34 - R43 - R5 - R6 - R7 - R9 - T117 - T133 - T178 - T218 - T234 - T244 - T245 - T312 - T313 - T78 - T8 - W357 - W364 - W406 - W717 - W785 - W90 - W92 - X001 - X103 - X108 - X118 - X12 - X126 - X132 - X138 - X139 - X141 - X146 - X147 - X151 - X155 - X163 - X18 - X185 - X195 - X197 - X199 - X201 - X203 - X220 - X243 - X249 - X25 - X251 - X253 - X264 - X271 - X273 - X281 - X291 - X292 - X295 - X297 - X304 - X308 - X326 - X333 - X342 - X346 - X35 - X350 - X352 - X374 - X381 - X388 - X390 - X396 - X400 - X405 - X408 - X414 - X420 - X423 - X57 - X60 - X65 - X67 - X7 - X713 - X727 - X742 - X760 - X766 - X768 - X771 - X779 - X787 - X791 - X793 - X795 - X798 - X804 - X129 - X809 - X817 - X818 - X821 - X826 - X828 - X830 - X831 - X837 - X838 - X84 - X89 - X9 - X91 - X96', 'Y216']\n"
     ]
    },
    {
     "name": "stdout",
     "output_type": "stream",
     "text": [
      "Feature cylinder - levels merged : ['AA11 - AA17 - E26 - E303 - E310 - E69 - E72 - E74 - E77 - E86 - E90 - F067 - F121 - F131 - F146 - F159 - F169 - F25 - F264 - F331 - F372 - F383 - F571 - F601 - F374 - F672 - F685 - F72 - F76 - F98 - G150 - G3 - G416 - G462 - G467 - G48 - G496 - G5 - G55 - G60 - G604 - G608 - G634 - G640 - G69 - G71 - G84 - G95 - G98 - I301 - I303 - I309 - I317 - F679 - G407 - G518 - I320 - I337 - I343 - I349 - I353 - I354 - I358 - J34 - J42 - J43 - J582 - J6 - J60 - J68 - M200 - M374 - M402 - M432 - M45 - M65 - O14 - O15 - O21 - O4 - O6 - O7 - O8 - R1 - R15 - R17 - R2 - R22 - R23 - R3 - R32 - R34 - R43 - R5 - R6 - R7 - R9 - T117 - T133 - T178 - T218 - T234 - T244 - T245 - T312 - T313 - T78 - T8 - W357 - W364 - W406 - W717 - W785 - W90 - W92 - X001 - X103 - X108 - X118 - X12 - X126 - X132 - X138 - X139 - X141 - X146 - X147 - X151 - X155 - X163 - X18 - X185 - X195 - X197 - X199 - X201 - X203 - X220 - X243 - X249 - X25 - X251 - X253 - X264 - X271 - X273 - X281 - X291 - X292 - X295 - X297 - X304 - X308 - X326 - X333 - X342 - X346 - X35 - X350 - X352 - X374 - X381 - X388 - X390 - X396 - X400 - X405 - X408 - X414 - X420 - X423 - X57 - X60 - X65 - X67 - X7 - X713 - X727 - X742 - X760 - X766 - X768 - X771 - X779 - X787 - X791 - X793 - X795 - X798 - X804 - X129 - X809 - X817 - X818 - X821 - X826 - X828 - X830 - X831 - X837 - X838 - X84 - X89 - X9 - X91 - X96 - Y216', 'Y270']\n",
      "Feature cylinder - levels merged : ['G81', 'T281']\n",
      "Feature cylinder - levels merged : ['I357', 'X29']\n",
      "Feature cylinder - levels merged : ['I357 - X29', 'X367']\n",
      "Feature cylinder - levels merged : ['G81 - T281', 'I357 - X29 - X367']\n",
      "Feature cylinder - levels merged : ['AA11 - AA17 - E26 - E303 - E310 - E69 - E72 - E74 - E77 - E86 - E90 - F067 - F121 - F131 - F146 - F159 - F169 - F25 - F264 - F331 - F372 - F383 - F571 - F601 - F374 - F672 - F685 - F72 - F76 - F98 - G150 - G3 - G416 - G462 - G467 - G48 - G496 - G5 - G55 - G60 - G604 - G608 - G634 - G640 - G69 - G71 - G84 - G95 - G98 - I301 - I303 - I309 - I317 - F679 - G407 - G518 - I320 - I337 - I343 - I349 - I353 - I354 - I358 - J34 - J42 - J43 - J582 - J6 - J60 - J68 - M200 - M374 - M402 - M432 - M45 - M65 - O14 - O15 - O21 - O4 - O6 - O7 - O8 - R1 - R15 - R17 - R2 - R22 - R23 - R3 - R32 - R34 - R43 - R5 - R6 - R7 - R9 - T117 - T133 - T178 - T218 - T234 - T244 - T245 - T312 - T313 - T78 - T8 - W357 - W364 - W406 - W717 - W785 - W90 - W92 - X001 - X103 - X108 - X118 - X12 - X126 - X132 - X138 - X139 - X141 - X146 - X147 - X151 - X155 - X163 - X18 - X185 - X195 - X197 - X199 - X201 - X203 - X220 - X243 - X249 - X25 - X251 - X253 - X264 - X271 - X273 - X281 - X291 - X292 - X295 - X297 - X304 - X308 - X326 - X333 - X342 - X346 - X35 - X350 - X352 - X374 - X381 - X388 - X390 - X396 - X400 - X405 - X408 - X414 - X420 - X423 - X57 - X60 - X65 - X67 - X7 - X713 - X727 - X742 - X760 - X766 - X768 - X771 - X779 - X787 - X791 - X793 - X795 - X798 - X804 - X129 - X809 - X817 - X818 - X821 - X826 - X828 - X830 - X831 - X837 - X838 - X84 - X89 - X9 - X91 - X96 - Y216 - Y270', 'G81 - T281 - I357 - X29 - X367']\n",
      "Feature cylinder - levels merged : ['AA11 - AA17 - E26 - E303 - E310 - E69 - E72 - E74 - E77 - E86 - E90 - F067 - F121 - F131 - F146 - F159 - F169 - F25 - F264 - F331 - F372 - F383 - F571 - F601 - F374 - F672 - F685 - F72 - F76 - F98 - G150 - G3 - G416 - G462 - G467 - G48 - G496 - G5 - G55 - G60 - G604 - G608 - G634 - G640 - G69 - G71 - G84 - G95 - G98 - I301 - I303 - I309 - I317 - F679 - G407 - G518 - I320 - I337 - I343 - I349 - I353 - I354 - I358 - J34 - J42 - J43 - J582 - J6 - J60 - J68 - M200 - M374 - M402 - M432 - M45 - M65 - O14 - O15 - O21 - O4 - O6 - O7 - O8 - R1 - R15 - R17 - R2 - R22 - R23 - R3 - R32 - R34 - R43 - R5 - R6 - R7 - R9 - T117 - T133 - T178 - T218 - T234 - T244 - T245 - T312 - T313 - T78 - T8 - W357 - W364 - W406 - W717 - W785 - W90 - W92 - X001 - X103 - X108 - X118 - X12 - X126 - X132 - X138 - X139 - X141 - X146 - X147 - X151 - X155 - X163 - X18 - X185 - X195 - X197 - X199 - X201 - X203 - X220 - X243 - X249 - X25 - X251 - X253 - X264 - X271 - X273 - X281 - X291 - X292 - X295 - X297 - X304 - X308 - X326 - X333 - X342 - X346 - X35 - X350 - X352 - X374 - X381 - X388 - X390 - X396 - X400 - X405 - X408 - X414 - X420 - X423 - X57 - X60 - X65 - X67 - X7 - X713 - X727 - X742 - X760 - X766 - X768 - X771 - X779 - X787 - X791 - X793 - X795 - X798 - X804 - X129 - X809 - X817 - X818 - X821 - X826 - X828 - X830 - X831 - X837 - X838 - X84 - X89 - X9 - X91 - X96 - Y216 - Y270 - G81 - T281 - I357 - X29 - X367', 'X753']\n",
      "Feature customer - levels merged : ['AMES', 'BELKS']\n",
      "Feature customer - levels merged : ['AMES - BELKS', 'BRENDLS']\n",
      "Feature customer - levels merged : ['AMES - BELKS - BRENDLS', 'BESTPROD']\n",
      "Feature customer - levels merged : ['AMES - BELKS - BRENDLS - BESTPROD', 'BURDINES']\n",
      "Feature customer - levels merged : ['AMES - BELKS - BRENDLS - BESTPROD - BURDINES', 'CASLIVING']\n",
      "Feature customer - levels merged : ['AMES - BELKS - BRENDLS - BESTPROD - BURDINES - CASLIVING', 'CASUALLIVING']\n",
      "Feature customer - levels merged : ['AMES - BELKS - BRENDLS - BESTPROD - BURDINES - CASLIVING - CASUALLIVING', 'CENPURCH']\n",
      "Feature customer - levels merged : ['AMES - BELKS - BRENDLS - BESTPROD - BURDINES - CASLIVING - CASUALLIVING - CENPURCH', 'CHILDWORLD']\n",
      "Feature customer - levels merged : ['AMES - BELKS - BRENDLS - BESTPROD - BURDINES - CASLIVING - CASUALLIVING - CENPURCH - CHILDWORLD', 'DUNNS']\n",
      "Feature customer - levels merged : ['AMES - BELKS - BRENDLS - BESTPROD - BURDINES - CASLIVING - CASUALLIVING - CENPURCH - CHILDWORLD - DUNNS', 'EXXON']\n",
      "Feature customer - levels merged : ['AMES - BELKS - BRENDLS - BESTPROD - BURDINES - CASLIVING - CASUALLIVING - CENPURCH - CHILDWORLD - DUNNS - EXXON', 'GLOBAL']\n",
      "Feature customer - levels merged : ['AMES - BELKS - BRENDLS - BESTPROD - BURDINES - CASLIVING - CASUALLIVING - CENPURCH - CHILDWORLD - DUNNS - EXXON - GLOBAL', 'CHILDCRAFT']\n",
      "Feature customer - levels merged : ['AMES - BELKS - BRENDLS - BESTPROD - BURDINES - CASLIVING - CASUALLIVING - CENPURCH - CHILDWORLD - DUNNS - EXXON - GLOBAL - CHILDCRAFT', 'GURNEY']\n",
      "Feature customer - levels merged : ['AMES - BELKS - BRENDLS - BESTPROD - BURDINES - CASLIVING - CASUALLIVING - CENPURCH - CHILDWORLD - DUNNS - EXXON - GLOBAL - CHILDCRAFT - GURNEY', 'HANHOUSE']\n",
      "Feature customer - levels merged : ['AMES - BELKS - BRENDLS - BESTPROD - BURDINES - CASLIVING - CASUALLIVING - CENPURCH - CHILDWORLD - DUNNS - EXXON - GLOBAL - CHILDCRAFT - GURNEY - HANHOUSE', 'HANOVERHOUSE']\n",
      "Feature customer - levels merged : ['AMES - BELKS - BRENDLS - BESTPROD - BURDINES - CASLIVING - CASUALLIVING - CENPURCH - CHILDWORLD - DUNNS - EXXON - GLOBAL - CHILDCRAFT - GURNEY - HANHOUSE - HANOVERHOUSE', 'HANOVERHSE']\n",
      "Feature customer - levels merged : ['AMES - BELKS - BRENDLS - BESTPROD - BURDINES - CASLIVING - CASUALLIVING - CENPURCH - CHILDWORLD - DUNNS - EXXON - GLOBAL - CHILDCRAFT - GURNEY - HANHOUSE - HANOVERHOUSE - HANOVERHSE', 'HANOVRHOUS']\n",
      "Feature customer - levels merged : ['AMES - BELKS - BRENDLS - BESTPROD - BURDINES - CASLIVING - CASUALLIVING - CENPURCH - CHILDWORLD - DUNNS - EXXON - GLOBAL - CHILDCRAFT - GURNEY - HANHOUSE - HANOVERHOUSE - HANOVERHSE - HANOVRHOUS', 'HANOVRHOUSE']\n",
      "Feature customer - levels merged : ['AMES - BELKS - BRENDLS - BESTPROD - BURDINES - CASLIVING - CASUALLIVING - CENPURCH - CHILDWORLD - DUNNS - EXXON - GLOBAL - CHILDCRAFT - GURNEY - HANHOUSE - HANOVERHOUSE - HANOVERHSE - HANOVRHOUS - HANOVRHOUSE', 'HOMESHOPPING']\n",
      "Feature customer - levels merged : ['AMES - BELKS - BRENDLS - BESTPROD - BURDINES - CASLIVING - CASUALLIVING - CENPURCH - CHILDWORLD - DUNNS - EXXON - GLOBAL - CHILDCRAFT - GURNEY - HANHOUSE - HANOVERHOUSE - HANOVERHSE - HANOVRHOUS - HANOVRHOUSE - HOMESHOPPING', 'JCP']\n",
      "Feature customer - levels merged : ['AMES - BELKS - BRENDLS - BESTPROD - BURDINES - CASLIVING - CASUALLIVING - CENPURCH - CHILDWORLD - DUNNS - EXXON - GLOBAL - CHILDCRAFT - GURNEY - HANHOUSE - HANOVERHOUSE - HANOVERHSE - HANOVRHOUS - HANOVRHOUSE - HOMESHOPPING - JCP', 'JCPENNY']\n",
      "Feature customer - levels merged : ['AMES - BELKS - BRENDLS - BESTPROD - BURDINES - CASLIVING - CASUALLIVING - CENPURCH - CHILDWORLD - DUNNS - EXXON - GLOBAL - CHILDCRAFT - GURNEY - HANHOUSE - HANOVERHOUSE - HANOVERHSE - HANOVRHOUS - HANOVRHOUSE - HOMESHOPPING - JCP - JCPENNY', 'KIDSRUS']\n"
     ]
    },
    {
     "name": "stdout",
     "output_type": "stream",
     "text": [
      "Feature customer - levels merged : ['AMES - BELKS - BRENDLS - BESTPROD - BURDINES - CASLIVING - CASUALLIVING - CENPURCH - CHILDWORLD - DUNNS - EXXON - GLOBAL - CHILDCRAFT - GURNEY - HANHOUSE - HANOVERHOUSE - HANOVERHSE - HANOVRHOUS - HANOVRHOUSE - HOMESHOPPING - JCP - JCPENNY - KIDSRUS', 'LAZARUS']\n",
      "Feature customer - levels merged : ['AMES - BELKS - BRENDLS - BESTPROD - BURDINES - CASLIVING - CASUALLIVING - CENPURCH - CHILDWORLD - DUNNS - EXXON - GLOBAL - CHILDCRAFT - GURNEY - HANHOUSE - HANOVERHOUSE - HANOVERHSE - HANOVRHOUS - HANOVRHOUSE - HOMESHOPPING - JCP - JCPENNY - KIDSRUS - LAZARUS', 'MERVYNS']\n",
      "Feature customer - levels merged : ['AMES - BELKS - BRENDLS - BESTPROD - BURDINES - CASLIVING - CASUALLIVING - CENPURCH - CHILDWORLD - DUNNS - EXXON - GLOBAL - CHILDCRAFT - GURNEY - HANHOUSE - HANOVERHOUSE - HANOVERHSE - HANOVRHOUS - HANOVRHOUSE - HOMESHOPPING - JCP - JCPENNY - KIDSRUS - LAZARUS - MERVYNS', 'NATLWILDLIFE']\n",
      "Feature customer - levels merged : ['AMES - BELKS - BRENDLS - BESTPROD - BURDINES - CASLIVING - CASUALLIVING - CENPURCH - CHILDWORLD - DUNNS - EXXON - GLOBAL - CHILDCRAFT - GURNEY - HANHOUSE - HANOVERHOUSE - HANOVERHSE - HANOVRHOUS - HANOVRHOUSE - HOMESHOPPING - JCP - JCPENNY - KIDSRUS - LAZARUS - MERVYNS - NATLWILDLIFE', 'OLDVILLAGESHOP']\n",
      "Feature customer - levels merged : ['AMES - BELKS - BRENDLS - BESTPROD - BURDINES - CASLIVING - CASUALLIVING - CENPURCH - CHILDWORLD - DUNNS - EXXON - GLOBAL - CHILDCRAFT - GURNEY - HANHOUSE - HANOVERHOUSE - HANOVERHSE - HANOVRHOUS - HANOVRHOUSE - HOMESHOPPING - JCP - JCPENNY - KIDSRUS - LAZARUS - MERVYNS - NATLWILDLIFE - OLDVILLAGESHOP', 'ROSES']\n",
      "Feature customer - levels merged : ['AMES - BELKS - BRENDLS - BESTPROD - BURDINES - CASLIVING - CASUALLIVING - CENPURCH - CHILDWORLD - DUNNS - EXXON - GLOBAL - CHILDCRAFT - GURNEY - HANHOUSE - HANOVERHOUSE - HANOVERHSE - HANOVRHOUS - HANOVRHOUSE - HOMESHOPPING - JCP - JCPENNY - KIDSRUS - LAZARUS - MERVYNS - NATLWILDLIFE - OLDVILLAGESHOP - ROSES', 'DOWNS']\n",
      "Feature customer - levels merged : ['AMES - BELKS - BRENDLS - BESTPROD - BURDINES - CASLIVING - CASUALLIVING - CENPURCH - CHILDWORLD - DUNNS - EXXON - GLOBAL - CHILDCRAFT - GURNEY - HANHOUSE - HANOVERHOUSE - HANOVERHSE - HANOVRHOUS - HANOVRHOUSE - HOMESHOPPING - JCP - JCPENNY - KIDSRUS - LAZARUS - MERVYNS - NATLWILDLIFE - OLDVILLAGESHOP - ROSES - DOWNS', 'GUIDEPOSTS']\n",
      "Feature customer - levels merged : ['AMES - BELKS - BRENDLS - BESTPROD - BURDINES - CASLIVING - CASUALLIVING - CENPURCH - CHILDWORLD - DUNNS - EXXON - GLOBAL - CHILDCRAFT - GURNEY - HANHOUSE - HANOVERHOUSE - HANOVERHSE - HANOVRHOUS - HANOVRHOUSE - HOMESHOPPING - JCP - JCPENNY - KIDSRUS - LAZARUS - MERVYNS - NATLWILDLIFE - OLDVILLAGESHOP - ROSES - DOWNS - GUIDEPOSTS', 'HILLS']\n",
      "Feature customer - levels merged : ['AMES - BELKS - BRENDLS - BESTPROD - BURDINES - CASLIVING - CASUALLIVING - CENPURCH - CHILDWORLD - DUNNS - EXXON - GLOBAL - CHILDCRAFT - GURNEY - HANHOUSE - HANOVERHOUSE - HANOVERHSE - HANOVRHOUS - HANOVRHOUSE - HOMESHOPPING - JCP - JCPENNY - KIDSRUS - LAZARUS - MERVYNS - NATLWILDLIFE - OLDVILLAGESHOP - ROSES - DOWNS - GUIDEPOSTS - HILLS', 'REI']\n",
      "Feature customer - levels merged : ['AMES - BELKS - BRENDLS - BESTPROD - BURDINES - CASLIVING - CASUALLIVING - CENPURCH - CHILDWORLD - DUNNS - EXXON - GLOBAL - CHILDCRAFT - GURNEY - HANHOUSE - HANOVERHOUSE - HANOVERHSE - HANOVRHOUS - HANOVRHOUSE - HOMESHOPPING - JCP - JCPENNY - KIDSRUS - LAZARUS - MERVYNS - NATLWILDLIFE - OLDVILLAGESHOP - ROSES - DOWNS - GUIDEPOSTS - HILLS - REI', 'SEARS']\n",
      "Feature customer - levels merged : ['AMES - BELKS - BRENDLS - BESTPROD - BURDINES - CASLIVING - CASUALLIVING - CENPURCH - CHILDWORLD - DUNNS - EXXON - GLOBAL - CHILDCRAFT - GURNEY - HANHOUSE - HANOVERHOUSE - HANOVERHSE - HANOVRHOUS - HANOVRHOUSE - HOMESHOPPING - JCP - JCPENNY - KIDSRUS - LAZARUS - MERVYNS - NATLWILDLIFE - OLDVILLAGESHOP - ROSES - DOWNS - GUIDEPOSTS - HILLS - REI - SEARS', 'WOOLWORTH']\n",
      "Feature customer - levels merged : ['AMES - BELKS - BRENDLS - BESTPROD - BURDINES - CASLIVING - CASUALLIVING - CENPURCH - CHILDWORLD - DUNNS - EXXON - GLOBAL - CHILDCRAFT - GURNEY - HANHOUSE - HANOVERHOUSE - HANOVERHSE - HANOVRHOUS - HANOVRHOUSE - HOMESHOPPING - JCP - JCPENNY - KIDSRUS - LAZARUS - MERVYNS - NATLWILDLIFE - OLDVILLAGESHOP - ROSES - DOWNS - GUIDEPOSTS - HILLS - REI - SEARS - WOOLWORTH', 'YIELDHOUSE']\n",
      "Feature customer - levels merged : ['AUSTADS', 'LURIAS']\n",
      "Feature customer - levels merged : ['AUSTADS - LURIAS', 'MASSEY']\n",
      "Feature customer - levels merged : ['AUSTADS - LURIAS - MASSEY', 'SHEPLERS']\n",
      "Feature customer - levels merged : ['BELK', 'COLORTILE']\n",
      "Feature customer - levels merged : ['BELK - COLORTILE', 'ECKERDS']\n",
      "Feature customer - levels merged : ['BELK - COLORTILE - ECKERDS', 'USCAV']\n",
      "Feature customer - levels merged : ['BELK - COLORTILE - ECKERDS - USCAV', 'WALMART']\n",
      "Feature customer - levels merged : ['TOYSRUS', 'WARDS']\n",
      "Feature customer - levels merged : ['AMES - BELKS - BRENDLS - BESTPROD - BURDINES - CASLIVING - CASUALLIVING - CENPURCH - CHILDWORLD - DUNNS - EXXON - GLOBAL - CHILDCRAFT - GURNEY - HANHOUSE - HANOVERHOUSE - HANOVERHSE - HANOVRHOUS - HANOVRHOUSE - HOMESHOPPING - JCP - JCPENNY - KIDSRUS - LAZARUS - MERVYNS - NATLWILDLIFE - OLDVILLAGESHOP - ROSES - DOWNS - GUIDEPOSTS - HILLS - REI - SEARS - WOOLWORTH - YIELDHOUSE', 'KMART']\n",
      "Feature customer - levels merged : ['AMES - BELKS - BRENDLS - BESTPROD - BURDINES - CASLIVING - CASUALLIVING - CENPURCH - CHILDWORLD - DUNNS - EXXON - GLOBAL - CHILDCRAFT - GURNEY - HANHOUSE - HANOVERHOUSE - HANOVERHSE - HANOVRHOUS - HANOVRHOUSE - HOMESHOPPING - JCP - JCPENNY - KIDSRUS - LAZARUS - MERVYNS - NATLWILDLIFE - OLDVILLAGESHOP - ROSES - DOWNS - GUIDEPOSTS - HILLS - REI - SEARS - WOOLWORTH - YIELDHOUSE - KMART', 'ECKERD']\n",
      "Feature customer - levels merged : ['AUSTADS - LURIAS - MASSEY - SHEPLERS', 'TVGUIDE']\n",
      "Feature customer - levels merged : ['MODMAT', 'TARGET']\n",
      "Feature customer - levels merged : ['AMES - BELKS - BRENDLS - BESTPROD - BURDINES - CASLIVING - CASUALLIVING - CENPURCH - CHILDWORLD - DUNNS - EXXON - GLOBAL - CHILDCRAFT - GURNEY - HANHOUSE - HANOVERHOUSE - HANOVERHSE - HANOVRHOUS - HANOVRHOUSE - HOMESHOPPING - JCP - JCPENNY - KIDSRUS - LAZARUS - MERVYNS - NATLWILDLIFE - OLDVILLAGESHOP - ROSES - DOWNS - GUIDEPOSTS - HILLS - REI - SEARS - WOOLWORTH - YIELDHOUSE - KMART - ECKERD', 'MODMAT - TARGET']\n",
      "Feature customer - levels merged : ['AUSTADS - LURIAS - MASSEY - SHEPLERS - TVGUIDE', 'BELK - COLORTILE - ECKERDS - USCAV - WALMART']\n",
      "Feature proof - levels merged : ['NO', 'missing']\n",
      "Feature proof - levels merged : ['NO - missing', 'YES']\n",
      "Feature blade - levels merged : ['BENTON', 'missing']\n",
      "Feature ink2 - levels merged : ['COVER', 'UNCOATED']\n",
      "Feature direct - levels merged : ['NO', 'YES']\n",
      "Feature solvent - levels merged : ['LINE', 'XYLOL']\n",
      "Feature type_cyl - levels merged : ['YES', 'missing']\n",
      "Feature press - levels merged : ['ALBERT70', 'MOTTER70']\n",
      "Feature press - levels merged : ['ALBERT70 - MOTTER70', 'MOTTER94']\n",
      "Feature cylinder2 - levels merged : ['CATALOG', 'SPIEGEL']\n",
      "Feature cylinder2 - levels merged : ['CATALOG - SPIEGEL', 'TABLOID']\n",
      "Feature paper2 - levels merged : ['CANADIAN', 'SCANDANAVIAN']\n",
      "Feature paper2 - levels merged : ['MIDEUROPEAN', 'SOUTHUS']\n",
      "Feature paper2 - levels merged : ['NORTHUS', 'missing']\n",
      "Feature paper2 - levels merged : ['MIDEUROPEAN - SOUTHUS', 'NORTHUS - missing']\n",
      "Feature caliper - levels merged : ['0.133', '0.167']\n",
      "Feature caliper - levels merged : ['0.133 - 0.167', '0.467']\n",
      "Feature caliper - levels merged : ['0.133 - 0.167 - 0.467', '0.283']\n",
      "Feature caliper - levels merged : ['0.133 - 0.167 - 0.467 - 0.283', '0.367']\n",
      "Feature caliper - levels merged : ['0.133 - 0.167 - 0.467 - 0.283 - 0.367', '0.4']\n",
      "Feature caliper - levels merged : ['0.133 - 0.167 - 0.467 - 0.283 - 0.367 - 0.4', '0.533']\n",
      "Feature caliper - levels merged : ['0.133 - 0.167 - 0.467 - 0.283 - 0.367 - 0.4 - 0.533', 'missing']\n",
      "Feature caliper - levels merged : ['0.35', '0.5']\n",
      "Feature caliper - levels merged : ['0.2', '0.3']\n",
      "Feature caliper - levels merged : ['0.2 - 0.3', '0.433']\n",
      "Feature caliper - levels merged : ['0.333', '0.35 - 0.5']\n",
      "Feature caliper - levels merged : ['0.2 - 0.3 - 0.433', '0.267']\n",
      "Feature caliper - levels merged : ['0.233', '0.333 - 0.35 - 0.5']\n",
      "Feature caliper - levels merged : ['0.2 - 0.3 - 0.433 - 0.267', '0.233 - 0.333 - 0.35 - 0.5']\n",
      "Feature caliper - levels merged : ['0.133 - 0.167 - 0.467 - 0.283 - 0.367 - 0.4 - 0.533 - missing', '0.2 - 0.3 - 0.433 - 0.267 - 0.233 - 0.333 - 0.35 - 0.5']\n"
     ]
    }
   ],
   "source": [
    "bands_train_grouped = bands.iloc[bands_features_train.index, :].copy()\n",
    "d = dict((x, []) for x in [    'cylinder', 'customer', 'grain', 'ink', 'proof', 'blade', 'cylinder1',\n",
    "    'paper', 'ink2', 'direct', 'solvent', 'type_cyl', 'press', 'cylinder2',\n",
    "    'paper2', 'caliper'\n",
    "])\n",
    "\n",
    "for var in [    'cylinder', 'customer', 'grain', 'ink', 'proof', 'blade', 'cylinder1',\n",
    "    'paper', 'ink2', 'direct', 'solvent', 'type_cyl', 'press', 'cylinder2',\n",
    "    'paper2', 'caliper'\n",
    "]:\n",
    "    \n",
    "    bands_train_grouped[var] = bands_train_grouped[var].astype(str)\n",
    "    d[var] = [x for x in np.unique(bands_train_grouped[var])]\n",
    "    p_value = 1\n",
    "\n",
    "    while(p_value>0.05):\n",
    "        if len(np.unique(bands_train_grouped[var]))>1:\n",
    "            freq_table = bands_train_grouped.groupby([var,'band']).size().reset_index()\n",
    "            liste_paires_modalites = [[a,b] for a in np.unique(bands_train_grouped[var]) for b in np.delete(np.unique(bands_train_grouped[var]),np.where(np.unique(bands_train_grouped[var])==a))]\n",
    "            liste_chi2 = [chi2_test([freq_table.iloc[np.in1d(freq_table[var],pair[0]),2],freq_table.iloc[np.in1d(freq_table[var],pair[1]),2]]) for pair in liste_paires_modalites]\n",
    "            p_value = max(liste_chi2)\n",
    "        else: break\n",
    "\n",
    "        if (p_value>0.05 and len(np.unique(bands_train_grouped[var]))>1):\n",
    "            bands_train_grouped[var].iloc[np.in1d(bands_train_grouped[var],liste_paires_modalites[np.argmax(np.equal(liste_chi2,p_value))])] = liste_paires_modalites[np.argmax(np.equal(liste_chi2,p_value))][0] + ' - ' + liste_paires_modalites[np.argmax(np.equal(liste_chi2,p_value))][1]\n",
    "            d[var].remove(liste_paires_modalites[np.argmax(np.equal(liste_chi2,p_value))][0])\n",
    "            d[var].remove(liste_paires_modalites[np.argmax(np.equal(liste_chi2,p_value))][1])\n",
    "            d[var].append(str(liste_paires_modalites[np.argmax(np.equal(liste_chi2,p_value))][0] + ' - ' + liste_paires_modalites[np.argmax(np.equal(liste_chi2,p_value))][1]))\n",
    "            print('Feature '+var+ ' - levels merged : '+str(liste_paires_modalites[np.argmax(np.equal(liste_chi2,p_value))]))\n",
    "        else: break\n"
   ]
  },
  {
   "cell_type": "markdown",
   "metadata": {
    "colab_type": "text",
    "id": "f_ikEvzAFNvj"
   },
   "source": [
    "## Test time"
   ]
  },
  {
   "cell_type": "code",
   "execution_count": 38,
   "metadata": {},
   "outputs": [],
   "source": [
    "bands_train_mdlp = score_bands_MDLP_one_hot_encoder.transform(\n",
    "    transformer_cont_bands.transform(bands_nn_features_train[[\n",
    "'press2', 'plating', 'proof2', 'viscosity', 'caliper', 'ink3', 'humifity',\n",
    "    'roughness', 'blade2', 'varnish', 'press3', 'ink4', 'solvent2', 'ESA',\n",
    "    'ESA2', 'wax', 'hardener', 'roller', 'current', 'anode', 'chrome'    ]]))"
   ]
  },
  {
   "cell_type": "code",
   "execution_count": 30,
   "metadata": {},
   "outputs": [],
   "source": [
    "bands_train_grouped_label_encoders = []\n",
    "\n",
    "bands_train_grouped_encoded = bands_train_grouped.copy()\n",
    "\n",
    "for j in [\n",
    "            'cylinder', 'customer', 'grain', 'ink', 'proof', 'blade', 'cylinder1',\n",
    "    'paper', 'ink2', 'direct', 'solvent', 'type_cyl', 'press', 'cylinder2',\n",
    "    'paper2', 'caliper'\n",
    "\n",
    "]:\n",
    "    temp = sk.preprocessing.LabelEncoder()\n",
    "    temp.fit(bands_train_grouped_encoded[j].astype(str))\n",
    "    bands_train_grouped_label_encoders.append(temp)\n",
    "    bands_train_grouped_encoded[j] = temp.transform(bands_train_grouped_encoded[j].astype(str))"
   ]
  },
  {
   "cell_type": "code",
   "execution_count": 33,
   "metadata": {},
   "outputs": [
    {
     "data": {
      "text/plain": [
       "OneHotEncoder(categorical_features=None, categories='auto',\n",
       "       dtype=<class 'numpy.float64'>, handle_unknown='ignore',\n",
       "       n_values=None, sparse=False)"
      ]
     },
     "execution_count": 33,
     "metadata": {},
     "output_type": "execute_result"
    }
   ],
   "source": [
    "score_bands_CHI2_one_hot_encoder = sk.preprocessing.OneHotEncoder(categories='auto',sparse=False,handle_unknown=\"ignore\")\n",
    "\n",
    "score_bands_CHI2_one_hot_encoder.fit(\n",
    "        bands_train_grouped_encoded[[\n",
    "                'cylinder', 'customer', 'grain', 'ink', 'proof', 'blade', 'cylinder1',\n",
    "    'paper', 'ink2', 'direct', 'solvent', 'type_cyl', 'press', 'cylinder2',\n",
    "    'paper2', 'caliper'\n",
    "\n",
    "        ]])"
   ]
  },
  {
   "cell_type": "code",
   "execution_count": 37,
   "metadata": {},
   "outputs": [],
   "source": [
    "bands_train_chi2 = score_bands_CHI2_one_hot_encoder.transform(bands_train_grouped_encoded.iloc[bands_features_train.index, :][[\n",
    "                'cylinder', 'customer', 'grain', 'ink', 'proof', 'blade', 'cylinder1',\n",
    "    'paper', 'ink2', 'direct', 'solvent', 'type_cyl', 'press', 'cylinder2',\n",
    "    'paper2', 'caliper']])\n"
   ]
  },
  {
   "cell_type": "code",
   "execution_count": 39,
   "metadata": {},
   "outputs": [],
   "source": [
    "bands_adhoc_train = np.concatenate((bands_train_chi2,bands_train_mdlp),axis=1)"
   ]
  },
  {
   "cell_type": "code",
   "execution_count": 40,
   "metadata": {},
   "outputs": [
    {
     "data": {
      "text/plain": [
       "LogisticRegression(C=1e+20, class_weight=None, dual=False, fit_intercept=True,\n",
       "          intercept_scaling=1, max_iter=100, multi_class='warn',\n",
       "          n_jobs=None, penalty='l2', random_state=None, solver='newton-cg',\n",
       "          tol=1e-08, verbose=0, warm_start=False)"
      ]
     },
     "execution_count": 40,
     "metadata": {},
     "output_type": "execute_result"
    }
   ],
   "source": [
    "bands_adhoc_LR = sk.linear_model.LogisticRegression(C=1e20, tol=1e-8, solver=\"newton-cg\")\n",
    "bands_adhoc_LR.fit(\n",
    "    bands_adhoc_train,\n",
    "    bands_train_grouped_encoded['band'])"
   ]
  },
  {
   "cell_type": "code",
   "execution_count": null,
   "metadata": {},
   "outputs": [],
   "source": [
    "bands_test_grouped = bands.iloc[bands_features_test.index, :].copy()\n",
    "\n",
    "for var in ['cylinder', 'customer', 'grain', 'ink', 'proof', 'blade', 'cylinder1',\n",
    "    'paper', 'ink2', 'direct', 'solvent', 'type_cyl', 'press', 'cylinder2',\n",
    "    'paper2', 'caliper']:\n",
    "    \n",
    "    bands_test_grouped[var] = bands_test_grouped[var].astype(str)\n",
    "\n",
    "    for x in d[var]:\n",
    "        if x.find(' - ')>-1:\n",
    "            liste_modalites = x.split(' - ')\n",
    "            bands_test_grouped[var].iloc[np.in1d(bands_test_grouped[var],liste_modalites)] = x\n",
    "        "
   ]
  },
  {
   "cell_type": "code",
   "execution_count": null,
   "metadata": {},
   "outputs": [],
   "source": [
    "bands_test_grouped_encoded = bands_test_grouped.copy()\n",
    "\n",
    "for j in ['cylinder', 'customer', 'grain', 'ink', 'proof', 'blade', 'cylinder1',\n",
    "    'paper', 'ink2', 'direct', 'solvent', 'type_cyl', 'press', 'cylinder2',\n",
    "    'paper2', 'caliper']:\n",
    "    indice = ['cylinder', 'customer', 'grain', 'ink', 'proof', 'blade', 'cylinder1',\n",
    "    'paper', 'ink2', 'direct', 'solvent', 'type_cyl', 'press', 'cylinder2',\n",
    "    'paper2', 'caliper'].index(j)\n",
    "    bands_test_grouped_encoded[j] = bands_train_grouped_label_encoders[indice].transform(bands_test_grouped_encoded[j].astype(str))\n",
    "    "
   ]
  },
  {
   "cell_type": "code",
   "execution_count": 41,
   "metadata": {},
   "outputs": [],
   "source": [
    "bands_test_chi2 = score_bands_CHI2_one_hot_encoder.transform(bands_grouped_encoded.iloc[bands_features_test.index, :][[\n",
    "                'cylinder', 'customer', 'grain', 'ink', 'proof', 'blade', 'cylinder1',\n",
    "    'paper', 'ink2', 'direct', 'solvent', 'type_cyl', 'press', 'cylinder2',\n",
    "    'paper2', 'caliper'\n",
    "\n",
    "        ]])"
   ]
  },
  {
   "cell_type": "code",
   "execution_count": 42,
   "metadata": {},
   "outputs": [],
   "source": [
    "bands_test_mdlp = score_bands_MDLP_one_hot_encoder.transform(\n",
    "    transformer_cont_bands.transform(bands_nn_features_test[[\n",
    "'press2', 'plating', 'proof2', 'viscosity', 'caliper', 'ink3', 'humifity',\n",
    "    'roughness', 'blade2', 'varnish', 'press3', 'ink4', 'solvent2', 'ESA',\n",
    "    'ESA2', 'wax', 'hardener', 'roller', 'current', 'anode', 'chrome'    ]]))"
   ]
  },
  {
   "cell_type": "code",
   "execution_count": 43,
   "metadata": {},
   "outputs": [],
   "source": [
    "bands_adhoc_test = np.concatenate(\n",
    "    (bands_test_chi2, bands_test_mdlp), axis=1)"
   ]
  },
  {
   "cell_type": "code",
   "execution_count": 44,
   "metadata": {},
   "outputs": [
    {
     "data": {
      "text/plain": [
       "(123, 48)"
      ]
     },
     "execution_count": 44,
     "metadata": {},
     "output_type": "execute_result"
    }
   ],
   "source": [
    "bands_adhoc_test.shape"
   ]
  },
  {
   "cell_type": "code",
   "execution_count": 45,
   "metadata": {},
   "outputs": [
    {
     "data": {
      "text/plain": [
       "(247, 48)"
      ]
     },
     "execution_count": 45,
     "metadata": {},
     "output_type": "execute_result"
    }
   ],
   "source": [
    "bands_adhoc_train.shape"
   ]
  },
  {
   "cell_type": "code",
   "execution_count": 46,
   "metadata": {},
   "outputs": [
    {
     "data": {
      "text/plain": [
       "0.4633333333333334"
      ]
     },
     "execution_count": 46,
     "metadata": {},
     "output_type": "execute_result"
    }
   ],
   "source": [
    "2 * sk.metrics.roc_auc_score(\n",
    "    bands_grouped_encoded.iloc[bands_features_test.index, :]\n",
    "              ['band'],\n",
    "    bands_adhoc_LR.predict_proba(bands_adhoc_test)[:, 1]) - 1"
   ]
  },
  {
   "cell_type": "code",
   "execution_count": 48,
   "metadata": {},
   "outputs": [
    {
     "name": "stdout",
     "output_type": "stream",
     "text": [
      "Gini: 0.4633333333333336\n",
      "AUC COV: 0.0020082882416991455\n",
      "95% Gini CI: [0.28766596 0.63900071]\n"
     ]
    }
   ],
   "source": [
    "alpha = .95\n",
    "y_pred = bands_adhoc_LR.predict_proba(bands_adhoc_test)[:, 1]\n",
    "y_true = bands_perf_test\n",
    "\n",
    "auc, auc_cov = delong_roc_variance(\n",
    "    y_true,\n",
    "    y_pred)\n",
    "\n",
    "auc_std = np.sqrt(auc_cov)\n",
    "lower_upper_q = np.abs(np.array([0, 1]) - (1 - alpha) / 2)\n",
    "\n",
    "ci = stats.norm.ppf(\n",
    "    lower_upper_q,\n",
    "    loc=auc,\n",
    "    scale=auc_std)\n",
    "\n",
    "ci[ci > 1] = 1\n",
    "\n",
    "print('Gini:', 2*auc-1)\n",
    "print('AUC COV:', auc_cov)\n",
    "print('95% Gini CI:', 2*ci-1)"
   ]
  }
 ],
 "metadata": {
  "accelerator": "GPU",
  "colab": {
   "collapsed_sections": [],
   "name": "ICLR 2019 - Additional material to 'Discretization and levels merging for logistic regression via shallow neural networks' Experiment Real Data.ipynb",
   "provenance": [],
   "version": "0.3.2"
  },
  "kernelspec": {
   "display_name": "Python 3",
   "language": "python",
   "name": "python3"
  },
  "language_info": {
   "codemirror_mode": {
    "name": "ipython",
    "version": 3
   },
   "file_extension": ".py",
   "mimetype": "text/x-python",
   "name": "python",
   "nbconvert_exporter": "python",
   "pygments_lexer": "ipython3",
   "version": "3.6.7"
  },
  "latex_envs": {
   "LaTeX_envs_menu_present": true,
   "autoclose": false,
   "autocomplete": true,
   "bibliofile": "biblio.bib",
   "cite_by": "apalike",
   "current_citInitial": 1,
   "eqLabelWithNumbers": true,
   "eqNumInitial": 1,
   "hotkeys": {
    "equation": "Ctrl-E",
    "itemize": "Ctrl-I"
   },
   "labels_anchors": false,
   "latex_user_defs": false,
   "report_style_numbering": false,
   "user_envs_cfg": false
  }
 },
 "nbformat": 4,
 "nbformat_minor": 1
}
